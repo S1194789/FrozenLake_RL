{
  "cells": [
    {
      "cell_type": "markdown",
      "id": "c16b7178-78e6-436a-b9c4-857ccf687157",
      "metadata": {
        "id": "c16b7178-78e6-436a-b9c4-857ccf687157"
      },
      "source": [
        "# *Imitation Learning with Behavior Cloning and DAGGER*\n",
        "In this notebook, we will explore *imitation learning* using behavior cloning and DAGGER.\n",
        "\n",
        "## *Objectives:*\n",
        "1. *Understand Behavior Cloning* – Train an agent using supervised learning from expert demonstrations.\n",
        "2. *Observe Covariate Shift* – Analyze the limitations of behavior cloning.\n",
        "3. *Implement DAGGER* – Improve the agent using expert corrections iteratively.\n",
        "4. *Visualize Performance* – Record videos of agent behavior.\n"
      ]
    },
    {
      "cell_type": "code",
      "execution_count": null,
      "id": "74bed705-b3bc-4247-9a0c-4052a0eeb569",
      "metadata": {
        "id": "74bed705-b3bc-4247-9a0c-4052a0eeb569"
      },
      "outputs": [],
      "source": [
        "# sudo apt install g++ swig\n"
      ]
    },
    {
      "cell_type": "code",
      "execution_count": null,
      "id": "50b3fcb2-dbde-4cbf-a8b9-f4d2bd820851",
      "metadata": {
        "id": "50b3fcb2-dbde-4cbf-a8b9-f4d2bd820851",
        "outputId": "32a14d8d-b902-4261-95f8-7656141645c6",
        "colab": {
          "base_uri": "https://localhost:8080/"
        }
      },
      "outputs": [
        {
          "output_type": "stream",
          "name": "stdout",
          "text": [
            "Requirement already satisfied: pip in /usr/local/lib/python3.11/dist-packages (25.0.1)\n",
            "Requirement already satisfied: setuptools in /usr/local/lib/python3.11/dist-packages (78.1.0)\n",
            "Requirement already satisfied: wheel in /usr/local/lib/python3.11/dist-packages (0.45.1)\n"
          ]
        }
      ],
      "source": [
        "!pip install --upgrade pip setuptools wheel"
      ]
    },
    {
      "cell_type": "code",
      "execution_count": null,
      "id": "93c4d119-a41b-4ef1-b2a0-f751ada4008c",
      "metadata": {
        "id": "93c4d119-a41b-4ef1-b2a0-f751ada4008c",
        "outputId": "fb6c8dde-de98-428d-da13-73ce79b995b6",
        "colab": {
          "base_uri": "https://localhost:8080/"
        }
      },
      "outputs": [
        {
          "output_type": "stream",
          "name": "stdout",
          "text": [
            "\r0% [Working]\r            \rGet:1 https://developer.download.nvidia.com/compute/cuda/repos/ubuntu2204/x86_64  InRelease [1,581 B]\n",
            "Get:2 https://cloud.r-project.org/bin/linux/ubuntu jammy-cran40/ InRelease [3,632 B]\n",
            "Get:3 https://developer.download.nvidia.com/compute/cuda/repos/ubuntu2204/x86_64  Packages [1,381 kB]\n",
            "Hit:4 http://archive.ubuntu.com/ubuntu jammy InRelease\n",
            "Get:5 https://r2u.stat.illinois.edu/ubuntu jammy InRelease [6,555 B]\n",
            "Get:6 http://security.ubuntu.com/ubuntu jammy-security InRelease [129 kB]\n",
            "Hit:7 https://ppa.launchpadcontent.net/deadsnakes/ppa/ubuntu jammy InRelease\n",
            "Get:8 http://archive.ubuntu.com/ubuntu jammy-updates InRelease [128 kB]\n",
            "Hit:9 https://ppa.launchpadcontent.net/graphics-drivers/ppa/ubuntu jammy InRelease\n",
            "Hit:10 https://ppa.launchpadcontent.net/ubuntugis/ppa/ubuntu jammy InRelease\n",
            "Get:11 https://r2u.stat.illinois.edu/ubuntu jammy/main amd64 Packages [2,684 kB]\n",
            "Get:12 https://r2u.stat.illinois.edu/ubuntu jammy/main all Packages [8,788 kB]\n",
            "Get:13 http://archive.ubuntu.com/ubuntu jammy-backports InRelease [127 kB]\n",
            "Get:14 http://security.ubuntu.com/ubuntu jammy-security/multiverse amd64 Packages [47.7 kB]\n",
            "Get:15 http://security.ubuntu.com/ubuntu jammy-security/main amd64 Packages [2,737 kB]\n",
            "Get:16 http://security.ubuntu.com/ubuntu jammy-security/restricted amd64 Packages [3,892 kB]\n",
            "Get:17 http://security.ubuntu.com/ubuntu jammy-security/universe amd64 Packages [1,239 kB]\n",
            "Get:18 http://archive.ubuntu.com/ubuntu jammy-updates/universe amd64 Packages [1,538 kB]\n",
            "Get:19 http://archive.ubuntu.com/ubuntu jammy-updates/multiverse amd64 Packages [55.7 kB]\n",
            "Get:20 http://archive.ubuntu.com/ubuntu jammy-updates/restricted amd64 Packages [4,049 kB]\n",
            "Get:21 http://archive.ubuntu.com/ubuntu jammy-updates/main amd64 Packages [3,045 kB]\n",
            "Get:22 http://archive.ubuntu.com/ubuntu jammy-backports/universe amd64 Packages [35.2 kB]\n",
            "Fetched 9,112 kB in 6s (1,531 kB/s)\n",
            "Reading package lists... Done\n",
            "W: Skipping acquire of configured file 'main/source/Sources' as repository 'https://r2u.stat.illinois.edu/ubuntu jammy InRelease' does not seem to provide it (sources.list entry misspelt?)\n",
            "Reading package lists... Done\n",
            "Building dependency tree... Done\n",
            "Reading state information... Done\n",
            "build-essential is already the newest version (12.9ubuntu3).\n",
            "swig is already the newest version (4.0.2-1ubuntu1).\n",
            "cmake is already the newest version (3.22.1-1ubuntu1.22.04.2).\n",
            "python3-dev is already the newest version (3.10.6-1~22.04.1).\n",
            "0 upgraded, 0 newly installed, 0 to remove and 41 not upgraded.\n",
            "Requirement already satisfied: gymnasium[box2d] in /usr/local/lib/python3.11/dist-packages (1.1.1)\n",
            "Requirement already satisfied: numpy>=1.21.0 in /usr/local/lib/python3.11/dist-packages (from gymnasium[box2d]) (2.0.2)\n",
            "Requirement already satisfied: cloudpickle>=1.2.0 in /usr/local/lib/python3.11/dist-packages (from gymnasium[box2d]) (3.1.1)\n",
            "Requirement already satisfied: typing-extensions>=4.3.0 in /usr/local/lib/python3.11/dist-packages (from gymnasium[box2d]) (4.12.2)\n",
            "Requirement already satisfied: farama-notifications>=0.0.1 in /usr/local/lib/python3.11/dist-packages (from gymnasium[box2d]) (0.0.4)\n",
            "Collecting box2d-py==2.3.5 (from gymnasium[box2d])\n",
            "  Downloading box2d-py-2.3.5.tar.gz (374 kB)\n",
            "  Preparing metadata (setup.py) ... \u001b[?25l\u001b[?25hdone\n",
            "Requirement already satisfied: pygame>=2.1.3 in /usr/local/lib/python3.11/dist-packages (from gymnasium[box2d]) (2.6.1)\n",
            "Collecting swig==4.* (from gymnasium[box2d])\n",
            "  Downloading swig-4.3.0-py2.py3-none-manylinux_2_5_x86_64.manylinux1_x86_64.whl.metadata (3.5 kB)\n",
            "Downloading swig-4.3.0-py2.py3-none-manylinux_2_5_x86_64.manylinux1_x86_64.whl (1.9 MB)\n",
            "\u001b[2K   \u001b[90m━━━━━━━━━━━━━━━━━━━━━━━━━━━━━━━━━━━━━━━━\u001b[0m \u001b[32m1.9/1.9 MB\u001b[0m \u001b[31m56.5 MB/s\u001b[0m eta \u001b[36m0:00:00\u001b[0m\n",
            "\u001b[?25hBuilding wheels for collected packages: box2d-py\n",
            "  Building wheel for box2d-py (setup.py) ... \u001b[?25l\u001b[?25hdone\n",
            "  Created wheel for box2d-py: filename=box2d_py-2.3.5-cp311-cp311-linux_x86_64.whl size=2351251 sha256=7bba1d592726230bf5128bc371c493356ca680cc181a28f2219acb417412e105\n",
            "  Stored in directory: /root/.cache/pip/wheels/ab/f1/0c/d56f4a2bdd12bae0a0693ec33f2f0daadb5eb9753c78fa5308\n",
            "Successfully built box2d-py\n",
            "Installing collected packages: swig, box2d-py\n",
            "Successfully installed box2d-py-2.3.5 swig-4.3.0\n"
          ]
        }
      ],
      "source": [
        "\n",
        "!apt-get update\n",
        "!apt-get install -y swig cmake build-essential python3-dev\n",
        "!pip install gymnasium[box2d]\n"
      ]
    },
    {
      "cell_type": "code",
      "execution_count": null,
      "id": "9d712d81-8d41-42a5-929f-2899671425d2",
      "metadata": {
        "id": "9d712d81-8d41-42a5-929f-2899671425d2"
      },
      "outputs": [],
      "source": [
        "import gymnasium as gym\n",
        "import numpy as np\n",
        "import torch\n",
        "import torch.nn as nn\n",
        "import torch.optim as optim\n",
        "from collections import deque\n",
        "from torch.distributions import Categorical\n",
        "import matplotlib.pyplot as plt\n",
        "from tqdm import tqdm\n"
      ]
    },
    {
      "cell_type": "markdown",
      "id": "c52c3ee8-cc4a-49e1-a61d-739e98b44b32",
      "metadata": {
        "id": "c52c3ee8-cc4a-49e1-a61d-739e98b44b32"
      },
      "source": [
        "## *Environment Setup*\n",
        "In this section, we will set up the *LunarLander-v3* environment using the Gymnasium library. Our goal is to create a simulation environment where agents can receive observations and reward signals. We will initialize the environment, define observation and action spaces, and prepare it for both training and data generation."
      ]
    },
    {
      "cell_type": "code",
      "execution_count": null,
      "id": "8915b4e8-e07e-4a13-9857-cc5c23ac9723",
      "metadata": {
        "id": "8915b4e8-e07e-4a13-9857-cc5c23ac9723"
      },
      "outputs": [],
      "source": [
        "# Part 1: Environment Setup\n",
        "\n",
        "# Initialize the Lunar Lander environment\n",
        "env = gym.make(\"LunarLander-v3\", render_mode=\"human\")"
      ]
    },
    {
      "cell_type": "code",
      "source": [
        "!pip install stable-baselines3[extra]\n"
      ],
      "metadata": {
        "colab": {
          "base_uri": "https://localhost:8080/"
        },
        "id": "kwAjk6cx_3Du",
        "outputId": "4ec51bd6-91cb-4876-988b-378df7b6fe95"
      },
      "id": "kwAjk6cx_3Du",
      "execution_count": null,
      "outputs": [
        {
          "output_type": "stream",
          "name": "stdout",
          "text": [
            "Collecting stable-baselines3[extra]\n",
            "  Downloading stable_baselines3-2.6.0-py3-none-any.whl.metadata (4.8 kB)\n",
            "Requirement already satisfied: gymnasium<1.2.0,>=0.29.1 in /usr/local/lib/python3.11/dist-packages (from stable-baselines3[extra]) (1.1.1)\n",
            "Requirement already satisfied: numpy<3.0,>=1.20 in /usr/local/lib/python3.11/dist-packages (from stable-baselines3[extra]) (2.0.2)\n",
            "Requirement already satisfied: torch<3.0,>=2.3 in /usr/local/lib/python3.11/dist-packages (from stable-baselines3[extra]) (2.6.0+cu124)\n",
            "Requirement already satisfied: cloudpickle in /usr/local/lib/python3.11/dist-packages (from stable-baselines3[extra]) (3.1.1)\n",
            "Requirement already satisfied: pandas in /usr/local/lib/python3.11/dist-packages (from stable-baselines3[extra]) (2.2.2)\n",
            "Requirement already satisfied: matplotlib in /usr/local/lib/python3.11/dist-packages (from stable-baselines3[extra]) (3.10.0)\n",
            "Requirement already satisfied: opencv-python in /usr/local/lib/python3.11/dist-packages (from stable-baselines3[extra]) (4.11.0.86)\n",
            "Requirement already satisfied: pygame in /usr/local/lib/python3.11/dist-packages (from stable-baselines3[extra]) (2.6.1)\n",
            "Requirement already satisfied: tensorboard>=2.9.1 in /usr/local/lib/python3.11/dist-packages (from stable-baselines3[extra]) (2.18.0)\n",
            "Requirement already satisfied: psutil in /usr/local/lib/python3.11/dist-packages (from stable-baselines3[extra]) (5.9.5)\n",
            "Requirement already satisfied: tqdm in /usr/local/lib/python3.11/dist-packages (from stable-baselines3[extra]) (4.67.1)\n",
            "Requirement already satisfied: rich in /usr/local/lib/python3.11/dist-packages (from stable-baselines3[extra]) (13.9.4)\n",
            "Requirement already satisfied: ale-py>=0.9.0 in /usr/local/lib/python3.11/dist-packages (from stable-baselines3[extra]) (0.10.2)\n",
            "Requirement already satisfied: pillow in /usr/local/lib/python3.11/dist-packages (from stable-baselines3[extra]) (11.1.0)\n",
            "Requirement already satisfied: typing-extensions>=4.3.0 in /usr/local/lib/python3.11/dist-packages (from gymnasium<1.2.0,>=0.29.1->stable-baselines3[extra]) (4.12.2)\n",
            "Requirement already satisfied: farama-notifications>=0.0.1 in /usr/local/lib/python3.11/dist-packages (from gymnasium<1.2.0,>=0.29.1->stable-baselines3[extra]) (0.0.4)\n",
            "Requirement already satisfied: absl-py>=0.4 in /usr/local/lib/python3.11/dist-packages (from tensorboard>=2.9.1->stable-baselines3[extra]) (1.4.0)\n",
            "Requirement already satisfied: grpcio>=1.48.2 in /usr/local/lib/python3.11/dist-packages (from tensorboard>=2.9.1->stable-baselines3[extra]) (1.71.0)\n",
            "Requirement already satisfied: markdown>=2.6.8 in /usr/local/lib/python3.11/dist-packages (from tensorboard>=2.9.1->stable-baselines3[extra]) (3.7)\n",
            "Requirement already satisfied: packaging in /usr/local/lib/python3.11/dist-packages (from tensorboard>=2.9.1->stable-baselines3[extra]) (24.2)\n",
            "Requirement already satisfied: protobuf!=4.24.0,>=3.19.6 in /usr/local/lib/python3.11/dist-packages (from tensorboard>=2.9.1->stable-baselines3[extra]) (5.29.4)\n",
            "Requirement already satisfied: setuptools>=41.0.0 in /usr/local/lib/python3.11/dist-packages (from tensorboard>=2.9.1->stable-baselines3[extra]) (78.1.0)\n",
            "Requirement already satisfied: six>1.9 in /usr/local/lib/python3.11/dist-packages (from tensorboard>=2.9.1->stable-baselines3[extra]) (1.17.0)\n",
            "Requirement already satisfied: tensorboard-data-server<0.8.0,>=0.7.0 in /usr/local/lib/python3.11/dist-packages (from tensorboard>=2.9.1->stable-baselines3[extra]) (0.7.2)\n",
            "Requirement already satisfied: werkzeug>=1.0.1 in /usr/local/lib/python3.11/dist-packages (from tensorboard>=2.9.1->stable-baselines3[extra]) (3.1.3)\n",
            "Requirement already satisfied: filelock in /usr/local/lib/python3.11/dist-packages (from torch<3.0,>=2.3->stable-baselines3[extra]) (3.18.0)\n",
            "Requirement already satisfied: networkx in /usr/local/lib/python3.11/dist-packages (from torch<3.0,>=2.3->stable-baselines3[extra]) (3.4.2)\n",
            "Requirement already satisfied: jinja2 in /usr/local/lib/python3.11/dist-packages (from torch<3.0,>=2.3->stable-baselines3[extra]) (3.1.6)\n",
            "Requirement already satisfied: fsspec in /usr/local/lib/python3.11/dist-packages (from torch<3.0,>=2.3->stable-baselines3[extra]) (2025.3.0)\n",
            "Collecting nvidia-cuda-nvrtc-cu12==12.4.127 (from torch<3.0,>=2.3->stable-baselines3[extra])\n",
            "  Downloading nvidia_cuda_nvrtc_cu12-12.4.127-py3-none-manylinux2014_x86_64.whl.metadata (1.5 kB)\n",
            "Collecting nvidia-cuda-runtime-cu12==12.4.127 (from torch<3.0,>=2.3->stable-baselines3[extra])\n",
            "  Downloading nvidia_cuda_runtime_cu12-12.4.127-py3-none-manylinux2014_x86_64.whl.metadata (1.5 kB)\n",
            "Collecting nvidia-cuda-cupti-cu12==12.4.127 (from torch<3.0,>=2.3->stable-baselines3[extra])\n",
            "  Downloading nvidia_cuda_cupti_cu12-12.4.127-py3-none-manylinux2014_x86_64.whl.metadata (1.6 kB)\n",
            "Collecting nvidia-cudnn-cu12==9.1.0.70 (from torch<3.0,>=2.3->stable-baselines3[extra])\n",
            "  Downloading nvidia_cudnn_cu12-9.1.0.70-py3-none-manylinux2014_x86_64.whl.metadata (1.6 kB)\n",
            "Collecting nvidia-cublas-cu12==12.4.5.8 (from torch<3.0,>=2.3->stable-baselines3[extra])\n",
            "  Downloading nvidia_cublas_cu12-12.4.5.8-py3-none-manylinux2014_x86_64.whl.metadata (1.5 kB)\n",
            "Collecting nvidia-cufft-cu12==11.2.1.3 (from torch<3.0,>=2.3->stable-baselines3[extra])\n",
            "  Downloading nvidia_cufft_cu12-11.2.1.3-py3-none-manylinux2014_x86_64.whl.metadata (1.5 kB)\n",
            "Collecting nvidia-curand-cu12==10.3.5.147 (from torch<3.0,>=2.3->stable-baselines3[extra])\n",
            "  Downloading nvidia_curand_cu12-10.3.5.147-py3-none-manylinux2014_x86_64.whl.metadata (1.5 kB)\n",
            "Collecting nvidia-cusolver-cu12==11.6.1.9 (from torch<3.0,>=2.3->stable-baselines3[extra])\n",
            "  Downloading nvidia_cusolver_cu12-11.6.1.9-py3-none-manylinux2014_x86_64.whl.metadata (1.6 kB)\n",
            "Collecting nvidia-cusparse-cu12==12.3.1.170 (from torch<3.0,>=2.3->stable-baselines3[extra])\n",
            "  Downloading nvidia_cusparse_cu12-12.3.1.170-py3-none-manylinux2014_x86_64.whl.metadata (1.6 kB)\n",
            "Requirement already satisfied: nvidia-cusparselt-cu12==0.6.2 in /usr/local/lib/python3.11/dist-packages (from torch<3.0,>=2.3->stable-baselines3[extra]) (0.6.2)\n",
            "Requirement already satisfied: nvidia-nccl-cu12==2.21.5 in /usr/local/lib/python3.11/dist-packages (from torch<3.0,>=2.3->stable-baselines3[extra]) (2.21.5)\n",
            "Requirement already satisfied: nvidia-nvtx-cu12==12.4.127 in /usr/local/lib/python3.11/dist-packages (from torch<3.0,>=2.3->stable-baselines3[extra]) (12.4.127)\n",
            "Collecting nvidia-nvjitlink-cu12==12.4.127 (from torch<3.0,>=2.3->stable-baselines3[extra])\n",
            "  Downloading nvidia_nvjitlink_cu12-12.4.127-py3-none-manylinux2014_x86_64.whl.metadata (1.5 kB)\n",
            "Requirement already satisfied: triton==3.2.0 in /usr/local/lib/python3.11/dist-packages (from torch<3.0,>=2.3->stable-baselines3[extra]) (3.2.0)\n",
            "Requirement already satisfied: sympy==1.13.1 in /usr/local/lib/python3.11/dist-packages (from torch<3.0,>=2.3->stable-baselines3[extra]) (1.13.1)\n",
            "Requirement already satisfied: mpmath<1.4,>=1.1.0 in /usr/local/lib/python3.11/dist-packages (from sympy==1.13.1->torch<3.0,>=2.3->stable-baselines3[extra]) (1.3.0)\n",
            "Requirement already satisfied: contourpy>=1.0.1 in /usr/local/lib/python3.11/dist-packages (from matplotlib->stable-baselines3[extra]) (1.3.1)\n",
            "Requirement already satisfied: cycler>=0.10 in /usr/local/lib/python3.11/dist-packages (from matplotlib->stable-baselines3[extra]) (0.12.1)\n",
            "Requirement already satisfied: fonttools>=4.22.0 in /usr/local/lib/python3.11/dist-packages (from matplotlib->stable-baselines3[extra]) (4.56.0)\n",
            "Requirement already satisfied: kiwisolver>=1.3.1 in /usr/local/lib/python3.11/dist-packages (from matplotlib->stable-baselines3[extra]) (1.4.8)\n",
            "Requirement already satisfied: pyparsing>=2.3.1 in /usr/local/lib/python3.11/dist-packages (from matplotlib->stable-baselines3[extra]) (3.2.1)\n",
            "Requirement already satisfied: python-dateutil>=2.7 in /usr/local/lib/python3.11/dist-packages (from matplotlib->stable-baselines3[extra]) (2.8.2)\n",
            "Requirement already satisfied: pytz>=2020.1 in /usr/local/lib/python3.11/dist-packages (from pandas->stable-baselines3[extra]) (2025.1)\n",
            "Requirement already satisfied: tzdata>=2022.7 in /usr/local/lib/python3.11/dist-packages (from pandas->stable-baselines3[extra]) (2025.1)\n",
            "Requirement already satisfied: markdown-it-py>=2.2.0 in /usr/local/lib/python3.11/dist-packages (from rich->stable-baselines3[extra]) (3.0.0)\n",
            "Requirement already satisfied: pygments<3.0.0,>=2.13.0 in /usr/local/lib/python3.11/dist-packages (from rich->stable-baselines3[extra]) (2.18.0)\n",
            "Requirement already satisfied: mdurl~=0.1 in /usr/local/lib/python3.11/dist-packages (from markdown-it-py>=2.2.0->rich->stable-baselines3[extra]) (0.1.2)\n",
            "Requirement already satisfied: MarkupSafe>=2.1.1 in /usr/local/lib/python3.11/dist-packages (from werkzeug>=1.0.1->tensorboard>=2.9.1->stable-baselines3[extra]) (3.0.2)\n",
            "Downloading nvidia_cublas_cu12-12.4.5.8-py3-none-manylinux2014_x86_64.whl (363.4 MB)\n",
            "\u001b[2K   \u001b[90m━━━━━━━━━━━━━━━━━━━━━━━━━━━━━━━━━━━━━━━━\u001b[0m \u001b[32m363.4/363.4 MB\u001b[0m \u001b[31m48.2 MB/s\u001b[0m eta \u001b[36m0:00:00\u001b[0m\n",
            "\u001b[?25hDownloading nvidia_cuda_cupti_cu12-12.4.127-py3-none-manylinux2014_x86_64.whl (13.8 MB)\n",
            "\u001b[2K   \u001b[90m━━━━━━━━━━━━━━━━━━━━━━━━━━━━━━━━━━━━━━━━\u001b[0m \u001b[32m13.8/13.8 MB\u001b[0m \u001b[31m68.2 MB/s\u001b[0m eta \u001b[36m0:00:00\u001b[0m\n",
            "\u001b[?25hDownloading nvidia_cuda_nvrtc_cu12-12.4.127-py3-none-manylinux2014_x86_64.whl (24.6 MB)\n",
            "\u001b[2K   \u001b[90m━━━━━━━━━━━━━━━━━━━━━━━━━━━━━━━━━━━━━━━━\u001b[0m \u001b[32m24.6/24.6 MB\u001b[0m \u001b[31m86.9 MB/s\u001b[0m eta \u001b[36m0:00:00\u001b[0m\n",
            "\u001b[?25hDownloading nvidia_cuda_runtime_cu12-12.4.127-py3-none-manylinux2014_x86_64.whl (883 kB)\n",
            "\u001b[2K   \u001b[90m━━━━━━━━━━━━━━━━━━━━━━━━━━━━━━━━━━━━━━━━\u001b[0m \u001b[32m883.7/883.7 kB\u001b[0m \u001b[31m31.8 MB/s\u001b[0m eta \u001b[36m0:00:00\u001b[0m\n",
            "\u001b[?25hDownloading nvidia_cudnn_cu12-9.1.0.70-py3-none-manylinux2014_x86_64.whl (664.8 MB)\n",
            "\u001b[2K   \u001b[90m━━━━━━━━━━━━━━━━━━━━━━━━━━━━━━━━━━━━━━━━\u001b[0m \u001b[32m664.8/664.8 MB\u001b[0m \u001b[31m22.2 MB/s\u001b[0m eta \u001b[36m0:00:00\u001b[0m\n",
            "\u001b[?25hDownloading nvidia_cufft_cu12-11.2.1.3-py3-none-manylinux2014_x86_64.whl (211.5 MB)\n",
            "\u001b[2K   \u001b[90m━━━━━━━━━━━━━━━━━━━━━━━━━━━━━━━━━━━━━━━━\u001b[0m \u001b[32m211.5/211.5 MB\u001b[0m \u001b[31m56.2 MB/s\u001b[0m eta \u001b[36m0:00:00\u001b[0m\n",
            "\u001b[?25hDownloading nvidia_curand_cu12-10.3.5.147-py3-none-manylinux2014_x86_64.whl (56.3 MB)\n",
            "\u001b[2K   \u001b[90m━━━━━━━━━━━━━━━━━━━━━━━━━━━━━━━━━━━━━━━━\u001b[0m \u001b[32m56.3/56.3 MB\u001b[0m \u001b[31m43.8 MB/s\u001b[0m eta \u001b[36m0:00:00\u001b[0m\n",
            "\u001b[?25hDownloading nvidia_cusolver_cu12-11.6.1.9-py3-none-manylinux2014_x86_64.whl (127.9 MB)\n",
            "\u001b[2K   \u001b[90m━━━━━━━━━━━━━━━━━━━━━━━━━━━━━━━━━━━━━━━━\u001b[0m \u001b[32m127.9/127.9 MB\u001b[0m \u001b[31m56.2 MB/s\u001b[0m eta \u001b[36m0:00:00\u001b[0m\n",
            "\u001b[?25hDownloading nvidia_cusparse_cu12-12.3.1.170-py3-none-manylinux2014_x86_64.whl (207.5 MB)\n",
            "\u001b[2K   \u001b[90m━━━━━━━━━━━━━━━━━━━━━━━━━━━━━━━━━━━━━━━━\u001b[0m \u001b[32m207.5/207.5 MB\u001b[0m \u001b[31m61.6 MB/s\u001b[0m eta \u001b[36m0:00:00\u001b[0m\n",
            "\u001b[?25hDownloading nvidia_nvjitlink_cu12-12.4.127-py3-none-manylinux2014_x86_64.whl (21.1 MB)\n",
            "\u001b[2K   \u001b[90m━━━━━━━━━━━━━━━━━━━━━━━━━━━━━━━━━━━━━━━━\u001b[0m \u001b[32m21.1/21.1 MB\u001b[0m \u001b[31m91.2 MB/s\u001b[0m eta \u001b[36m0:00:00\u001b[0m\n",
            "\u001b[?25hDownloading stable_baselines3-2.6.0-py3-none-any.whl (184 kB)\n",
            "Installing collected packages: nvidia-nvjitlink-cu12, nvidia-curand-cu12, nvidia-cufft-cu12, nvidia-cuda-runtime-cu12, nvidia-cuda-nvrtc-cu12, nvidia-cuda-cupti-cu12, nvidia-cublas-cu12, nvidia-cusparse-cu12, nvidia-cudnn-cu12, nvidia-cusolver-cu12, stable-baselines3\n",
            "  Attempting uninstall: nvidia-nvjitlink-cu12\n",
            "    Found existing installation: nvidia-nvjitlink-cu12 12.5.82\n",
            "    Uninstalling nvidia-nvjitlink-cu12-12.5.82:\n",
            "      Successfully uninstalled nvidia-nvjitlink-cu12-12.5.82\n",
            "  Attempting uninstall: nvidia-curand-cu12\n",
            "    Found existing installation: nvidia-curand-cu12 10.3.6.82\n",
            "    Uninstalling nvidia-curand-cu12-10.3.6.82:\n",
            "      Successfully uninstalled nvidia-curand-cu12-10.3.6.82\n",
            "  Attempting uninstall: nvidia-cufft-cu12\n",
            "    Found existing installation: nvidia-cufft-cu12 11.2.3.61\n",
            "    Uninstalling nvidia-cufft-cu12-11.2.3.61:\n",
            "      Successfully uninstalled nvidia-cufft-cu12-11.2.3.61\n",
            "  Attempting uninstall: nvidia-cuda-runtime-cu12\n",
            "    Found existing installation: nvidia-cuda-runtime-cu12 12.5.82\n",
            "    Uninstalling nvidia-cuda-runtime-cu12-12.5.82:\n",
            "      Successfully uninstalled nvidia-cuda-runtime-cu12-12.5.82\n",
            "  Attempting uninstall: nvidia-cuda-nvrtc-cu12\n",
            "    Found existing installation: nvidia-cuda-nvrtc-cu12 12.5.82\n",
            "    Uninstalling nvidia-cuda-nvrtc-cu12-12.5.82:\n",
            "      Successfully uninstalled nvidia-cuda-nvrtc-cu12-12.5.82\n",
            "  Attempting uninstall: nvidia-cuda-cupti-cu12\n",
            "    Found existing installation: nvidia-cuda-cupti-cu12 12.5.82\n",
            "    Uninstalling nvidia-cuda-cupti-cu12-12.5.82:\n",
            "      Successfully uninstalled nvidia-cuda-cupti-cu12-12.5.82\n",
            "  Attempting uninstall: nvidia-cublas-cu12\n",
            "    Found existing installation: nvidia-cublas-cu12 12.5.3.2\n",
            "    Uninstalling nvidia-cublas-cu12-12.5.3.2:\n",
            "      Successfully uninstalled nvidia-cublas-cu12-12.5.3.2\n",
            "  Attempting uninstall: nvidia-cusparse-cu12\n",
            "    Found existing installation: nvidia-cusparse-cu12 12.5.1.3\n",
            "    Uninstalling nvidia-cusparse-cu12-12.5.1.3:\n",
            "      Successfully uninstalled nvidia-cusparse-cu12-12.5.1.3\n",
            "  Attempting uninstall: nvidia-cudnn-cu12\n",
            "    Found existing installation: nvidia-cudnn-cu12 9.3.0.75\n",
            "    Uninstalling nvidia-cudnn-cu12-9.3.0.75:\n",
            "      Successfully uninstalled nvidia-cudnn-cu12-9.3.0.75\n",
            "  Attempting uninstall: nvidia-cusolver-cu12\n",
            "    Found existing installation: nvidia-cusolver-cu12 11.6.3.83\n",
            "    Uninstalling nvidia-cusolver-cu12-11.6.3.83:\n",
            "      Successfully uninstalled nvidia-cusolver-cu12-11.6.3.83\n",
            "Successfully installed nvidia-cublas-cu12-12.4.5.8 nvidia-cuda-cupti-cu12-12.4.127 nvidia-cuda-nvrtc-cu12-12.4.127 nvidia-cuda-runtime-cu12-12.4.127 nvidia-cudnn-cu12-9.1.0.70 nvidia-cufft-cu12-11.2.1.3 nvidia-curand-cu12-10.3.5.147 nvidia-cusolver-cu12-11.6.1.9 nvidia-cusparse-cu12-12.3.1.170 nvidia-nvjitlink-cu12-12.4.127 stable-baselines3-2.6.0\n"
          ]
        }
      ]
    },
    {
      "cell_type": "markdown",
      "id": "31ceffdb-4026-4c0d-990c-718c71278ba2",
      "metadata": {
        "id": "31ceffdb-4026-4c0d-990c-718c71278ba2"
      },
      "source": [
        "## Generating Expert Data (using an expert policy)\n",
        "Here, we focus on generating expert data by executing an expert policy in the Lunar Lander environment. The expert policy will demonstrate optimal behavior, and we will collect trajectories (states, actions, rewards) as it interacts with the environment. This data will serve as a benchmark for training our imitation learning model.\n",
        "\n"
      ]
    },
    {
      "cell_type": "code",
      "execution_count": null,
      "id": "a5e2ae99-65a5-4b45-b012-b813e7cea2a8",
      "metadata": {
        "id": "a5e2ae99-65a5-4b45-b012-b813e7cea2a8"
      },
      "outputs": [],
      "source": [
        "# Part 2: Generating Expert Data\n",
        "from stable_baselines3 import PPO\n",
        "from tqdm import tqdm\n",
        "\n",
        "\n",
        "def generate_expert_data(env, expert_policy_path, num_episodes=10):\n",
        "    \"\"\"Generate expert data using a given policy.\"\"\"\n",
        "\n",
        "    expert_policy = PPO.load(expert_policy_path)\n",
        "\n",
        "    data = []\n",
        "    for _ in tqdm(range(num_episodes)):\n",
        "        state, _ = env.reset()\n",
        "        done = False\n",
        "        while not done:\n",
        "            action, _ = expert_policy.predict(state)\n",
        "            data.append((state, action))\n",
        "            state, _, done, _, _ = env.step(action)\n",
        "    return data\n",
        "\n"
      ]
    },
    {
      "cell_type": "code",
      "source": [
        "from google.colab import drive\n",
        "drive.mount('/content/drive')"
      ],
      "metadata": {
        "colab": {
          "base_uri": "https://localhost:8080/"
        },
        "id": "slQ5gdF2AcTK",
        "outputId": "50cc1c11-eb80-4939-eed6-aa9bc7e540cb"
      },
      "id": "slQ5gdF2AcTK",
      "execution_count": null,
      "outputs": [
        {
          "output_type": "stream",
          "name": "stdout",
          "text": [
            "Mounted at /content/drive\n"
          ]
        }
      ]
    },
    {
      "cell_type": "code",
      "execution_count": null,
      "id": "50ce4b44-6e2e-4123-9b5c-6dd9fefe096e",
      "metadata": {
        "id": "50ce4b44-6e2e-4123-9b5c-6dd9fefe096e",
        "outputId": "1b395add-5d49-415d-95b4-f9e0d8ca66c7",
        "colab": {
          "base_uri": "https://localhost:8080/"
        }
      },
      "outputs": [
        {
          "output_type": "stream",
          "name": "stderr",
          "text": [
            "/usr/local/lib/python3.11/dist-packages/stable_baselines3/common/save_util.py:165: DeprecationWarning: numpy.core.numeric is deprecated and has been renamed to numpy._core.numeric. The numpy._core namespace contains private NumPy internals and its use is discouraged, as NumPy internals can change without warning in any release. In practice, most real-world usage of numpy.core is to access functionality in the public NumPy API. If that is the case, use the public NumPy API. If not, you are using NumPy internals. If you would still like to access an internal attribute, use numpy._core.numeric._frombuffer.\n",
            "  deserialized_object = cloudpickle.loads(base64_object)\n",
            "/usr/local/lib/python3.11/dist-packages/stable_baselines3/common/save_util.py:167: UserWarning: Could not deserialize object clip_range. Consider using `custom_objects` argument to replace this object.\n",
            "Exception: code() argument 13 must be str, not int\n",
            "  warnings.warn(\n",
            "/usr/local/lib/python3.11/dist-packages/stable_baselines3/common/save_util.py:167: UserWarning: Could not deserialize object lr_schedule. Consider using `custom_objects` argument to replace this object.\n",
            "Exception: code() argument 13 must be str, not int\n",
            "  warnings.warn(\n",
            "/usr/local/lib/python3.11/dist-packages/stable_baselines3/common/on_policy_algorithm.py:150: UserWarning: You are trying to run PPO on the GPU, but it is primarily intended to run on the CPU when not using a CNN policy (you are using ActorCriticPolicy which should be a MlpPolicy). See https://github.com/DLR-RM/stable-baselines3/issues/1245 for more info. You can pass `device='cpu'` or `export CUDA_VISIBLE_DEVICES=` to force using the CPU.Note: The model will train, but the GPU utilization will be poor and the training might take longer than on CPU.\n",
            "  warnings.warn(\n",
            "100%|██████████| 10/10 [00:37<00:00,  3.77s/it]\n"
          ]
        }
      ],
      "source": [
        "# Collect the expert data\n",
        "expert_data = generate_expert_data(env, expert_policy_path=\"/content/drive/MyDrive/Mir/ppo_lunarlander_v1 (1).zip\")"
      ]
    },
    {
      "cell_type": "markdown",
      "id": "34e30623-46a6-4e08-9b59-29f716a83f1e",
      "metadata": {
        "id": "34e30623-46a6-4e08-9b59-29f716a83f1e"
      },
      "source": [
        "## Prepare and Train using Behavioral Cloning\n",
        "In this segment, we will prepare our data for training a machine learning model using Behavioral Cloning. This involves preprocessing the collected expert data and training a model to mimic the expert policy. The model will learn to map observations directly to actions, emulating the expert's decision-making process."
      ]
    },
    {
      "cell_type": "code",
      "execution_count": null,
      "id": "f42925d5-5749-4823-88be-6e9c49877e59",
      "metadata": {
        "id": "f42925d5-5749-4823-88be-6e9c49877e59"
      },
      "outputs": [],
      "source": [
        "# Prepare dataset\n",
        "X_train = np.array([x[0] for x in expert_data])\n",
        "y_train = np.array([x[1] for x in expert_data])\n"
      ]
    },
    {
      "cell_type": "code",
      "execution_count": null,
      "id": "adeacd9b-3543-4636-b1e7-526dd43ad52e",
      "metadata": {
        "id": "adeacd9b-3543-4636-b1e7-526dd43ad52e"
      },
      "outputs": [],
      "source": [
        "# Part 3: Defining the Imitation Learning Model\n",
        "\n",
        "class ImitationNetwork(nn.Module):\n",
        "    def __init__(self, input_dim, output_dim):\n",
        "        super(ImitationNetwork, self).__init__()\n",
        "        self.network = nn.Sequential(\n",
        "            nn.Linear(input_dim, 128),\n",
        "            nn.ReLU(),\n",
        "            nn.Linear(128, 64),\n",
        "            nn.ReLU(),\n",
        "            nn.Linear(64, output_dim),\n",
        "            nn.Softmax(dim=-1)\n",
        "        )\n",
        "\n",
        "    def forward(self, x):\n",
        "        return self.network(x)"
      ]
    },
    {
      "cell_type": "code",
      "execution_count": null,
      "id": "70411a3f-f9b0-4b2a-b0fd-fc19b7e6adb0",
      "metadata": {
        "id": "70411a3f-f9b0-4b2a-b0fd-fc19b7e6adb0"
      },
      "outputs": [],
      "source": [
        "# Instantiate the model\n",
        "input_dim = X_train.shape[1]\n",
        "output_dim = 4  # One for each action in LunarLander\n",
        "model = ImitationNetwork(input_dim, output_dim).to('cuda')"
      ]
    },
    {
      "cell_type": "code",
      "execution_count": null,
      "id": "1b8226ca-6c31-47cb-99a7-b971671a1f00",
      "metadata": {
        "id": "1b8226ca-6c31-47cb-99a7-b971671a1f00"
      },
      "outputs": [],
      "source": [
        "# Part 4: Training Behavior Cloning Model\n"
      ]
    },
    {
      "cell_type": "code",
      "execution_count": null,
      "id": "233837c1-b104-4234-b6e9-dde7dc6af8f9",
      "metadata": {
        "id": "233837c1-b104-4234-b6e9-dde7dc6af8f9"
      },
      "outputs": [],
      "source": [
        "\n",
        "# Convert dataset to PyTorch tensors\n",
        "X_train_tensor = torch.FloatTensor(X_train).to('cuda')\n",
        "y_train_tensor = torch.LongTensor(y_train).to('cuda')\n"
      ]
    },
    {
      "cell_type": "code",
      "execution_count": null,
      "id": "2fdb2f1e-8a42-43e8-b86e-de309f9800d8",
      "metadata": {
        "id": "2fdb2f1e-8a42-43e8-b86e-de309f9800d8"
      },
      "outputs": [],
      "source": [
        "\n",
        "# Define loss function and optimizer\n",
        "criterion = nn.CrossEntropyLoss()\n",
        "optimizer = optim.Adam(model.parameters(), lr=1e-3)"
      ]
    },
    {
      "cell_type": "code",
      "execution_count": null,
      "id": "2b9d9d7b-f035-42c3-9559-60c77c2e3478",
      "metadata": {
        "id": "2b9d9d7b-f035-42c3-9559-60c77c2e3478",
        "outputId": "447567ed-d785-4331-975b-379a369c8604",
        "colab": {
          "base_uri": "https://localhost:8080/"
        }
      },
      "outputs": [
        {
          "output_type": "stream",
          "name": "stdout",
          "text": [
            "Epoch [100/1000], Loss: 0.9903\n",
            "Epoch [200/1000], Loss: 1.0016\n",
            "Epoch [300/1000], Loss: 0.9451\n",
            "Epoch [400/1000], Loss: 1.0490\n",
            "Epoch [500/1000], Loss: 0.8692\n",
            "Epoch [600/1000], Loss: 0.9126\n",
            "Epoch [700/1000], Loss: 0.9521\n",
            "Epoch [800/1000], Loss: 0.9673\n",
            "Epoch [900/1000], Loss: 0.8687\n",
            "Epoch [1000/1000], Loss: 1.0017\n"
          ]
        }
      ],
      "source": [
        "\n",
        "# Training loop\n",
        "num_epochs = 1000\n",
        "batch_size = 64\n",
        "\n",
        "for epoch in range(num_epochs):\n",
        "    # Shuffle data\n",
        "    indices = np.random.permutation(len(X_train))\n",
        "    for i in range(0, len(X_train), batch_size):\n",
        "        batch_indices = indices[i:i + batch_size]\n",
        "        X_batch = X_train_tensor[batch_indices]\n",
        "        y_batch = y_train_tensor[batch_indices]\n",
        "\n",
        "        optimizer.zero_grad()\n",
        "        outputs = model(X_batch)\n",
        "        loss = criterion(outputs, y_batch)\n",
        "        loss.backward()\n",
        "        optimizer.step()\n",
        "\n",
        "    if (epoch + 1) % 100 == 0:\n",
        "        print(f\"Epoch [{epoch + 1}/{num_epochs}], Loss: {loss.item():.4f}\")"
      ]
    },
    {
      "cell_type": "markdown",
      "id": "bfb83d61-c67c-4453-9e64-3f64df1f58f4",
      "metadata": {
        "id": "bfb83d61-c67c-4453-9e64-3f64df1f58f4"
      },
      "source": [
        "## Evaluating the Model\n",
        "In this part, we will evaluate the performance of our trained model. Using a set of metrics, we will compare the behavior of the cloned model to the expert policy within the Lunar Lander environment. We aim to assess how well the model generalizes the expert’s actions under different scenarios."
      ]
    },
    {
      "cell_type": "code",
      "execution_count": null,
      "id": "50348449-ff85-4301-bcc3-7f9526d81d6d",
      "metadata": {
        "id": "50348449-ff85-4301-bcc3-7f9526d81d6d"
      },
      "outputs": [],
      "source": [
        "# Part 5: Evaluating the Model\n",
        "\n",
        "def evaluate(env, model, num_episodes=10):\n",
        "    rewards = []\n",
        "    max_steps = 1000\n",
        "    for _ in tqdm(range(num_episodes)):\n",
        "        state, _ = env.reset()\n",
        "        done = False\n",
        "        total_reward = 0\n",
        "        i=0\n",
        "        while not done and i<max_steps:\n",
        "            i+=1\n",
        "            state_tensor = torch.FloatTensor(state).unsqueeze(0)\n",
        "            with torch.no_grad():\n",
        "                action_probs = model(state_tensor)\n",
        "            action = torch.argmax(action_probs, dim=1).item()\n",
        "            state, reward, done, _, _ = env.step(action)\n",
        "            total_reward += reward\n",
        "        rewards.append(total_reward)\n",
        "        print(f'Total reward: {total_reward}')\n",
        "    return rewards"
      ]
    },
    {
      "cell_type": "code",
      "execution_count": null,
      "id": "923b5f2e-3f6b-4683-bf2e-3f877e6e7641",
      "metadata": {
        "id": "923b5f2e-3f6b-4683-bf2e-3f877e6e7641",
        "outputId": "00bcf3d9-551e-4349-9d80-aa8f6c48b560",
        "colab": {
          "base_uri": "https://localhost:8080/"
        }
      },
      "outputs": [
        {
          "output_type": "stream",
          "name": "stderr",
          "text": [
            "100%|██████████| 1/1 [00:01<00:00,  1.60s/it]"
          ]
        },
        {
          "output_type": "stream",
          "name": "stdout",
          "text": [
            "Total reward: -361.1913451003675\n",
            "Average reward over 1 episodes: -361.1913451003675\n"
          ]
        },
        {
          "output_type": "stream",
          "name": "stderr",
          "text": [
            "\n"
          ]
        }
      ],
      "source": [
        "\n",
        "# Evaluate the trained model\n",
        "rewards = evaluate(env, model.to('cpu'),num_episodes=1)\n",
        "print(f\"Average reward over {len(rewards)} episodes: {np.mean(rewards)}\")"
      ]
    },
    {
      "cell_type": "markdown",
      "id": "875676db-5851-44de-939f-45214addbb80",
      "metadata": {
        "id": "875676db-5851-44de-939f-45214addbb80"
      },
      "source": [
        "## Video Playback\n",
        "This section is dedicated to visualizing the trained model's performance through video playback. By capturing the agent's interaction with the environment, we can qualitatively assess how closely the model's actions align with the expert's behavior and evaluate its effectiveness in completing tasks."
      ]
    },
    {
      "cell_type": "code",
      "execution_count": null,
      "id": "4ee3564a-0ce3-4569-9a8f-346e746343c3",
      "metadata": {
        "id": "4ee3564a-0ce3-4569-9a8f-346e746343c3"
      },
      "outputs": [],
      "source": []
    },
    {
      "cell_type": "code",
      "execution_count": null,
      "id": "2ed109d2-7601-4988-bcec-974269ac7e9a",
      "metadata": {
        "id": "2ed109d2-7601-4988-bcec-974269ac7e9a",
        "colab": {
          "base_uri": "https://localhost:8080/"
        },
        "outputId": "0e895c91-9ac5-46fd-8091-d32ba6eb6609"
      },
      "outputs": [
        {
          "output_type": "stream",
          "name": "stderr",
          "text": [
            "/usr/local/lib/python3.11/dist-packages/moviepy/config_defaults.py:1: DeprecationWarning: invalid escape sequence '\\P'\n",
            "  \"\"\"\n"
          ]
        }
      ],
      "source": [
        "# Part 6: Video Playback\n",
        "\n",
        "import imageio\n",
        "from gymnasium.wrappers import RecordVideo\n",
        "\n",
        "env_video = gym.make(\"LunarLander-v3\", render_mode=\"rgb_array\")\n",
        "# Set up the video recording environment\n",
        "video_env = RecordVideo(env_video, video_folder='videos/')\n",
        "\n",
        "# Function to save video of the agent's performance\n",
        "def make_video(env, model, num_episodes=1):\n",
        "    for _ in range(num_episodes):\n",
        "        state, _ = env.reset()\n",
        "        done = False\n",
        "        steps = 0\n",
        "        while not done:\n",
        "            steps +=1\n",
        "            state_tensor = torch.FloatTensor(state).unsqueeze(0)\n",
        "            with torch.no_grad():\n",
        "                action_probs = model(state_tensor)\n",
        "            action = torch.argmax(action_probs, dim=1).item()\n",
        "            state, _, done, _, _ = env.step(action)\n",
        "        print(f'Steps: {steps}')\n",
        "\n",
        "    env.close()\n",
        "\n"
      ]
    },
    {
      "cell_type": "code",
      "execution_count": null,
      "id": "2d74cf99-0111-4cb3-b337-fda542ccd4c2",
      "metadata": {
        "id": "2d74cf99-0111-4cb3-b337-fda542ccd4c2",
        "outputId": "a3f1d368-c456-438a-d320-15e2fdfa5d9f",
        "colab": {
          "base_uri": "https://localhost:8080/"
        }
      },
      "outputs": [
        {
          "output_type": "stream",
          "name": "stdout",
          "text": [
            "Steps: 89\n"
          ]
        }
      ],
      "source": [
        "\n",
        "# Run the trained policy and create a video\n",
        "make_video(video_env, model)"
      ]
    },
    {
      "cell_type": "code",
      "execution_count": null,
      "id": "c4ceff7e-f171-4455-8e5a-4d4b37108a4f",
      "metadata": {
        "id": "c4ceff7e-f171-4455-8e5a-4d4b37108a4f"
      },
      "outputs": [],
      "source": [
        "from IPython.display import Video, display"
      ]
    },
    {
      "cell_type": "code",
      "execution_count": null,
      "id": "f2d78507-608f-4e08-b822-43814f197357",
      "metadata": {
        "id": "f2d78507-608f-4e08-b822-43814f197357",
        "outputId": "020c339b-481a-4158-8355-6e3384219430",
        "colab": {
          "base_uri": "https://localhost:8080/"
        }
      },
      "outputs": [
        {
          "output_type": "stream",
          "name": "stdout",
          "text": [
            "total 0\n"
          ]
        }
      ],
      "source": [
        "ls -lh videos"
      ]
    },
    {
      "cell_type": "code",
      "execution_count": null,
      "id": "cc559042-8521-4097-9c45-b69e3a8009e0",
      "metadata": {
        "id": "cc559042-8521-4097-9c45-b69e3a8009e0",
        "outputId": "5538e7a3-cdd5-44ac-9e6e-6f5312c31a9a",
        "colab": {
          "base_uri": "https://localhost:8080/",
          "height": 420
        }
      },
      "outputs": [
        {
          "output_type": "display_data",
          "data": {
            "text/plain": [
              "<IPython.core.display.Video object>"
            ],
            "text/html": [
              "<video controls  >\n",
              " <source src=\"data:video/mp4;base64,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\" type=\"video/mp4\">\n",
              " Your browser does not support the video tag.\n",
              " </video>"
            ]
          },
          "metadata": {}
        }
      ],
      "source": [
        "# Display the video in the notebook\n",
        "video_path = './videos/rl-video-episode-0.mp4'  # Modify this path if necessary\n",
        "display(Video(video_path, embed=True))"
      ]
    },
    {
      "cell_type": "markdown",
      "id": "1094f5a0-752a-4f71-9edc-a14562aad7e3",
      "metadata": {
        "id": "1094f5a0-752a-4f71-9edc-a14562aad7e3"
      },
      "source": [
        "## DAgger: Implement and Run\n",
        "Finally, we will implement and run the Dataset Aggregation (DAgger) algorithm. DAgger iteratively improves the imitation learning model by incorporating feedback from the expert policy during the training process. This section will detail how to modify the initial model using the expert’s guidance, iteratively refining its performance."
      ]
    },
    {
      "cell_type": "code",
      "execution_count": null,
      "id": "773c7210-28e2-472d-8a3d-bc6526754dec",
      "metadata": {
        "id": "773c7210-28e2-472d-8a3d-bc6526754dec"
      },
      "outputs": [],
      "source": [
        "from tqdm import tqdm\n",
        "def dagger(env, expert_policy, model, num_iterations=5, num_episodes_per_iter=10,num_epochs=5):\n",
        "\n",
        "    criterion = nn.CrossEntropyLoss()\n",
        "    optimizer = optim.Adam(model.parameters(), lr=1e-3)\n",
        "    batch_size= 1024\n",
        "\n",
        "    all_data = []\n",
        "    losses = []\n",
        "\n",
        "    for iteration in range(num_iterations):\n",
        "        print(f\"## Iteration: {iteration} ###########\")\n",
        "        # Step 1: Generate data from model\n",
        "        print(\"Step 1: Generate data from model\")\n",
        "        new_data = []\n",
        "        max_steps = 600\n",
        "        total_returns = []\n",
        "        for _ in tqdm(range(num_episodes_per_iter)):\n",
        "            state, _ = env.reset()\n",
        "            done = False\n",
        "            i=0\n",
        "            return_ = 0\n",
        "            while not done and i<max_steps:\n",
        "                i+=1\n",
        "                state_tensor = torch.FloatTensor(state).unsqueeze(0).to('cuda')\n",
        "                with torch.no_grad():\n",
        "                    action_probs = model(state_tensor)\n",
        "                action = torch.argmax(action_probs, dim=1).item()\n",
        "                new_data.append((state, action))\n",
        "                state, reward, done, _, _ = env.step(action)\n",
        "                return_ += reward\n",
        "            total_returns.append(return_)\n",
        "        print(f\"Avg. Return : {np.mean(total_returns)}\")\n",
        "        # Step 2: Aggregate new data with all previous data\n",
        "\n",
        "\n",
        "        # Step 3: Label new data with expert policy\n",
        "        print(\"Step 2: Label new data with expert policy\")\n",
        "        labeled_data = []\n",
        "        for state, _ in new_data:\n",
        "            expert_action, _ = expert_policy.predict(state)\n",
        "            labeled_data.append((state, expert_action))\n",
        "\n",
        "\n",
        "        print(f\"Step 3: Aggregate new data with all previous data. Size: {len(all_data)}\")\n",
        "        all_data.extend(labeled_data)\n",
        "\n",
        "        # Step 4: Retrain model with new combined dataset\n",
        "        print(\"Step 4: Retrain model with new combined dataset\")\n",
        "        X_train_dagger = np.array([x[0] for x in all_data])\n",
        "        y_train_dagger = np.array([x[1] for x in all_data])\n",
        "\n",
        "        X_train_tensor_dagger = torch.FloatTensor(X_train_dagger).to('cuda')\n",
        "        y_train_tensor_dagger = torch.LongTensor(y_train_dagger).to('cuda')\n",
        "\n",
        "        # Retrain model\n",
        "        for epoch in tqdm(range(num_epochs)):\n",
        "            indices = np.random.permutation(len(X_train_dagger))\n",
        "            for i in range(0, len(X_train_dagger), batch_size):\n",
        "                batch_indices = indices[i:i + batch_size]\n",
        "                X_batch = X_train_tensor_dagger[batch_indices]\n",
        "                y_batch = y_train_tensor_dagger[batch_indices]\n",
        "\n",
        "                optimizer.zero_grad()\n",
        "                outputs = model(X_batch)\n",
        "                loss = criterion(outputs, y_batch)\n",
        "                loss.backward()\n",
        "                optimizer.step()\n",
        "\n",
        "                losses.append(loss.item())\n",
        "\n",
        "            if (epoch + 1) % 100 == 0:\n",
        "                print(f\"DAgger Epoch [{epoch + 1}/{num_epochs}], Loss: {np.mean(losses):.4f}\")\n",
        "                losses = []\n",
        "\n",
        "    return model"
      ]
    },
    {
      "cell_type": "code",
      "execution_count": null,
      "id": "3d262f38-d763-48d6-9dd1-017e863abb1c",
      "metadata": {
        "id": "3d262f38-d763-48d6-9dd1-017e863abb1c",
        "outputId": "9c53401a-3496-42be-a61e-c8f31da1cfd2"
      },
      "outputs": [
        {
          "name": "stdout",
          "output_type": "stream",
          "text": [
            "## Iteration: 0 ###########\n",
            "Step 1: Generate data from model\n"
          ]
        },
        {
          "name": "stderr",
          "output_type": "stream",
          "text": [
            "100%|██████████| 5/5 [00:08<00:00,  1.66s/it]\n"
          ]
        },
        {
          "name": "stdout",
          "output_type": "stream",
          "text": [
            "Avg. Return : -373.96903667350034\n",
            "Step 2: Label new data with expert policy\n",
            "Step 3: Aggregate new data with all previous data. Size: 0\n",
            "Step 4: Retrain model with new combined dataset\n"
          ]
        },
        {
          "name": "stderr",
          "output_type": "stream",
          "text": [
            "  2%|▏         | 86/5000 [00:00<00:05, 851.09it/s]"
          ]
        },
        {
          "name": "stdout",
          "output_type": "stream",
          "text": [
            "DAgger Epoch [100/5000], Loss: 1.0281\n"
          ]
        },
        {
          "name": "stderr",
          "output_type": "stream",
          "text": [
            "  5%|▌         | 254/5000 [00:00<00:05, 799.41it/s]"
          ]
        },
        {
          "name": "stdout",
          "output_type": "stream",
          "text": [
            "DAgger Epoch [200/5000], Loss: 0.8857\n",
            "DAgger Epoch [300/5000], Loss: 0.8809\n"
          ]
        },
        {
          "name": "stderr",
          "output_type": "stream",
          "text": [
            " 12%|█▏        | 584/5000 [00:00<00:06, 650.48it/s]"
          ]
        },
        {
          "name": "stdout",
          "output_type": "stream",
          "text": [
            "DAgger Epoch [400/5000], Loss: 0.8789\n",
            "DAgger Epoch [500/5000], Loss: 0.8781\n"
          ]
        },
        {
          "name": "stderr",
          "output_type": "stream",
          "text": [
            " 13%|█▎        | 671/5000 [00:01<00:06, 706.29it/s]"
          ]
        },
        {
          "name": "stdout",
          "output_type": "stream",
          "text": [
            "DAgger Epoch [600/5000], Loss: 0.8778\n",
            "DAgger Epoch [700/5000], Loss: 0.8775\n"
          ]
        },
        {
          "name": "stderr",
          "output_type": "stream",
          "text": [
            " 18%|█▊        | 904/5000 [00:01<00:06, 601.43it/s]"
          ]
        },
        {
          "name": "stdout",
          "output_type": "stream",
          "text": [
            "DAgger Epoch [800/5000], Loss: 0.8744\n",
            "DAgger Epoch [900/5000], Loss: 0.8716\n"
          ]
        },
        {
          "name": "stderr",
          "output_type": "stream",
          "text": [
            " 21%|██▏       | 1074/5000 [00:01<00:05, 693.14it/s]"
          ]
        },
        {
          "name": "stdout",
          "output_type": "stream",
          "text": [
            "DAgger Epoch [1000/5000], Loss: 0.8698\n",
            "DAgger Epoch [1100/5000], Loss: 0.8685\n"
          ]
        },
        {
          "name": "stderr",
          "output_type": "stream",
          "text": [
            " 26%|██▌       | 1303/5000 [00:02<00:06, 589.37it/s]"
          ]
        },
        {
          "name": "stdout",
          "output_type": "stream",
          "text": [
            "DAgger Epoch [1200/5000], Loss: 0.8677\n",
            "DAgger Epoch [1300/5000], Loss: 0.8672\n"
          ]
        },
        {
          "name": "stderr",
          "output_type": "stream",
          "text": [
            " 30%|██▉       | 1478/5000 [00:02<00:04, 707.42it/s]"
          ]
        },
        {
          "name": "stdout",
          "output_type": "stream",
          "text": [
            "DAgger Epoch [1400/5000], Loss: 0.8668\n",
            "DAgger Epoch [1500/5000], Loss: 0.8666\n"
          ]
        },
        {
          "name": "stderr",
          "output_type": "stream",
          "text": [
            " 34%|███▎      | 1680/5000 [00:02<00:06, 503.53it/s]"
          ]
        },
        {
          "name": "stdout",
          "output_type": "stream",
          "text": [
            "DAgger Epoch [1600/5000], Loss: 0.8665\n"
          ]
        },
        {
          "name": "stderr",
          "output_type": "stream",
          "text": [
            " 36%|███▋      | 1821/5000 [00:03<00:05, 589.81it/s]"
          ]
        },
        {
          "name": "stdout",
          "output_type": "stream",
          "text": [
            "DAgger Epoch [1700/5000], Loss: 0.8664\n",
            "DAgger Epoch [1800/5000], Loss: 0.8663\n"
          ]
        },
        {
          "name": "stderr",
          "output_type": "stream",
          "text": [
            " 41%|████      | 2036/5000 [00:03<00:04, 612.00it/s]"
          ]
        },
        {
          "name": "stdout",
          "output_type": "stream",
          "text": [
            "DAgger Epoch [1900/5000], Loss: 0.8663\n",
            "DAgger Epoch [2000/5000], Loss: 0.8662\n"
          ]
        },
        {
          "name": "stderr",
          "output_type": "stream",
          "text": [
            " 44%|████▍     | 2215/5000 [00:03<00:03, 739.71it/s]"
          ]
        },
        {
          "name": "stdout",
          "output_type": "stream",
          "text": [
            "DAgger Epoch [2100/5000], Loss: 0.8662\n",
            "DAgger Epoch [2200/5000], Loss: 0.8662\n"
          ]
        },
        {
          "name": "stderr",
          "output_type": "stream",
          "text": [
            " 48%|████▊     | 2385/5000 [00:03<00:03, 791.02it/s]"
          ]
        },
        {
          "name": "stdout",
          "output_type": "stream",
          "text": [
            "DAgger Epoch [2300/5000], Loss: 0.8662\n",
            "DAgger Epoch [2400/5000], Loss: 0.8661\n"
          ]
        },
        {
          "name": "stderr",
          "output_type": "stream",
          "text": [
            " 52%|█████▏    | 2605/5000 [00:04<00:03, 602.80it/s]"
          ]
        },
        {
          "name": "stdout",
          "output_type": "stream",
          "text": [
            "DAgger Epoch [2500/5000], Loss: 0.8661\n",
            "DAgger Epoch [2600/5000], Loss: 0.8661\n"
          ]
        },
        {
          "name": "stderr",
          "output_type": "stream",
          "text": [
            " 55%|█████▍    | 2741/5000 [00:04<00:03, 586.96it/s]"
          ]
        },
        {
          "name": "stdout",
          "output_type": "stream",
          "text": [
            "DAgger Epoch [2700/5000], Loss: 0.8661\n",
            "DAgger Epoch [2800/5000], Loss: 0.8661\n"
          ]
        },
        {
          "name": "stderr",
          "output_type": "stream",
          "text": [
            " 58%|█████▊    | 2919/5000 [00:04<00:03, 550.87it/s]"
          ]
        },
        {
          "name": "stdout",
          "output_type": "stream",
          "text": [
            "DAgger Epoch [2900/5000], Loss: 0.8661\n"
          ]
        },
        {
          "name": "stderr",
          "output_type": "stream",
          "text": [
            " 62%|██████▏   | 3100/5000 [00:05<00:03, 516.22it/s]"
          ]
        },
        {
          "name": "stdout",
          "output_type": "stream",
          "text": [
            "DAgger Epoch [3000/5000], Loss: 0.8661\n",
            "DAgger Epoch [3100/5000], Loss: 0.8661\n"
          ]
        },
        {
          "name": "stderr",
          "output_type": "stream",
          "text": [
            " 66%|██████▌   | 3291/5000 [00:05<00:02, 715.89it/s]"
          ]
        },
        {
          "name": "stdout",
          "output_type": "stream",
          "text": [
            "DAgger Epoch [3200/5000], Loss: 0.8661\n",
            "DAgger Epoch [3300/5000], Loss: 0.8661\n"
          ]
        },
        {
          "name": "stderr",
          "output_type": "stream",
          "text": [
            " 70%|██████▉   | 3488/5000 [00:06<00:03, 471.54it/s]"
          ]
        },
        {
          "name": "stdout",
          "output_type": "stream",
          "text": [
            "DAgger Epoch [3400/5000], Loss: 0.8661\n",
            "DAgger Epoch [3500/5000], Loss: 0.8661\n"
          ]
        },
        {
          "name": "stderr",
          "output_type": "stream",
          "text": [
            " 75%|███████▌  | 3751/5000 [00:06<00:01, 700.42it/s]"
          ]
        },
        {
          "name": "stdout",
          "output_type": "stream",
          "text": [
            "DAgger Epoch [3600/5000], Loss: 0.8661\n",
            "DAgger Epoch [3700/5000], Loss: 0.8661\n"
          ]
        },
        {
          "name": "stderr",
          "output_type": "stream",
          "text": [
            " 77%|███████▋  | 3827/5000 [00:06<00:01, 650.21it/s]"
          ]
        },
        {
          "name": "stdout",
          "output_type": "stream",
          "text": [
            "DAgger Epoch [3800/5000], Loss: 0.8661\n"
          ]
        },
        {
          "name": "stderr",
          "output_type": "stream",
          "text": [
            " 79%|███████▉  | 3956/5000 [00:06<00:02, 515.87it/s]"
          ]
        },
        {
          "name": "stdout",
          "output_type": "stream",
          "text": [
            "DAgger Epoch [3900/5000], Loss: 0.8661\n"
          ]
        },
        {
          "name": "stderr",
          "output_type": "stream",
          "text": [
            " 81%|████████▏ | 4067/5000 [00:07<00:01, 506.43it/s]"
          ]
        },
        {
          "name": "stdout",
          "output_type": "stream",
          "text": [
            "DAgger Epoch [4000/5000], Loss: 0.8661\n",
            "DAgger Epoch [4100/5000], Loss: 0.8661\n"
          ]
        },
        {
          "name": "stderr",
          "output_type": "stream",
          "text": [
            " 87%|████████▋ | 4335/5000 [00:07<00:00, 737.47it/s]"
          ]
        },
        {
          "name": "stdout",
          "output_type": "stream",
          "text": [
            "DAgger Epoch [4200/5000], Loss: 0.8661\n",
            "DAgger Epoch [4300/5000], Loss: 0.8661\n"
          ]
        },
        {
          "name": "stderr",
          "output_type": "stream",
          "text": [
            " 90%|████████▉ | 4478/5000 [00:07<00:00, 587.67it/s]"
          ]
        },
        {
          "name": "stdout",
          "output_type": "stream",
          "text": [
            "DAgger Epoch [4400/5000], Loss: 0.8661\n",
            "DAgger Epoch [4500/5000], Loss: 0.8661\n"
          ]
        },
        {
          "name": "stderr",
          "output_type": "stream",
          "text": [
            " 95%|█████████▌| 4760/5000 [00:07<00:00, 792.11it/s]"
          ]
        },
        {
          "name": "stdout",
          "output_type": "stream",
          "text": [
            "DAgger Epoch [4600/5000], Loss: 0.8661\n",
            "DAgger Epoch [4700/5000], Loss: 0.8661\n"
          ]
        },
        {
          "name": "stderr",
          "output_type": "stream",
          "text": [
            " 97%|█████████▋| 4843/5000 [00:08<00:00, 680.58it/s]"
          ]
        },
        {
          "name": "stdout",
          "output_type": "stream",
          "text": [
            "DAgger Epoch [4800/5000], Loss: 0.8661\n"
          ]
        },
        {
          "name": "stderr",
          "output_type": "stream",
          "text": [
            "100%|██████████| 5000/5000 [00:08<00:00, 596.18it/s]\n"
          ]
        },
        {
          "name": "stdout",
          "output_type": "stream",
          "text": [
            "DAgger Epoch [4900/5000], Loss: 0.8661\n",
            "DAgger Epoch [5000/5000], Loss: 0.8661\n",
            "## Iteration: 1 ###########\n",
            "Step 1: Generate data from model\n"
          ]
        },
        {
          "name": "stderr",
          "output_type": "stream",
          "text": [
            "100%|██████████| 5/5 [00:07<00:00,  1.58s/it]\n"
          ]
        },
        {
          "name": "stdout",
          "output_type": "stream",
          "text": [
            "Avg. Return : -143.86523911487606\n",
            "Step 2: Label new data with expert policy\n",
            "Step 3: Aggregate new data with all previous data. Size: 335\n",
            "Step 4: Retrain model with new combined dataset\n"
          ]
        },
        {
          "name": "stderr",
          "output_type": "stream",
          "text": [
            "  3%|▎         | 152/5000 [00:00<00:09, 500.49it/s]"
          ]
        },
        {
          "name": "stdout",
          "output_type": "stream",
          "text": [
            "DAgger Epoch [100/5000], Loss: 1.1163\n"
          ]
        },
        {
          "name": "stderr",
          "output_type": "stream",
          "text": [
            "  5%|▍         | 249/5000 [00:00<00:10, 446.94it/s]"
          ]
        },
        {
          "name": "stdout",
          "output_type": "stream",
          "text": [
            "DAgger Epoch [200/5000], Loss: 1.1032\n",
            "DAgger Epoch [300/5000], Loss: 1.0996\n"
          ]
        },
        {
          "name": "stderr",
          "output_type": "stream",
          "text": [
            " 10%|█         | 518/5000 [00:00<00:05, 752.63it/s]"
          ]
        },
        {
          "name": "stdout",
          "output_type": "stream",
          "text": [
            "DAgger Epoch [400/5000], Loss: 0.9939\n",
            "DAgger Epoch [500/5000], Loss: 0.8501\n"
          ]
        },
        {
          "name": "stderr",
          "output_type": "stream",
          "text": [
            " 14%|█▍        | 695/5000 [00:01<00:06, 694.23it/s]"
          ]
        },
        {
          "name": "stdout",
          "output_type": "stream",
          "text": [
            "DAgger Epoch [600/5000], Loss: 0.8455\n",
            "DAgger Epoch [700/5000], Loss: 0.8435\n"
          ]
        },
        {
          "name": "stderr",
          "output_type": "stream",
          "text": [
            " 17%|█▋        | 848/5000 [00:01<00:07, 590.83it/s]"
          ]
        },
        {
          "name": "stdout",
          "output_type": "stream",
          "text": [
            "DAgger Epoch [800/5000], Loss: 0.8419\n"
          ]
        },
        {
          "name": "stderr",
          "output_type": "stream",
          "text": [
            " 20%|█▉        | 997/5000 [00:01<00:06, 625.84it/s]"
          ]
        },
        {
          "name": "stdout",
          "output_type": "stream",
          "text": [
            "DAgger Epoch [900/5000], Loss: 0.8385\n",
            "DAgger Epoch [1000/5000], Loss: 0.8378\n"
          ]
        },
        {
          "name": "stderr",
          "output_type": "stream",
          "text": [
            " 24%|██▎       | 1176/5000 [00:02<00:07, 516.26it/s]"
          ]
        },
        {
          "name": "stdout",
          "output_type": "stream",
          "text": [
            "DAgger Epoch [1100/5000], Loss: 0.8374\n"
          ]
        },
        {
          "name": "stderr",
          "output_type": "stream",
          "text": [
            " 25%|██▍       | 1230/5000 [00:02<00:08, 442.07it/s]"
          ]
        },
        {
          "name": "stdout",
          "output_type": "stream",
          "text": [
            "DAgger Epoch [1200/5000], Loss: 0.8370\n"
          ]
        },
        {
          "name": "stderr",
          "output_type": "stream",
          "text": [
            " 27%|██▋       | 1343/5000 [00:02<00:07, 480.88it/s]"
          ]
        },
        {
          "name": "stdout",
          "output_type": "stream",
          "text": [
            "DAgger Epoch [1300/5000], Loss: 0.8366\n",
            "DAgger Epoch [1400/5000], Loss: 0.8363\n"
          ]
        },
        {
          "name": "stderr",
          "output_type": "stream",
          "text": [
            " 33%|███▎      | 1664/5000 [00:02<00:04, 674.86it/s]"
          ]
        },
        {
          "name": "stdout",
          "output_type": "stream",
          "text": [
            "DAgger Epoch [1500/5000], Loss: 0.8360\n",
            "DAgger Epoch [1600/5000], Loss: 0.8357\n"
          ]
        },
        {
          "name": "stderr",
          "output_type": "stream",
          "text": [
            " 36%|███▌      | 1804/5000 [00:03<00:05, 627.74it/s]"
          ]
        },
        {
          "name": "stdout",
          "output_type": "stream",
          "text": [
            "DAgger Epoch [1700/5000], Loss: 0.8355\n",
            "DAgger Epoch [1800/5000], Loss: 0.8353\n"
          ]
        },
        {
          "name": "stderr",
          "output_type": "stream",
          "text": [
            " 42%|████▏     | 2087/5000 [00:03<00:03, 820.08it/s]"
          ]
        },
        {
          "name": "stdout",
          "output_type": "stream",
          "text": [
            "DAgger Epoch [1900/5000], Loss: 0.8351\n",
            "DAgger Epoch [2000/5000], Loss: 0.8350\n"
          ]
        },
        {
          "name": "stderr",
          "output_type": "stream",
          "text": [
            " 43%|████▎     | 2171/5000 [00:03<00:03, 708.79it/s]"
          ]
        },
        {
          "name": "stdout",
          "output_type": "stream",
          "text": [
            "DAgger Epoch [2100/5000], Loss: 0.8348\n",
            "DAgger Epoch [2200/5000], Loss: 0.8347\n"
          ]
        },
        {
          "name": "stderr",
          "output_type": "stream",
          "text": [
            " 49%|████▉     | 2440/5000 [00:03<00:03, 830.89it/s]"
          ]
        },
        {
          "name": "stdout",
          "output_type": "stream",
          "text": [
            "DAgger Epoch [2300/5000], Loss: 0.8346\n",
            "DAgger Epoch [2400/5000], Loss: 0.8345\n"
          ]
        },
        {
          "name": "stderr",
          "output_type": "stream",
          "text": [
            " 51%|█████     | 2532/5000 [00:04<00:02, 855.36it/s]"
          ]
        },
        {
          "name": "stdout",
          "output_type": "stream",
          "text": [
            "DAgger Epoch [2500/5000], Loss: 0.8326\n",
            "DAgger Epoch [2600/5000], Loss: 0.8206\n"
          ]
        },
        {
          "name": "stderr",
          "output_type": "stream",
          "text": [
            " 57%|█████▋    | 2872/5000 [00:04<00:02, 754.59it/s]"
          ]
        },
        {
          "name": "stdout",
          "output_type": "stream",
          "text": [
            "DAgger Epoch [2700/5000], Loss: 0.8193\n",
            "DAgger Epoch [2800/5000], Loss: 0.8191\n"
          ]
        },
        {
          "name": "stderr",
          "output_type": "stream",
          "text": [
            " 61%|██████    | 3058/5000 [00:04<00:02, 835.98it/s]"
          ]
        },
        {
          "name": "stdout",
          "output_type": "stream",
          "text": [
            "DAgger Epoch [2900/5000], Loss: 0.8190\n",
            "DAgger Epoch [3000/5000], Loss: 0.8190\n"
          ]
        },
        {
          "name": "stderr",
          "output_type": "stream",
          "text": [
            " 63%|██████▎   | 3151/5000 [00:04<00:02, 861.53it/s]"
          ]
        },
        {
          "name": "stdout",
          "output_type": "stream",
          "text": [
            "DAgger Epoch [3100/5000], Loss: 0.8189\n"
          ]
        },
        {
          "name": "stderr",
          "output_type": "stream",
          "text": [
            " 65%|██████▍   | 3239/5000 [00:05<00:03, 584.16it/s]"
          ]
        },
        {
          "name": "stdout",
          "output_type": "stream",
          "text": [
            "DAgger Epoch [3200/5000], Loss: 0.8189\n",
            "DAgger Epoch [3300/5000], Loss: 0.8188\n"
          ]
        },
        {
          "name": "stderr",
          "output_type": "stream",
          "text": [
            " 70%|███████   | 3518/5000 [00:05<00:01, 772.37it/s]"
          ]
        },
        {
          "name": "stdout",
          "output_type": "stream",
          "text": [
            "DAgger Epoch [3400/5000], Loss: 0.8188\n",
            "DAgger Epoch [3500/5000], Loss: 0.8188\n"
          ]
        },
        {
          "name": "stderr",
          "output_type": "stream",
          "text": [
            " 74%|███████▎  | 3677/5000 [00:05<00:02, 534.24it/s]"
          ]
        },
        {
          "name": "stdout",
          "output_type": "stream",
          "text": [
            "DAgger Epoch [3600/5000], Loss: 0.8187\n"
          ]
        },
        {
          "name": "stderr",
          "output_type": "stream",
          "text": [
            " 75%|███████▍  | 3739/5000 [00:06<00:02, 445.86it/s]"
          ]
        },
        {
          "name": "stdout",
          "output_type": "stream",
          "text": [
            "DAgger Epoch [3700/5000], Loss: 0.8187\n"
          ]
        },
        {
          "name": "stderr",
          "output_type": "stream",
          "text": [
            " 77%|███████▋  | 3845/5000 [00:06<00:02, 467.50it/s]"
          ]
        },
        {
          "name": "stdout",
          "output_type": "stream",
          "text": [
            "DAgger Epoch [3800/5000], Loss: 0.8187\n",
            "DAgger Epoch [3900/5000], Loss: 0.8187\n"
          ]
        },
        {
          "name": "stderr",
          "output_type": "stream",
          "text": [
            " 82%|████████▏ | 4116/5000 [00:06<00:01, 554.01it/s]"
          ]
        },
        {
          "name": "stdout",
          "output_type": "stream",
          "text": [
            "DAgger Epoch [4000/5000], Loss: 0.8187\n",
            "DAgger Epoch [4100/5000], Loss: 0.8186\n"
          ]
        },
        {
          "name": "stderr",
          "output_type": "stream",
          "text": [
            " 87%|████████▋ | 4363/5000 [00:07<00:00, 730.57it/s]"
          ]
        },
        {
          "name": "stdout",
          "output_type": "stream",
          "text": [
            "DAgger Epoch [4200/5000], Loss: 0.8186\n",
            "DAgger Epoch [4300/5000], Loss: 0.8186\n"
          ]
        },
        {
          "name": "stderr",
          "output_type": "stream",
          "text": [
            " 89%|████████▉ | 4454/5000 [00:07<00:00, 780.34it/s]"
          ]
        },
        {
          "name": "stdout",
          "output_type": "stream",
          "text": [
            "DAgger Epoch [4400/5000], Loss: 0.8186\n",
            "DAgger Epoch [4500/5000], Loss: 0.8186\n"
          ]
        },
        {
          "name": "stderr",
          "output_type": "stream",
          "text": [
            " 94%|█████████▍| 4689/5000 [00:07<00:00, 592.24it/s]"
          ]
        },
        {
          "name": "stdout",
          "output_type": "stream",
          "text": [
            "DAgger Epoch [4600/5000], Loss: 0.8186\n",
            "DAgger Epoch [4700/5000], Loss: 0.8186\n"
          ]
        },
        {
          "name": "stderr",
          "output_type": "stream",
          "text": [
            " 99%|█████████▉| 4974/5000 [00:07<00:00, 798.44it/s]"
          ]
        },
        {
          "name": "stdout",
          "output_type": "stream",
          "text": [
            "DAgger Epoch [4800/5000], Loss: 0.8186\n",
            "DAgger Epoch [4900/5000], Loss: 0.8186\n"
          ]
        },
        {
          "name": "stderr",
          "output_type": "stream",
          "text": [
            "100%|██████████| 5000/5000 [00:07<00:00, 628.98it/s]\n"
          ]
        },
        {
          "name": "stdout",
          "output_type": "stream",
          "text": [
            "DAgger Epoch [5000/5000], Loss: 0.8186\n",
            "## Iteration: 2 ###########\n",
            "Step 1: Generate data from model\n"
          ]
        },
        {
          "name": "stderr",
          "output_type": "stream",
          "text": [
            "100%|██████████| 5/5 [00:23<00:00,  4.69s/it]\n"
          ]
        },
        {
          "name": "stdout",
          "output_type": "stream",
          "text": [
            "Avg. Return : -76.42320752301758\n",
            "Step 2: Label new data with expert policy\n",
            "Step 3: Aggregate new data with all previous data. Size: 654\n",
            "Step 4: Retrain model with new combined dataset\n"
          ]
        },
        {
          "name": "stderr",
          "output_type": "stream",
          "text": [
            "  3%|▎         | 130/5000 [00:00<00:18, 256.64it/s]"
          ]
        },
        {
          "name": "stdout",
          "output_type": "stream",
          "text": [
            "DAgger Epoch [100/5000], Loss: 0.9473\n"
          ]
        },
        {
          "name": "stderr",
          "output_type": "stream",
          "text": [
            "  6%|▌         | 278/5000 [00:00<00:13, 338.05it/s]"
          ]
        },
        {
          "name": "stdout",
          "output_type": "stream",
          "text": [
            "DAgger Epoch [200/5000], Loss: 0.9282\n"
          ]
        },
        {
          "name": "stderr",
          "output_type": "stream",
          "text": [
            "  7%|▋         | 350/5000 [00:01<00:15, 309.98it/s]"
          ]
        },
        {
          "name": "stdout",
          "output_type": "stream",
          "text": [
            "DAgger Epoch [300/5000], Loss: 0.9265\n"
          ]
        },
        {
          "name": "stderr",
          "output_type": "stream",
          "text": [
            "  9%|▉         | 440/5000 [00:01<00:17, 263.23it/s]"
          ]
        },
        {
          "name": "stdout",
          "output_type": "stream",
          "text": [
            "DAgger Epoch [400/5000], Loss: 0.9247\n"
          ]
        },
        {
          "name": "stderr",
          "output_type": "stream",
          "text": [
            " 12%|█▏        | 576/5000 [00:01<00:11, 371.01it/s]"
          ]
        },
        {
          "name": "stdout",
          "output_type": "stream",
          "text": [
            "DAgger Epoch [500/5000], Loss: 0.9193\n"
          ]
        },
        {
          "name": "stderr",
          "output_type": "stream",
          "text": [
            " 12%|█▏        | 615/5000 [00:02<00:17, 254.30it/s]"
          ]
        },
        {
          "name": "stdout",
          "output_type": "stream",
          "text": [
            "DAgger Epoch [600/5000], Loss: 0.9119\n"
          ]
        },
        {
          "name": "stderr",
          "output_type": "stream",
          "text": [
            " 16%|█▌        | 790/5000 [00:02<00:11, 355.65it/s]"
          ]
        },
        {
          "name": "stdout",
          "output_type": "stream",
          "text": [
            "DAgger Epoch [700/5000], Loss: 0.9093\n"
          ]
        },
        {
          "name": "stderr",
          "output_type": "stream",
          "text": [
            " 17%|█▋        | 838/5000 [00:02<00:10, 385.65it/s]"
          ]
        },
        {
          "name": "stdout",
          "output_type": "stream",
          "text": [
            "DAgger Epoch [800/5000], Loss: 0.9078\n"
          ]
        },
        {
          "name": "stderr",
          "output_type": "stream",
          "text": [
            " 19%|█▉        | 970/5000 [00:03<00:10, 385.90it/s]"
          ]
        },
        {
          "name": "stdout",
          "output_type": "stream",
          "text": [
            "DAgger Epoch [900/5000], Loss: 0.9046\n"
          ]
        },
        {
          "name": "stderr",
          "output_type": "stream",
          "text": [
            " 21%|██        | 1062/5000 [00:03<00:09, 419.48it/s]"
          ]
        },
        {
          "name": "stdout",
          "output_type": "stream",
          "text": [
            "DAgger Epoch [1000/5000], Loss: 0.8969\n"
          ]
        },
        {
          "name": "stderr",
          "output_type": "stream",
          "text": [
            " 23%|██▎       | 1144/5000 [00:03<00:12, 299.79it/s]"
          ]
        },
        {
          "name": "stdout",
          "output_type": "stream",
          "text": [
            "DAgger Epoch [1100/5000], Loss: 0.8961\n"
          ]
        },
        {
          "name": "stderr",
          "output_type": "stream",
          "text": [
            " 25%|██▍       | 1239/5000 [00:04<00:15, 246.75it/s]"
          ]
        },
        {
          "name": "stdout",
          "output_type": "stream",
          "text": [
            "DAgger Epoch [1200/5000], Loss: 0.8944\n"
          ]
        },
        {
          "name": "stderr",
          "output_type": "stream",
          "text": [
            " 27%|██▋       | 1336/5000 [00:04<00:14, 255.25it/s]"
          ]
        },
        {
          "name": "stdout",
          "output_type": "stream",
          "text": [
            "DAgger Epoch [1300/5000], Loss: 0.8938\n"
          ]
        },
        {
          "name": "stderr",
          "output_type": "stream",
          "text": [
            " 28%|██▊       | 1419/5000 [00:04<00:16, 223.41it/s]"
          ]
        },
        {
          "name": "stdout",
          "output_type": "stream",
          "text": [
            "DAgger Epoch [1400/5000], Loss: 0.8936\n"
          ]
        },
        {
          "name": "stderr",
          "output_type": "stream",
          "text": [
            " 31%|███       | 1555/5000 [00:05<00:10, 319.33it/s]"
          ]
        },
        {
          "name": "stdout",
          "output_type": "stream",
          "text": [
            "DAgger Epoch [1500/5000], Loss: 0.8932\n"
          ]
        },
        {
          "name": "stderr",
          "output_type": "stream",
          "text": [
            " 33%|███▎      | 1633/5000 [00:05<00:11, 290.86it/s]"
          ]
        },
        {
          "name": "stdout",
          "output_type": "stream",
          "text": [
            "DAgger Epoch [1600/5000], Loss: 0.8926\n"
          ]
        },
        {
          "name": "stderr",
          "output_type": "stream",
          "text": [
            " 35%|███▌      | 1754/5000 [00:05<00:10, 320.52it/s]"
          ]
        },
        {
          "name": "stdout",
          "output_type": "stream",
          "text": [
            "DAgger Epoch [1700/5000], Loss: 0.8920\n"
          ]
        },
        {
          "name": "stderr",
          "output_type": "stream",
          "text": [
            " 37%|███▋      | 1840/5000 [00:06<00:09, 341.54it/s]"
          ]
        },
        {
          "name": "stdout",
          "output_type": "stream",
          "text": [
            "DAgger Epoch [1800/5000], Loss: 0.8924\n"
          ]
        },
        {
          "name": "stderr",
          "output_type": "stream",
          "text": [
            " 39%|███▉      | 1958/5000 [00:06<00:10, 297.98it/s]"
          ]
        },
        {
          "name": "stdout",
          "output_type": "stream",
          "text": [
            "DAgger Epoch [1900/5000], Loss: 0.8913\n"
          ]
        },
        {
          "name": "stderr",
          "output_type": "stream",
          "text": [
            " 41%|████      | 2052/5000 [00:06<00:07, 370.72it/s]"
          ]
        },
        {
          "name": "stdout",
          "output_type": "stream",
          "text": [
            "DAgger Epoch [2000/5000], Loss: 0.8912\n"
          ]
        },
        {
          "name": "stderr",
          "output_type": "stream",
          "text": [
            " 43%|████▎     | 2146/5000 [00:07<00:06, 415.28it/s]"
          ]
        },
        {
          "name": "stdout",
          "output_type": "stream",
          "text": [
            "DAgger Epoch [2100/5000], Loss: 0.8906\n"
          ]
        },
        {
          "name": "stderr",
          "output_type": "stream",
          "text": [
            " 45%|████▍     | 2231/5000 [00:07<00:08, 339.64it/s]"
          ]
        },
        {
          "name": "stdout",
          "output_type": "stream",
          "text": [
            "DAgger Epoch [2200/5000], Loss: 0.8909\n"
          ]
        },
        {
          "name": "stderr",
          "output_type": "stream",
          "text": [
            " 47%|████▋     | 2348/5000 [00:07<00:07, 353.54it/s]"
          ]
        },
        {
          "name": "stdout",
          "output_type": "stream",
          "text": [
            "DAgger Epoch [2300/5000], Loss: 0.8903\n"
          ]
        },
        {
          "name": "stderr",
          "output_type": "stream",
          "text": [
            " 49%|████▊     | 2431/5000 [00:07<00:07, 329.97it/s]"
          ]
        },
        {
          "name": "stdout",
          "output_type": "stream",
          "text": [
            "DAgger Epoch [2400/5000], Loss: 0.8901\n"
          ]
        },
        {
          "name": "stderr",
          "output_type": "stream",
          "text": [
            " 51%|█████     | 2555/5000 [00:08<00:07, 310.00it/s]"
          ]
        },
        {
          "name": "stdout",
          "output_type": "stream",
          "text": [
            "DAgger Epoch [2500/5000], Loss: 0.8901\n"
          ]
        },
        {
          "name": "stderr",
          "output_type": "stream",
          "text": [
            " 53%|█████▎    | 2639/5000 [00:08<00:07, 327.51it/s]"
          ]
        },
        {
          "name": "stdout",
          "output_type": "stream",
          "text": [
            "DAgger Epoch [2600/5000], Loss: 0.8898\n"
          ]
        },
        {
          "name": "stderr",
          "output_type": "stream",
          "text": [
            " 55%|█████▌    | 2752/5000 [00:09<00:07, 283.83it/s]"
          ]
        },
        {
          "name": "stdout",
          "output_type": "stream",
          "text": [
            "DAgger Epoch [2700/5000], Loss: 0.8897\n"
          ]
        },
        {
          "name": "stderr",
          "output_type": "stream",
          "text": [
            " 57%|█████▋    | 2848/5000 [00:09<00:05, 365.07it/s]"
          ]
        },
        {
          "name": "stdout",
          "output_type": "stream",
          "text": [
            "DAgger Epoch [2800/5000], Loss: 0.8896\n"
          ]
        },
        {
          "name": "stderr",
          "output_type": "stream",
          "text": [
            " 58%|█████▊    | 2895/5000 [00:09<00:05, 392.52it/s]"
          ]
        },
        {
          "name": "stdout",
          "output_type": "stream",
          "text": [
            "DAgger Epoch [2900/5000], Loss: 0.8895\n"
          ]
        },
        {
          "name": "stderr",
          "output_type": "stream",
          "text": [
            " 61%|██████▏   | 3069/5000 [00:10<00:05, 356.07it/s]"
          ]
        },
        {
          "name": "stdout",
          "output_type": "stream",
          "text": [
            "DAgger Epoch [3000/5000], Loss: 0.8885\n"
          ]
        },
        {
          "name": "stderr",
          "output_type": "stream",
          "text": [
            " 62%|██████▏   | 3117/5000 [00:10<00:04, 385.85it/s]"
          ]
        },
        {
          "name": "stdout",
          "output_type": "stream",
          "text": [
            "DAgger Epoch [3100/5000], Loss: 0.8864\n"
          ]
        },
        {
          "name": "stderr",
          "output_type": "stream",
          "text": [
            " 66%|██████▌   | 3291/5000 [00:10<00:04, 356.81it/s]"
          ]
        },
        {
          "name": "stdout",
          "output_type": "stream",
          "text": [
            "DAgger Epoch [3200/5000], Loss: 0.8867\n"
          ]
        },
        {
          "name": "stderr",
          "output_type": "stream",
          "text": [
            " 68%|██████▊   | 3387/5000 [00:10<00:03, 409.41it/s]"
          ]
        },
        {
          "name": "stdout",
          "output_type": "stream",
          "text": [
            "DAgger Epoch [3300/5000], Loss: 0.8861\n"
          ]
        },
        {
          "name": "stderr",
          "output_type": "stream",
          "text": [
            " 69%|██████▊   | 3434/5000 [00:11<00:03, 425.32it/s]"
          ]
        },
        {
          "name": "stdout",
          "output_type": "stream",
          "text": [
            "DAgger Epoch [3400/5000], Loss: 0.8863\n"
          ]
        },
        {
          "name": "stderr",
          "output_type": "stream",
          "text": [
            " 71%|███████▏  | 3566/5000 [00:11<00:04, 340.32it/s]"
          ]
        },
        {
          "name": "stdout",
          "output_type": "stream",
          "text": [
            "DAgger Epoch [3500/5000], Loss: 0.8863\n"
          ]
        },
        {
          "name": "stderr",
          "output_type": "stream",
          "text": [
            " 73%|███████▎  | 3662/5000 [00:11<00:03, 398.87it/s]"
          ]
        },
        {
          "name": "stdout",
          "output_type": "stream",
          "text": [
            "DAgger Epoch [3600/5000], Loss: 0.8862\n"
          ]
        },
        {
          "name": "stderr",
          "output_type": "stream",
          "text": [
            " 74%|███████▍  | 3705/5000 [00:11<00:03, 325.93it/s]"
          ]
        },
        {
          "name": "stdout",
          "output_type": "stream",
          "text": [
            "DAgger Epoch [3700/5000], Loss: 0.8860\n"
          ]
        },
        {
          "name": "stderr",
          "output_type": "stream",
          "text": [
            " 77%|███████▋  | 3868/5000 [00:12<00:03, 323.29it/s]"
          ]
        },
        {
          "name": "stdout",
          "output_type": "stream",
          "text": [
            "DAgger Epoch [3800/5000], Loss: 0.8860\n"
          ]
        },
        {
          "name": "stderr",
          "output_type": "stream",
          "text": [
            " 78%|███████▊  | 3906/5000 [00:12<00:04, 236.49it/s]"
          ]
        },
        {
          "name": "stdout",
          "output_type": "stream",
          "text": [
            "DAgger Epoch [3900/5000], Loss: 0.8854\n"
          ]
        },
        {
          "name": "stderr",
          "output_type": "stream",
          "text": [
            " 81%|████████  | 4058/5000 [00:13<00:02, 329.76it/s]"
          ]
        },
        {
          "name": "stdout",
          "output_type": "stream",
          "text": [
            "DAgger Epoch [4000/5000], Loss: 0.8851\n"
          ]
        },
        {
          "name": "stderr",
          "output_type": "stream",
          "text": [
            " 83%|████████▎ | 4143/5000 [00:13<00:02, 332.45it/s]"
          ]
        },
        {
          "name": "stdout",
          "output_type": "stream",
          "text": [
            "DAgger Epoch [4100/5000], Loss: 0.8845\n"
          ]
        },
        {
          "name": "stderr",
          "output_type": "stream",
          "text": [
            " 85%|████████▌ | 4255/5000 [00:13<00:02, 297.87it/s]"
          ]
        },
        {
          "name": "stdout",
          "output_type": "stream",
          "text": [
            "DAgger Epoch [4200/5000], Loss: 0.8836\n"
          ]
        },
        {
          "name": "stderr",
          "output_type": "stream",
          "text": [
            " 87%|████████▋ | 4349/5000 [00:14<00:01, 372.49it/s]"
          ]
        },
        {
          "name": "stdout",
          "output_type": "stream",
          "text": [
            "DAgger Epoch [4300/5000], Loss: 0.8834\n"
          ]
        },
        {
          "name": "stderr",
          "output_type": "stream",
          "text": [
            " 89%|████████▉ | 4470/5000 [00:14<00:01, 306.26it/s]"
          ]
        },
        {
          "name": "stdout",
          "output_type": "stream",
          "text": [
            "DAgger Epoch [4400/5000], Loss: 0.8832\n"
          ]
        },
        {
          "name": "stderr",
          "output_type": "stream",
          "text": [
            " 91%|█████████▏| 4564/5000 [00:14<00:01, 376.47it/s]"
          ]
        },
        {
          "name": "stdout",
          "output_type": "stream",
          "text": [
            "DAgger Epoch [4500/5000], Loss: 0.8830\n"
          ]
        },
        {
          "name": "stderr",
          "output_type": "stream",
          "text": [
            " 93%|█████████▎| 4658/5000 [00:15<00:00, 419.50it/s]"
          ]
        },
        {
          "name": "stdout",
          "output_type": "stream",
          "text": [
            "DAgger Epoch [4600/5000], Loss: 0.8831\n"
          ]
        },
        {
          "name": "stderr",
          "output_type": "stream",
          "text": [
            " 95%|█████████▌| 4750/5000 [00:15<00:00, 332.42it/s]"
          ]
        },
        {
          "name": "stdout",
          "output_type": "stream",
          "text": [
            "DAgger Epoch [4700/5000], Loss: 0.8827\n"
          ]
        },
        {
          "name": "stderr",
          "output_type": "stream",
          "text": [
            " 98%|█████████▊| 4891/5000 [00:15<00:00, 409.18it/s]"
          ]
        },
        {
          "name": "stdout",
          "output_type": "stream",
          "text": [
            "DAgger Epoch [4800/5000], Loss: 0.8828\n",
            "DAgger Epoch [4900/5000], Loss: 0.8829\n"
          ]
        },
        {
          "name": "stderr",
          "output_type": "stream",
          "text": [
            "100%|██████████| 5000/5000 [00:16<00:00, 307.50it/s]\n"
          ]
        },
        {
          "name": "stdout",
          "output_type": "stream",
          "text": [
            "DAgger Epoch [5000/5000], Loss: 0.8831\n",
            "## Iteration: 3 ###########\n",
            "Step 1: Generate data from model\n"
          ]
        },
        {
          "name": "stderr",
          "output_type": "stream",
          "text": [
            "100%|██████████| 5/5 [00:34<00:00,  6.91s/it]\n"
          ]
        },
        {
          "name": "stdout",
          "output_type": "stream",
          "text": [
            "Avg. Return : 141.7530917556116\n",
            "Step 2: Label new data with expert policy\n",
            "Step 3: Aggregate new data with all previous data. Size: 1643\n",
            "Step 4: Retrain model with new combined dataset\n"
          ]
        },
        {
          "name": "stderr",
          "output_type": "stream",
          "text": [
            "  2%|▏         | 102/5000 [00:00<00:27, 179.87it/s]"
          ]
        },
        {
          "name": "stdout",
          "output_type": "stream",
          "text": [
            "DAgger Epoch [100/5000], Loss: 0.9491\n"
          ]
        },
        {
          "name": "stderr",
          "output_type": "stream",
          "text": [
            "  5%|▍         | 243/5000 [00:01<00:24, 190.53it/s]"
          ]
        },
        {
          "name": "stdout",
          "output_type": "stream",
          "text": [
            "DAgger Epoch [200/5000], Loss: 0.9145\n"
          ]
        },
        {
          "name": "stderr",
          "output_type": "stream",
          "text": [
            "  7%|▋         | 333/5000 [00:02<00:25, 186.14it/s]"
          ]
        },
        {
          "name": "stdout",
          "output_type": "stream",
          "text": [
            "DAgger Epoch [300/5000], Loss: 0.8944\n"
          ]
        },
        {
          "name": "stderr",
          "output_type": "stream",
          "text": [
            "  8%|▊         | 424/5000 [00:02<00:29, 154.72it/s]"
          ]
        },
        {
          "name": "stdout",
          "output_type": "stream",
          "text": [
            "DAgger Epoch [400/5000], Loss: 0.8870\n"
          ]
        },
        {
          "name": "stderr",
          "output_type": "stream",
          "text": [
            " 10%|█         | 513/5000 [00:03<00:28, 159.86it/s]"
          ]
        },
        {
          "name": "stdout",
          "output_type": "stream",
          "text": [
            "DAgger Epoch [500/5000], Loss: 0.8839\n"
          ]
        },
        {
          "name": "stderr",
          "output_type": "stream",
          "text": [
            " 12%|█▏        | 621/5000 [00:03<00:23, 186.22it/s]"
          ]
        },
        {
          "name": "stdout",
          "output_type": "stream",
          "text": [
            "DAgger Epoch [600/5000], Loss: 0.8760\n"
          ]
        },
        {
          "name": "stderr",
          "output_type": "stream",
          "text": [
            " 15%|█▍        | 726/5000 [00:04<00:24, 172.58it/s]"
          ]
        },
        {
          "name": "stdout",
          "output_type": "stream",
          "text": [
            "DAgger Epoch [700/5000], Loss: 0.8738\n"
          ]
        },
        {
          "name": "stderr",
          "output_type": "stream",
          "text": [
            " 17%|█▋        | 828/5000 [00:05<00:25, 164.01it/s]"
          ]
        },
        {
          "name": "stdout",
          "output_type": "stream",
          "text": [
            "DAgger Epoch [800/5000], Loss: 0.8731\n"
          ]
        },
        {
          "name": "stderr",
          "output_type": "stream",
          "text": [
            " 18%|█▊        | 923/5000 [00:06<00:27, 148.58it/s]"
          ]
        },
        {
          "name": "stdout",
          "output_type": "stream",
          "text": [
            "DAgger Epoch [900/5000], Loss: 0.8735\n"
          ]
        },
        {
          "name": "stderr",
          "output_type": "stream",
          "text": [
            " 20%|██        | 1015/5000 [00:06<00:26, 150.47it/s]"
          ]
        },
        {
          "name": "stdout",
          "output_type": "stream",
          "text": [
            "DAgger Epoch [1000/5000], Loss: 0.8675\n"
          ]
        },
        {
          "name": "stderr",
          "output_type": "stream",
          "text": [
            " 23%|██▎       | 1131/5000 [00:07<00:21, 182.57it/s]"
          ]
        },
        {
          "name": "stdout",
          "output_type": "stream",
          "text": [
            "DAgger Epoch [1100/5000], Loss: 0.8642\n"
          ]
        },
        {
          "name": "stderr",
          "output_type": "stream",
          "text": [
            " 25%|██▍       | 1227/5000 [00:07<00:16, 222.96it/s]"
          ]
        },
        {
          "name": "stdout",
          "output_type": "stream",
          "text": [
            "DAgger Epoch [1200/5000], Loss: 0.8722\n"
          ]
        },
        {
          "name": "stderr",
          "output_type": "stream",
          "text": [
            " 26%|██▋       | 1317/5000 [00:08<00:24, 153.02it/s]"
          ]
        },
        {
          "name": "stdout",
          "output_type": "stream",
          "text": [
            "DAgger Epoch [1300/5000], Loss: 0.8618\n"
          ]
        },
        {
          "name": "stderr",
          "output_type": "stream",
          "text": [
            " 28%|██▊       | 1413/5000 [00:09<00:32, 111.49it/s]"
          ]
        },
        {
          "name": "stdout",
          "output_type": "stream",
          "text": [
            "DAgger Epoch [1400/5000], Loss: 0.8666\n"
          ]
        },
        {
          "name": "stderr",
          "output_type": "stream",
          "text": [
            " 30%|███       | 1514/5000 [00:09<00:23, 145.71it/s]"
          ]
        },
        {
          "name": "stdout",
          "output_type": "stream",
          "text": [
            "DAgger Epoch [1500/5000], Loss: 0.8580\n"
          ]
        },
        {
          "name": "stderr",
          "output_type": "stream",
          "text": [
            " 32%|███▏      | 1624/5000 [00:10<00:18, 181.13it/s]"
          ]
        },
        {
          "name": "stdout",
          "output_type": "stream",
          "text": [
            "DAgger Epoch [1600/5000], Loss: 0.8534\n"
          ]
        },
        {
          "name": "stderr",
          "output_type": "stream",
          "text": [
            " 34%|███▍      | 1725/5000 [00:11<00:18, 175.45it/s]"
          ]
        },
        {
          "name": "stdout",
          "output_type": "stream",
          "text": [
            "DAgger Epoch [1700/5000], Loss: 0.8526\n"
          ]
        },
        {
          "name": "stderr",
          "output_type": "stream",
          "text": [
            " 36%|███▋      | 1817/5000 [00:11<00:15, 210.32it/s]"
          ]
        },
        {
          "name": "stdout",
          "output_type": "stream",
          "text": [
            "DAgger Epoch [1800/5000], Loss: 0.8506\n"
          ]
        },
        {
          "name": "stderr",
          "output_type": "stream",
          "text": [
            " 38%|███▊      | 1922/5000 [00:12<00:19, 161.71it/s]"
          ]
        },
        {
          "name": "stdout",
          "output_type": "stream",
          "text": [
            "DAgger Epoch [1900/5000], Loss: 0.8523\n"
          ]
        },
        {
          "name": "stderr",
          "output_type": "stream",
          "text": [
            " 40%|████      | 2009/5000 [00:13<00:25, 119.53it/s]"
          ]
        },
        {
          "name": "stdout",
          "output_type": "stream",
          "text": [
            "DAgger Epoch [2000/5000], Loss: 0.8512\n"
          ]
        },
        {
          "name": "stderr",
          "output_type": "stream",
          "text": [
            " 42%|████▎     | 2125/5000 [00:14<00:20, 143.18it/s]"
          ]
        },
        {
          "name": "stdout",
          "output_type": "stream",
          "text": [
            "DAgger Epoch [2100/5000], Loss: 0.8489\n"
          ]
        },
        {
          "name": "stderr",
          "output_type": "stream",
          "text": [
            " 45%|████▍     | 2226/5000 [00:14<00:18, 148.09it/s]"
          ]
        },
        {
          "name": "stdout",
          "output_type": "stream",
          "text": [
            "DAgger Epoch [2200/5000], Loss: 0.8493\n"
          ]
        },
        {
          "name": "stderr",
          "output_type": "stream",
          "text": [
            " 47%|████▋     | 2330/5000 [00:15<00:13, 203.30it/s]"
          ]
        },
        {
          "name": "stdout",
          "output_type": "stream",
          "text": [
            "DAgger Epoch [2300/5000], Loss: 0.8503\n"
          ]
        },
        {
          "name": "stderr",
          "output_type": "stream",
          "text": [
            " 49%|████▊     | 2426/5000 [00:15<00:11, 228.89it/s]"
          ]
        },
        {
          "name": "stdout",
          "output_type": "stream",
          "text": [
            "DAgger Epoch [2400/5000], Loss: 0.8462\n"
          ]
        },
        {
          "name": "stderr",
          "output_type": "stream",
          "text": [
            " 50%|█████     | 2522/5000 [00:16<00:10, 230.09it/s]"
          ]
        },
        {
          "name": "stdout",
          "output_type": "stream",
          "text": [
            "DAgger Epoch [2500/5000], Loss: 0.8451\n"
          ]
        },
        {
          "name": "stderr",
          "output_type": "stream",
          "text": [
            " 52%|█████▏    | 2618/5000 [00:16<00:18, 126.13it/s]"
          ]
        },
        {
          "name": "stdout",
          "output_type": "stream",
          "text": [
            "DAgger Epoch [2600/5000], Loss: 0.8495\n"
          ]
        },
        {
          "name": "stderr",
          "output_type": "stream",
          "text": [
            " 54%|█████▍    | 2723/5000 [00:17<00:13, 164.94it/s]"
          ]
        },
        {
          "name": "stdout",
          "output_type": "stream",
          "text": [
            "DAgger Epoch [2700/5000], Loss: 0.8476\n"
          ]
        },
        {
          "name": "stderr",
          "output_type": "stream",
          "text": [
            " 56%|█████▋    | 2817/5000 [00:18<00:17, 121.64it/s]"
          ]
        },
        {
          "name": "stdout",
          "output_type": "stream",
          "text": [
            "DAgger Epoch [2800/5000], Loss: 0.8460\n"
          ]
        },
        {
          "name": "stderr",
          "output_type": "stream",
          "text": [
            " 58%|█████▊    | 2925/5000 [00:19<00:15, 133.59it/s]"
          ]
        },
        {
          "name": "stdout",
          "output_type": "stream",
          "text": [
            "DAgger Epoch [2900/5000], Loss: 0.8420\n"
          ]
        },
        {
          "name": "stderr",
          "output_type": "stream",
          "text": [
            " 61%|██████    | 3045/5000 [00:19<00:08, 217.42it/s]"
          ]
        },
        {
          "name": "stdout",
          "output_type": "stream",
          "text": [
            "DAgger Epoch [3000/5000], Loss: 0.8469\n"
          ]
        },
        {
          "name": "stderr",
          "output_type": "stream",
          "text": [
            " 62%|██████▏   | 3116/5000 [00:20<00:12, 151.68it/s]"
          ]
        },
        {
          "name": "stdout",
          "output_type": "stream",
          "text": [
            "DAgger Epoch [3100/5000], Loss: 0.8453\n"
          ]
        },
        {
          "name": "stderr",
          "output_type": "stream",
          "text": [
            " 64%|██████▍   | 3220/5000 [00:20<00:09, 189.78it/s]"
          ]
        },
        {
          "name": "stdout",
          "output_type": "stream",
          "text": [
            "DAgger Epoch [3200/5000], Loss: 0.8429\n"
          ]
        },
        {
          "name": "stderr",
          "output_type": "stream",
          "text": [
            " 66%|██████▋   | 3320/5000 [00:21<00:09, 182.45it/s]"
          ]
        },
        {
          "name": "stdout",
          "output_type": "stream",
          "text": [
            "DAgger Epoch [3300/5000], Loss: 0.8434\n"
          ]
        },
        {
          "name": "stderr",
          "output_type": "stream",
          "text": [
            " 68%|██████▊   | 3423/5000 [00:22<00:09, 159.65it/s]"
          ]
        },
        {
          "name": "stdout",
          "output_type": "stream",
          "text": [
            "DAgger Epoch [3400/5000], Loss: 0.8428\n"
          ]
        },
        {
          "name": "stderr",
          "output_type": "stream",
          "text": [
            " 70%|███████   | 3517/5000 [00:23<00:12, 120.33it/s]"
          ]
        },
        {
          "name": "stdout",
          "output_type": "stream",
          "text": [
            "DAgger Epoch [3500/5000], Loss: 0.8510\n"
          ]
        },
        {
          "name": "stderr",
          "output_type": "stream",
          "text": [
            " 73%|███████▎  | 3647/5000 [00:23<00:06, 203.40it/s]"
          ]
        },
        {
          "name": "stdout",
          "output_type": "stream",
          "text": [
            "DAgger Epoch [3600/5000], Loss: 0.8451\n"
          ]
        },
        {
          "name": "stderr",
          "output_type": "stream",
          "text": [
            " 75%|███████▍  | 3741/5000 [00:24<00:05, 224.00it/s]"
          ]
        },
        {
          "name": "stdout",
          "output_type": "stream",
          "text": [
            "DAgger Epoch [3700/5000], Loss: 0.8435\n"
          ]
        },
        {
          "name": "stderr",
          "output_type": "stream",
          "text": [
            " 77%|███████▋  | 3828/5000 [00:24<00:06, 177.70it/s]"
          ]
        },
        {
          "name": "stdout",
          "output_type": "stream",
          "text": [
            "DAgger Epoch [3800/5000], Loss: 0.8431\n"
          ]
        },
        {
          "name": "stderr",
          "output_type": "stream",
          "text": [
            " 78%|███████▊  | 3916/5000 [00:25<00:06, 165.28it/s]"
          ]
        },
        {
          "name": "stdout",
          "output_type": "stream",
          "text": [
            "DAgger Epoch [3900/5000], Loss: 0.8447\n"
          ]
        },
        {
          "name": "stderr",
          "output_type": "stream",
          "text": [
            " 80%|████████  | 4008/5000 [00:25<00:07, 129.49it/s]"
          ]
        },
        {
          "name": "stdout",
          "output_type": "stream",
          "text": [
            "DAgger Epoch [4000/5000], Loss: 0.8436\n"
          ]
        },
        {
          "name": "stderr",
          "output_type": "stream",
          "text": [
            " 82%|████████▏ | 4109/5000 [00:26<00:04, 193.98it/s]"
          ]
        },
        {
          "name": "stdout",
          "output_type": "stream",
          "text": [
            "DAgger Epoch [4100/5000], Loss: 0.8431\n"
          ]
        },
        {
          "name": "stderr",
          "output_type": "stream",
          "text": [
            " 85%|████████▍ | 4231/5000 [00:27<00:04, 164.54it/s]"
          ]
        },
        {
          "name": "stdout",
          "output_type": "stream",
          "text": [
            "DAgger Epoch [4200/5000], Loss: 0.8409\n"
          ]
        },
        {
          "name": "stderr",
          "output_type": "stream",
          "text": [
            " 87%|████████▋ | 4345/5000 [00:27<00:03, 216.37it/s]"
          ]
        },
        {
          "name": "stdout",
          "output_type": "stream",
          "text": [
            "DAgger Epoch [4300/5000], Loss: 0.8454\n"
          ]
        },
        {
          "name": "stderr",
          "output_type": "stream",
          "text": [
            " 88%|████████▊ | 4413/5000 [00:28<00:03, 151.69it/s]"
          ]
        },
        {
          "name": "stdout",
          "output_type": "stream",
          "text": [
            "DAgger Epoch [4400/5000], Loss: 0.8457\n"
          ]
        },
        {
          "name": "stderr",
          "output_type": "stream",
          "text": [
            " 90%|█████████ | 4524/5000 [00:28<00:02, 172.15it/s]"
          ]
        },
        {
          "name": "stdout",
          "output_type": "stream",
          "text": [
            "DAgger Epoch [4500/5000], Loss: 0.8429\n"
          ]
        },
        {
          "name": "stderr",
          "output_type": "stream",
          "text": [
            " 92%|█████████▏| 4607/5000 [00:29<00:02, 133.48it/s]"
          ]
        },
        {
          "name": "stdout",
          "output_type": "stream",
          "text": [
            "DAgger Epoch [4600/5000], Loss: 0.8438\n"
          ]
        },
        {
          "name": "stderr",
          "output_type": "stream",
          "text": [
            " 94%|█████████▍| 4718/5000 [00:30<00:01, 182.94it/s]"
          ]
        },
        {
          "name": "stdout",
          "output_type": "stream",
          "text": [
            "DAgger Epoch [4700/5000], Loss: 0.8390\n"
          ]
        },
        {
          "name": "stderr",
          "output_type": "stream",
          "text": [
            " 97%|█████████▋| 4846/5000 [00:31<00:00, 208.61it/s]"
          ]
        },
        {
          "name": "stdout",
          "output_type": "stream",
          "text": [
            "DAgger Epoch [4800/5000], Loss: 0.8382\n"
          ]
        },
        {
          "name": "stderr",
          "output_type": "stream",
          "text": [
            " 99%|█████████▊| 4937/5000 [00:31<00:00, 210.15it/s]"
          ]
        },
        {
          "name": "stdout",
          "output_type": "stream",
          "text": [
            "DAgger Epoch [4900/5000], Loss: 0.8424\n"
          ]
        },
        {
          "name": "stderr",
          "output_type": "stream",
          "text": [
            "100%|██████████| 5000/5000 [00:32<00:00, 155.35it/s]\n"
          ]
        },
        {
          "name": "stdout",
          "output_type": "stream",
          "text": [
            "DAgger Epoch [5000/5000], Loss: 0.8391\n",
            "## Iteration: 4 ###########\n",
            "Step 1: Generate data from model\n"
          ]
        },
        {
          "name": "stderr",
          "output_type": "stream",
          "text": [
            "100%|██████████| 5/5 [00:31<00:00,  6.27s/it]\n"
          ]
        },
        {
          "name": "stdout",
          "output_type": "stream",
          "text": [
            "Avg. Return : 252.824949001133\n",
            "Step 2: Label new data with expert policy\n",
            "Step 3: Aggregate new data with all previous data. Size: 3099\n",
            "Step 4: Retrain model with new combined dataset\n"
          ]
        },
        {
          "name": "stderr",
          "output_type": "stream",
          "text": [
            "  2%|▏         | 119/5000 [00:00<00:34, 140.84it/s]"
          ]
        },
        {
          "name": "stdout",
          "output_type": "stream",
          "text": [
            "DAgger Epoch [100/5000], Loss: 0.9002\n"
          ]
        },
        {
          "name": "stderr",
          "output_type": "stream",
          "text": [
            "  4%|▍         | 213/5000 [00:01<00:42, 113.48it/s]"
          ]
        },
        {
          "name": "stdout",
          "output_type": "stream",
          "text": [
            "DAgger Epoch [200/5000], Loss: 0.8919\n"
          ]
        },
        {
          "name": "stderr",
          "output_type": "stream",
          "text": [
            "  6%|▋         | 324/5000 [00:02<00:30, 155.02it/s]"
          ]
        },
        {
          "name": "stdout",
          "output_type": "stream",
          "text": [
            "DAgger Epoch [300/5000], Loss: 0.8904\n"
          ]
        },
        {
          "name": "stderr",
          "output_type": "stream",
          "text": [
            "  9%|▊         | 429/5000 [00:03<00:29, 153.30it/s]"
          ]
        },
        {
          "name": "stdout",
          "output_type": "stream",
          "text": [
            "DAgger Epoch [400/5000], Loss: 0.8904\n"
          ]
        },
        {
          "name": "stderr",
          "output_type": "stream",
          "text": [
            " 10%|█         | 512/5000 [00:04<00:35, 126.30it/s]"
          ]
        },
        {
          "name": "stdout",
          "output_type": "stream",
          "text": [
            "DAgger Epoch [500/5000], Loss: 0.8892\n"
          ]
        },
        {
          "name": "stderr",
          "output_type": "stream",
          "text": [
            " 12%|█▏        | 615/5000 [00:04<00:38, 114.34it/s]"
          ]
        },
        {
          "name": "stdout",
          "output_type": "stream",
          "text": [
            "DAgger Epoch [600/5000], Loss: 0.8887\n"
          ]
        },
        {
          "name": "stderr",
          "output_type": "stream",
          "text": [
            " 14%|█▍        | 716/5000 [00:05<00:33, 128.27it/s]"
          ]
        },
        {
          "name": "stdout",
          "output_type": "stream",
          "text": [
            "DAgger Epoch [700/5000], Loss: 0.8881\n"
          ]
        },
        {
          "name": "stderr",
          "output_type": "stream",
          "text": [
            " 16%|█▋        | 813/5000 [00:06<00:29, 144.28it/s]"
          ]
        },
        {
          "name": "stdout",
          "output_type": "stream",
          "text": [
            "DAgger Epoch [800/5000], Loss: 0.8871\n"
          ]
        },
        {
          "name": "stderr",
          "output_type": "stream",
          "text": [
            " 18%|█▊        | 923/5000 [00:07<00:38, 105.06it/s]"
          ]
        },
        {
          "name": "stdout",
          "output_type": "stream",
          "text": [
            "DAgger Epoch [900/5000], Loss: 0.8862\n"
          ]
        },
        {
          "name": "stderr",
          "output_type": "stream",
          "text": [
            " 20%|██        | 1017/5000 [00:08<00:36, 110.50it/s]"
          ]
        },
        {
          "name": "stdout",
          "output_type": "stream",
          "text": [
            "DAgger Epoch [1000/5000], Loss: 0.8852\n"
          ]
        },
        {
          "name": "stderr",
          "output_type": "stream",
          "text": [
            " 22%|██▏       | 1113/5000 [00:08<00:29, 131.98it/s]"
          ]
        },
        {
          "name": "stdout",
          "output_type": "stream",
          "text": [
            "DAgger Epoch [1100/5000], Loss: 0.8849\n"
          ]
        },
        {
          "name": "stderr",
          "output_type": "stream",
          "text": [
            " 24%|██▍       | 1217/5000 [00:09<00:27, 136.94it/s]"
          ]
        },
        {
          "name": "stdout",
          "output_type": "stream",
          "text": [
            "DAgger Epoch [1200/5000], Loss: 0.8843\n"
          ]
        },
        {
          "name": "stderr",
          "output_type": "stream",
          "text": [
            " 26%|██▋       | 1317/5000 [00:10<00:22, 163.25it/s]"
          ]
        },
        {
          "name": "stdout",
          "output_type": "stream",
          "text": [
            "DAgger Epoch [1300/5000], Loss: 0.8841\n"
          ]
        },
        {
          "name": "stderr",
          "output_type": "stream",
          "text": [
            " 28%|██▊       | 1409/5000 [00:10<00:22, 157.98it/s]"
          ]
        },
        {
          "name": "stdout",
          "output_type": "stream",
          "text": [
            "DAgger Epoch [1400/5000], Loss: 0.8841\n"
          ]
        },
        {
          "name": "stderr",
          "output_type": "stream",
          "text": [
            " 30%|███       | 1510/5000 [00:11<00:26, 130.36it/s]"
          ]
        },
        {
          "name": "stdout",
          "output_type": "stream",
          "text": [
            "DAgger Epoch [1500/5000], Loss: 0.8836\n"
          ]
        },
        {
          "name": "stderr",
          "output_type": "stream",
          "text": [
            " 32%|███▏      | 1613/5000 [00:12<00:33, 101.95it/s]"
          ]
        },
        {
          "name": "stdout",
          "output_type": "stream",
          "text": [
            "DAgger Epoch [1600/5000], Loss: 0.8832\n"
          ]
        },
        {
          "name": "stderr",
          "output_type": "stream",
          "text": [
            " 34%|███▍      | 1718/5000 [00:13<00:26, 121.88it/s]"
          ]
        },
        {
          "name": "stdout",
          "output_type": "stream",
          "text": [
            "DAgger Epoch [1700/5000], Loss: 0.8827\n"
          ]
        },
        {
          "name": "stderr",
          "output_type": "stream",
          "text": [
            " 37%|███▋      | 1828/5000 [00:14<00:20, 156.24it/s]"
          ]
        },
        {
          "name": "stdout",
          "output_type": "stream",
          "text": [
            "DAgger Epoch [1800/5000], Loss: 0.8828\n"
          ]
        },
        {
          "name": "stderr",
          "output_type": "stream",
          "text": [
            " 38%|███▊      | 1907/5000 [00:14<00:27, 112.75it/s]"
          ]
        },
        {
          "name": "stdout",
          "output_type": "stream",
          "text": [
            "DAgger Epoch [1900/5000], Loss: 0.8824\n"
          ]
        },
        {
          "name": "stderr",
          "output_type": "stream",
          "text": [
            " 40%|████      | 2016/5000 [00:16<00:32, 91.12it/s] "
          ]
        },
        {
          "name": "stdout",
          "output_type": "stream",
          "text": [
            "DAgger Epoch [2000/5000], Loss: 0.8815\n"
          ]
        },
        {
          "name": "stderr",
          "output_type": "stream",
          "text": [
            " 42%|████▏     | 2110/5000 [00:17<00:35, 81.84it/s]"
          ]
        },
        {
          "name": "stdout",
          "output_type": "stream",
          "text": [
            "DAgger Epoch [2100/5000], Loss: 0.8817\n"
          ]
        },
        {
          "name": "stderr",
          "output_type": "stream",
          "text": [
            " 45%|████▍     | 2233/5000 [00:17<00:16, 170.06it/s]"
          ]
        },
        {
          "name": "stdout",
          "output_type": "stream",
          "text": [
            "DAgger Epoch [2200/5000], Loss: 0.8810\n"
          ]
        },
        {
          "name": "stderr",
          "output_type": "stream",
          "text": [
            " 47%|████▋     | 2332/5000 [00:18<00:14, 186.95it/s]"
          ]
        },
        {
          "name": "stdout",
          "output_type": "stream",
          "text": [
            "DAgger Epoch [2300/5000], Loss: 0.8812\n"
          ]
        },
        {
          "name": "stderr",
          "output_type": "stream",
          "text": [
            " 48%|████▊     | 2406/5000 [00:19<00:22, 113.39it/s]"
          ]
        },
        {
          "name": "stdout",
          "output_type": "stream",
          "text": [
            "DAgger Epoch [2400/5000], Loss: 0.8814\n"
          ]
        },
        {
          "name": "stderr",
          "output_type": "stream",
          "text": [
            " 51%|█████     | 2527/5000 [00:20<00:17, 138.87it/s]"
          ]
        },
        {
          "name": "stdout",
          "output_type": "stream",
          "text": [
            "DAgger Epoch [2500/5000], Loss: 0.8814\n"
          ]
        },
        {
          "name": "stderr",
          "output_type": "stream",
          "text": [
            " 52%|█████▏    | 2624/5000 [00:20<00:17, 135.18it/s]"
          ]
        },
        {
          "name": "stdout",
          "output_type": "stream",
          "text": [
            "DAgger Epoch [2600/5000], Loss: 0.8817\n"
          ]
        },
        {
          "name": "stderr",
          "output_type": "stream",
          "text": [
            " 54%|█████▍    | 2720/5000 [00:21<00:16, 139.45it/s]"
          ]
        },
        {
          "name": "stdout",
          "output_type": "stream",
          "text": [
            "DAgger Epoch [2700/5000], Loss: 0.8810\n"
          ]
        },
        {
          "name": "stderr",
          "output_type": "stream",
          "text": [
            " 57%|█████▋    | 2826/5000 [00:22<00:13, 158.35it/s]"
          ]
        },
        {
          "name": "stdout",
          "output_type": "stream",
          "text": [
            "DAgger Epoch [2800/5000], Loss: 0.8808\n"
          ]
        },
        {
          "name": "stderr",
          "output_type": "stream",
          "text": [
            " 58%|█████▊    | 2911/5000 [00:23<00:17, 120.66it/s]"
          ]
        },
        {
          "name": "stdout",
          "output_type": "stream",
          "text": [
            "DAgger Epoch [2900/5000], Loss: 0.8804\n"
          ]
        },
        {
          "name": "stderr",
          "output_type": "stream",
          "text": [
            " 60%|██████    | 3007/5000 [00:23<00:17, 115.49it/s]"
          ]
        },
        {
          "name": "stdout",
          "output_type": "stream",
          "text": [
            "DAgger Epoch [3000/5000], Loss: 0.8803\n"
          ]
        },
        {
          "name": "stderr",
          "output_type": "stream",
          "text": [
            " 62%|██████▏   | 3112/5000 [00:25<00:21, 89.56it/s] "
          ]
        },
        {
          "name": "stdout",
          "output_type": "stream",
          "text": [
            "DAgger Epoch [3100/5000], Loss: 0.8803\n"
          ]
        },
        {
          "name": "stderr",
          "output_type": "stream",
          "text": [
            " 64%|██████▍   | 3224/5000 [00:26<00:13, 131.37it/s]"
          ]
        },
        {
          "name": "stdout",
          "output_type": "stream",
          "text": [
            "DAgger Epoch [3200/5000], Loss: 0.8802\n"
          ]
        },
        {
          "name": "stderr",
          "output_type": "stream",
          "text": [
            " 66%|██████▋   | 3313/5000 [00:26<00:12, 135.63it/s]"
          ]
        },
        {
          "name": "stdout",
          "output_type": "stream",
          "text": [
            "DAgger Epoch [3300/5000], Loss: 0.8801\n"
          ]
        },
        {
          "name": "stderr",
          "output_type": "stream",
          "text": [
            " 68%|██████▊   | 3409/5000 [00:27<00:11, 133.56it/s]"
          ]
        },
        {
          "name": "stdout",
          "output_type": "stream",
          "text": [
            "DAgger Epoch [3400/5000], Loss: 0.8797\n"
          ]
        },
        {
          "name": "stderr",
          "output_type": "stream",
          "text": [
            " 70%|██████▉   | 3496/5000 [00:27<00:09, 157.57it/s]"
          ]
        },
        {
          "name": "stdout",
          "output_type": "stream",
          "text": [
            "DAgger Epoch [3500/5000], Loss: 0.8800\n"
          ]
        },
        {
          "name": "stderr",
          "output_type": "stream",
          "text": [
            " 72%|███████▏  | 3602/5000 [00:28<00:13, 101.31it/s]"
          ]
        },
        {
          "name": "stdout",
          "output_type": "stream",
          "text": [
            "DAgger Epoch [3600/5000], Loss: 0.8796\n"
          ]
        },
        {
          "name": "stderr",
          "output_type": "stream",
          "text": [
            " 74%|███████▍  | 3714/5000 [00:29<00:13, 92.36it/s] "
          ]
        },
        {
          "name": "stdout",
          "output_type": "stream",
          "text": [
            "DAgger Epoch [3700/5000], Loss: 0.8797\n"
          ]
        },
        {
          "name": "stderr",
          "output_type": "stream",
          "text": [
            " 76%|███████▌  | 3811/5000 [00:30<00:07, 163.17it/s]"
          ]
        },
        {
          "name": "stdout",
          "output_type": "stream",
          "text": [
            "DAgger Epoch [3800/5000], Loss: 0.8791\n"
          ]
        },
        {
          "name": "stderr",
          "output_type": "stream",
          "text": [
            " 78%|███████▊  | 3904/5000 [00:31<00:08, 136.30it/s]"
          ]
        },
        {
          "name": "stdout",
          "output_type": "stream",
          "text": [
            "DAgger Epoch [3900/5000], Loss: 0.8791\n"
          ]
        },
        {
          "name": "stderr",
          "output_type": "stream",
          "text": [
            " 80%|████████  | 4012/5000 [00:32<00:10, 97.76it/s] "
          ]
        },
        {
          "name": "stdout",
          "output_type": "stream",
          "text": [
            "DAgger Epoch [4000/5000], Loss: 0.8791\n"
          ]
        },
        {
          "name": "stderr",
          "output_type": "stream",
          "text": [
            " 82%|████████▏ | 4116/5000 [00:33<00:09, 97.05it/s] "
          ]
        },
        {
          "name": "stdout",
          "output_type": "stream",
          "text": [
            "DAgger Epoch [4100/5000], Loss: 0.8792\n"
          ]
        },
        {
          "name": "stderr",
          "output_type": "stream",
          "text": [
            " 85%|████████▍ | 4227/5000 [00:33<00:06, 123.84it/s]"
          ]
        },
        {
          "name": "stdout",
          "output_type": "stream",
          "text": [
            "DAgger Epoch [4200/5000], Loss: 0.8793\n"
          ]
        },
        {
          "name": "stderr",
          "output_type": "stream",
          "text": [
            " 86%|████████▋ | 4317/5000 [00:34<00:04, 144.73it/s]"
          ]
        },
        {
          "name": "stdout",
          "output_type": "stream",
          "text": [
            "DAgger Epoch [4300/5000], Loss: 0.8792\n"
          ]
        },
        {
          "name": "stderr",
          "output_type": "stream",
          "text": [
            " 88%|████████▊ | 4412/5000 [00:35<00:03, 166.75it/s]"
          ]
        },
        {
          "name": "stdout",
          "output_type": "stream",
          "text": [
            "DAgger Epoch [4400/5000], Loss: 0.8791\n"
          ]
        },
        {
          "name": "stderr",
          "output_type": "stream",
          "text": [
            " 90%|█████████ | 4513/5000 [00:35<00:03, 122.88it/s]"
          ]
        },
        {
          "name": "stdout",
          "output_type": "stream",
          "text": [
            "DAgger Epoch [4500/5000], Loss: 0.8789\n"
          ]
        },
        {
          "name": "stderr",
          "output_type": "stream",
          "text": [
            " 92%|█████████▏| 4606/5000 [00:36<00:03, 99.17it/s] "
          ]
        },
        {
          "name": "stdout",
          "output_type": "stream",
          "text": [
            "DAgger Epoch [4600/5000], Loss: 0.8789\n"
          ]
        },
        {
          "name": "stderr",
          "output_type": "stream",
          "text": [
            " 94%|█████████▍| 4708/5000 [00:37<00:03, 96.98it/s] "
          ]
        },
        {
          "name": "stdout",
          "output_type": "stream",
          "text": [
            "DAgger Epoch [4700/5000], Loss: 0.8790\n"
          ]
        },
        {
          "name": "stderr",
          "output_type": "stream",
          "text": [
            " 97%|█████████▋| 4829/5000 [00:38<00:01, 138.27it/s]"
          ]
        },
        {
          "name": "stdout",
          "output_type": "stream",
          "text": [
            "DAgger Epoch [4800/5000], Loss: 0.8804\n"
          ]
        },
        {
          "name": "stderr",
          "output_type": "stream",
          "text": [
            " 98%|█████████▊| 4905/5000 [00:39<00:00, 174.10it/s]"
          ]
        },
        {
          "name": "stdout",
          "output_type": "stream",
          "text": [
            "DAgger Epoch [4900/5000], Loss: 0.8801\n"
          ]
        },
        {
          "name": "stderr",
          "output_type": "stream",
          "text": [
            "100%|██████████| 5000/5000 [00:39<00:00, 125.06it/s]"
          ]
        },
        {
          "name": "stdout",
          "output_type": "stream",
          "text": [
            "DAgger Epoch [5000/5000], Loss: 0.8809\n"
          ]
        },
        {
          "name": "stderr",
          "output_type": "stream",
          "text": [
            "\n"
          ]
        }
      ],
      "source": [
        "# Implement and run the DAgger algorithm\n",
        "expert_policy = PPO.load(\"ppo_lunarlander_v1\")\n",
        "model = ImitationNetwork(input_dim, output_dim).to('cuda')\n",
        "\n",
        "dagger_model = dagger(env, expert_policy, model,\n",
        "                     num_iterations=5,\n",
        "                      num_episodes_per_iter=5,\n",
        "                      num_epochs=5000)"
      ]
    },
    {
      "cell_type": "code",
      "execution_count": null,
      "id": "b3b296bb-a67f-493b-97aa-d8b17a306bd1",
      "metadata": {
        "id": "b3b296bb-a67f-493b-97aa-d8b17a306bd1",
        "outputId": "cb6096af-2d7c-4440-9ee3-8c3bd6381546"
      },
      "outputs": [
        {
          "name": "stderr",
          "output_type": "stream",
          "text": [
            " 10%|█         | 1/10 [00:03<00:33,  3.74s/it]"
          ]
        },
        {
          "name": "stdout",
          "output_type": "stream",
          "text": [
            "Total reward: 269.0916049408647\n"
          ]
        },
        {
          "name": "stderr",
          "output_type": "stream",
          "text": [
            " 20%|██        | 2/10 [00:07<00:30,  3.75s/it]"
          ]
        },
        {
          "name": "stdout",
          "output_type": "stream",
          "text": [
            "Total reward: 283.98334939401263\n"
          ]
        },
        {
          "name": "stderr",
          "output_type": "stream",
          "text": [
            " 30%|███       | 3/10 [00:11<00:28,  4.06s/it]"
          ]
        },
        {
          "name": "stdout",
          "output_type": "stream",
          "text": [
            "Total reward: 280.05081623451105\n"
          ]
        },
        {
          "name": "stderr",
          "output_type": "stream",
          "text": [
            " 30%|███       | 3/10 [00:14<00:33,  4.74s/it]\n"
          ]
        },
        {
          "ename": "KeyboardInterrupt",
          "evalue": "",
          "output_type": "error",
          "traceback": [
            "\u001b[0;31m---------------------------------------------------------------------------\u001b[0m",
            "\u001b[0;31mKeyboardInterrupt\u001b[0m                         Traceback (most recent call last)",
            "Cell \u001b[0;32mIn[125], line 1\u001b[0m\n\u001b[0;32m----> 1\u001b[0m rewards_dagger \u001b[38;5;241m=\u001b[39m \u001b[43mevaluate\u001b[49m\u001b[43m(\u001b[49m\u001b[43menv\u001b[49m\u001b[43m,\u001b[49m\u001b[43m \u001b[49m\u001b[43mdagger_model\u001b[49m\u001b[38;5;241;43m.\u001b[39;49m\u001b[43mto\u001b[49m\u001b[43m(\u001b[49m\u001b[38;5;124;43m'\u001b[39;49m\u001b[38;5;124;43mcpu\u001b[39;49m\u001b[38;5;124;43m'\u001b[39;49m\u001b[43m)\u001b[49m\u001b[43m,\u001b[49m\u001b[43m \u001b[49m\u001b[43mnum_episodes\u001b[49m\u001b[38;5;241;43m=\u001b[39;49m\u001b[38;5;241;43m10\u001b[39;49m\u001b[43m)\u001b[49m\n\u001b[1;32m      2\u001b[0m \u001b[38;5;28mprint\u001b[39m(\u001b[38;5;124mf\u001b[39m\u001b[38;5;124m\"\u001b[39m\u001b[38;5;124mAverage reward over \u001b[39m\u001b[38;5;132;01m{\u001b[39;00m\u001b[38;5;28mlen\u001b[39m(rewards_dagger)\u001b[38;5;132;01m}\u001b[39;00m\u001b[38;5;124m DAgger episodes: \u001b[39m\u001b[38;5;132;01m{\u001b[39;00mnp\u001b[38;5;241m.\u001b[39mmean(rewards_dagger)\u001b[38;5;132;01m}\u001b[39;00m\u001b[38;5;124m\"\u001b[39m)\n",
            "Cell \u001b[0;32mIn[123], line 17\u001b[0m, in \u001b[0;36mevaluate\u001b[0;34m(env, model, num_episodes)\u001b[0m\n\u001b[1;32m     15\u001b[0m         action_probs \u001b[38;5;241m=\u001b[39m model(state_tensor)\n\u001b[1;32m     16\u001b[0m     action \u001b[38;5;241m=\u001b[39m torch\u001b[38;5;241m.\u001b[39margmax(action_probs, dim\u001b[38;5;241m=\u001b[39m\u001b[38;5;241m1\u001b[39m)\u001b[38;5;241m.\u001b[39mitem()\n\u001b[0;32m---> 17\u001b[0m     state, reward, done, _, _ \u001b[38;5;241m=\u001b[39m \u001b[43menv\u001b[49m\u001b[38;5;241;43m.\u001b[39;49m\u001b[43mstep\u001b[49m\u001b[43m(\u001b[49m\u001b[43maction\u001b[49m\u001b[43m)\u001b[49m\n\u001b[1;32m     18\u001b[0m     total_reward \u001b[38;5;241m+\u001b[39m\u001b[38;5;241m=\u001b[39m reward\n\u001b[1;32m     19\u001b[0m rewards\u001b[38;5;241m.\u001b[39mappend(total_reward)\n",
            "File \u001b[0;32m~/.local/lib/python3.10/site-packages/gymnasium/wrappers/common.py:125\u001b[0m, in \u001b[0;36mTimeLimit.step\u001b[0;34m(self, action)\u001b[0m\n\u001b[1;32m    112\u001b[0m \u001b[38;5;28;01mdef\u001b[39;00m \u001b[38;5;21mstep\u001b[39m(\n\u001b[1;32m    113\u001b[0m     \u001b[38;5;28mself\u001b[39m, action: ActType\n\u001b[1;32m    114\u001b[0m ) \u001b[38;5;241m-\u001b[39m\u001b[38;5;241m>\u001b[39m \u001b[38;5;28mtuple\u001b[39m[ObsType, SupportsFloat, \u001b[38;5;28mbool\u001b[39m, \u001b[38;5;28mbool\u001b[39m, \u001b[38;5;28mdict\u001b[39m[\u001b[38;5;28mstr\u001b[39m, Any]]:\n\u001b[1;32m    115\u001b[0m \u001b[38;5;250m    \u001b[39m\u001b[38;5;124;03m\"\"\"Steps through the environment and if the number of steps elapsed exceeds ``max_episode_steps`` then truncate.\u001b[39;00m\n\u001b[1;32m    116\u001b[0m \n\u001b[1;32m    117\u001b[0m \u001b[38;5;124;03m    Args:\u001b[39;00m\n\u001b[0;32m   (...)\u001b[0m\n\u001b[1;32m    123\u001b[0m \n\u001b[1;32m    124\u001b[0m \u001b[38;5;124;03m    \"\"\"\u001b[39;00m\n\u001b[0;32m--> 125\u001b[0m     observation, reward, terminated, truncated, info \u001b[38;5;241m=\u001b[39m \u001b[38;5;28;43mself\u001b[39;49m\u001b[38;5;241;43m.\u001b[39;49m\u001b[43menv\u001b[49m\u001b[38;5;241;43m.\u001b[39;49m\u001b[43mstep\u001b[49m\u001b[43m(\u001b[49m\u001b[43maction\u001b[49m\u001b[43m)\u001b[49m\n\u001b[1;32m    126\u001b[0m     \u001b[38;5;28mself\u001b[39m\u001b[38;5;241m.\u001b[39m_elapsed_steps \u001b[38;5;241m+\u001b[39m\u001b[38;5;241m=\u001b[39m \u001b[38;5;241m1\u001b[39m\n\u001b[1;32m    128\u001b[0m     \u001b[38;5;28;01mif\u001b[39;00m \u001b[38;5;28mself\u001b[39m\u001b[38;5;241m.\u001b[39m_elapsed_steps \u001b[38;5;241m>\u001b[39m\u001b[38;5;241m=\u001b[39m \u001b[38;5;28mself\u001b[39m\u001b[38;5;241m.\u001b[39m_max_episode_steps:\n",
            "File \u001b[0;32m~/.local/lib/python3.10/site-packages/gymnasium/wrappers/common.py:393\u001b[0m, in \u001b[0;36mOrderEnforcing.step\u001b[0;34m(self, action)\u001b[0m\n\u001b[1;32m    391\u001b[0m \u001b[38;5;28;01mif\u001b[39;00m \u001b[38;5;129;01mnot\u001b[39;00m \u001b[38;5;28mself\u001b[39m\u001b[38;5;241m.\u001b[39m_has_reset:\n\u001b[1;32m    392\u001b[0m     \u001b[38;5;28;01mraise\u001b[39;00m ResetNeeded(\u001b[38;5;124m\"\u001b[39m\u001b[38;5;124mCannot call env.step() before calling env.reset()\u001b[39m\u001b[38;5;124m\"\u001b[39m)\n\u001b[0;32m--> 393\u001b[0m \u001b[38;5;28;01mreturn\u001b[39;00m \u001b[38;5;28;43msuper\u001b[39;49m\u001b[43m(\u001b[49m\u001b[43m)\u001b[49m\u001b[38;5;241;43m.\u001b[39;49m\u001b[43mstep\u001b[49m\u001b[43m(\u001b[49m\u001b[43maction\u001b[49m\u001b[43m)\u001b[49m\n",
            "File \u001b[0;32m~/.local/lib/python3.10/site-packages/gymnasium/core.py:322\u001b[0m, in \u001b[0;36mWrapper.step\u001b[0;34m(self, action)\u001b[0m\n\u001b[1;32m    318\u001b[0m \u001b[38;5;28;01mdef\u001b[39;00m \u001b[38;5;21mstep\u001b[39m(\n\u001b[1;32m    319\u001b[0m     \u001b[38;5;28mself\u001b[39m, action: WrapperActType\n\u001b[1;32m    320\u001b[0m ) \u001b[38;5;241m-\u001b[39m\u001b[38;5;241m>\u001b[39m \u001b[38;5;28mtuple\u001b[39m[WrapperObsType, SupportsFloat, \u001b[38;5;28mbool\u001b[39m, \u001b[38;5;28mbool\u001b[39m, \u001b[38;5;28mdict\u001b[39m[\u001b[38;5;28mstr\u001b[39m, Any]]:\n\u001b[1;32m    321\u001b[0m \u001b[38;5;250m    \u001b[39m\u001b[38;5;124;03m\"\"\"Uses the :meth:`step` of the :attr:`env` that can be overwritten to change the returned data.\"\"\"\u001b[39;00m\n\u001b[0;32m--> 322\u001b[0m     \u001b[38;5;28;01mreturn\u001b[39;00m \u001b[38;5;28;43mself\u001b[39;49m\u001b[38;5;241;43m.\u001b[39;49m\u001b[43menv\u001b[49m\u001b[38;5;241;43m.\u001b[39;49m\u001b[43mstep\u001b[49m\u001b[43m(\u001b[49m\u001b[43maction\u001b[49m\u001b[43m)\u001b[49m\n",
            "File \u001b[0;32m~/.local/lib/python3.10/site-packages/gymnasium/wrappers/common.py:285\u001b[0m, in \u001b[0;36mPassiveEnvChecker.step\u001b[0;34m(self, action)\u001b[0m\n\u001b[1;32m    283\u001b[0m     \u001b[38;5;28;01mreturn\u001b[39;00m env_step_passive_checker(\u001b[38;5;28mself\u001b[39m\u001b[38;5;241m.\u001b[39menv, action)\n\u001b[1;32m    284\u001b[0m \u001b[38;5;28;01melse\u001b[39;00m:\n\u001b[0;32m--> 285\u001b[0m     \u001b[38;5;28;01mreturn\u001b[39;00m \u001b[38;5;28;43mself\u001b[39;49m\u001b[38;5;241;43m.\u001b[39;49m\u001b[43menv\u001b[49m\u001b[38;5;241;43m.\u001b[39;49m\u001b[43mstep\u001b[49m\u001b[43m(\u001b[49m\u001b[43maction\u001b[49m\u001b[43m)\u001b[49m\n",
            "File \u001b[0;32m~/.local/lib/python3.10/site-packages/gymnasium/envs/box2d/lunar_lander.py:665\u001b[0m, in \u001b[0;36mLunarLander.step\u001b[0;34m(self, action)\u001b[0m\n\u001b[1;32m    662\u001b[0m     reward \u001b[38;5;241m=\u001b[39m \u001b[38;5;241m+\u001b[39m\u001b[38;5;241m100\u001b[39m\n\u001b[1;32m    664\u001b[0m \u001b[38;5;28;01mif\u001b[39;00m \u001b[38;5;28mself\u001b[39m\u001b[38;5;241m.\u001b[39mrender_mode \u001b[38;5;241m==\u001b[39m \u001b[38;5;124m\"\u001b[39m\u001b[38;5;124mhuman\u001b[39m\u001b[38;5;124m\"\u001b[39m:\n\u001b[0;32m--> 665\u001b[0m     \u001b[38;5;28;43mself\u001b[39;49m\u001b[38;5;241;43m.\u001b[39;49m\u001b[43mrender\u001b[49m\u001b[43m(\u001b[49m\u001b[43m)\u001b[49m\n\u001b[1;32m    666\u001b[0m \u001b[38;5;66;03m# truncation=False as the time limit is handled by the `TimeLimit` wrapper added during `make`\u001b[39;00m\n\u001b[1;32m    667\u001b[0m \u001b[38;5;28;01mreturn\u001b[39;00m np\u001b[38;5;241m.\u001b[39marray(state, dtype\u001b[38;5;241m=\u001b[39mnp\u001b[38;5;241m.\u001b[39mfloat32), reward, terminated, \u001b[38;5;28;01mFalse\u001b[39;00m, {}\n",
            "File \u001b[0;32m~/.local/lib/python3.10/site-packages/gymnasium/envs/box2d/lunar_lander.py:750\u001b[0m, in \u001b[0;36mLunarLander.render\u001b[0;34m(self)\u001b[0m\n\u001b[1;32m    748\u001b[0m flagy1 \u001b[38;5;241m=\u001b[39m \u001b[38;5;28mself\u001b[39m\u001b[38;5;241m.\u001b[39mhelipad_y \u001b[38;5;241m*\u001b[39m SCALE\n\u001b[1;32m    749\u001b[0m flagy2 \u001b[38;5;241m=\u001b[39m flagy1 \u001b[38;5;241m+\u001b[39m \u001b[38;5;241m50\u001b[39m\n\u001b[0;32m--> 750\u001b[0m \u001b[43mpygame\u001b[49m\u001b[38;5;241;43m.\u001b[39;49m\u001b[43mdraw\u001b[49m\u001b[38;5;241;43m.\u001b[39;49m\u001b[43mline\u001b[49m\u001b[43m(\u001b[49m\n\u001b[1;32m    751\u001b[0m \u001b[43m    \u001b[49m\u001b[38;5;28;43mself\u001b[39;49m\u001b[38;5;241;43m.\u001b[39;49m\u001b[43msurf\u001b[49m\u001b[43m,\u001b[49m\n\u001b[1;32m    752\u001b[0m \u001b[43m    \u001b[49m\u001b[43mcolor\u001b[49m\u001b[38;5;241;43m=\u001b[39;49m\u001b[43m(\u001b[49m\u001b[38;5;241;43m255\u001b[39;49m\u001b[43m,\u001b[49m\u001b[43m \u001b[49m\u001b[38;5;241;43m255\u001b[39;49m\u001b[43m,\u001b[49m\u001b[43m \u001b[49m\u001b[38;5;241;43m255\u001b[39;49m\u001b[43m)\u001b[49m\u001b[43m,\u001b[49m\n\u001b[1;32m    753\u001b[0m \u001b[43m    \u001b[49m\u001b[43mstart_pos\u001b[49m\u001b[38;5;241;43m=\u001b[39;49m\u001b[43m(\u001b[49m\u001b[43mx\u001b[49m\u001b[43m,\u001b[49m\u001b[43m \u001b[49m\u001b[43mflagy1\u001b[49m\u001b[43m)\u001b[49m\u001b[43m,\u001b[49m\n\u001b[1;32m    754\u001b[0m \u001b[43m    \u001b[49m\u001b[43mend_pos\u001b[49m\u001b[38;5;241;43m=\u001b[39;49m\u001b[43m(\u001b[49m\u001b[43mx\u001b[49m\u001b[43m,\u001b[49m\u001b[43m \u001b[49m\u001b[43mflagy2\u001b[49m\u001b[43m)\u001b[49m\u001b[43m,\u001b[49m\n\u001b[1;32m    755\u001b[0m \u001b[43m    \u001b[49m\u001b[43mwidth\u001b[49m\u001b[38;5;241;43m=\u001b[39;49m\u001b[38;5;241;43m1\u001b[39;49m\u001b[43m,\u001b[49m\n\u001b[1;32m    756\u001b[0m \u001b[43m\u001b[49m\u001b[43m)\u001b[49m\n\u001b[1;32m    757\u001b[0m pygame\u001b[38;5;241m.\u001b[39mdraw\u001b[38;5;241m.\u001b[39mpolygon(\n\u001b[1;32m    758\u001b[0m     \u001b[38;5;28mself\u001b[39m\u001b[38;5;241m.\u001b[39msurf,\n\u001b[1;32m    759\u001b[0m     color\u001b[38;5;241m=\u001b[39m(\u001b[38;5;241m204\u001b[39m, \u001b[38;5;241m204\u001b[39m, \u001b[38;5;241m0\u001b[39m),\n\u001b[0;32m   (...)\u001b[0m\n\u001b[1;32m    764\u001b[0m     ],\n\u001b[1;32m    765\u001b[0m )\n\u001b[1;32m    766\u001b[0m gfxdraw\u001b[38;5;241m.\u001b[39maapolygon(\n\u001b[1;32m    767\u001b[0m     \u001b[38;5;28mself\u001b[39m\u001b[38;5;241m.\u001b[39msurf,\n\u001b[1;32m    768\u001b[0m     [(x, flagy2), (x, flagy2 \u001b[38;5;241m-\u001b[39m \u001b[38;5;241m10\u001b[39m), (x \u001b[38;5;241m+\u001b[39m \u001b[38;5;241m25\u001b[39m, flagy2 \u001b[38;5;241m-\u001b[39m \u001b[38;5;241m5\u001b[39m)],\n\u001b[1;32m    769\u001b[0m     (\u001b[38;5;241m204\u001b[39m, \u001b[38;5;241m204\u001b[39m, \u001b[38;5;241m0\u001b[39m),\n\u001b[1;32m    770\u001b[0m )\n",
            "\u001b[0;31mKeyboardInterrupt\u001b[0m: "
          ]
        }
      ],
      "source": [
        "rewards_dagger = evaluate(env, dagger_model.to('cpu'), num_episodes=10)\n",
        "print(f\"Average reward over {len(rewards_dagger)} DAgger episodes: {np.mean(rewards_dagger)}\")"
      ]
    },
    {
      "cell_type": "code",
      "execution_count": null,
      "id": "5d963e19-530e-4990-a35d-7404a9acbd71",
      "metadata": {
        "id": "5d963e19-530e-4990-a35d-7404a9acbd71",
        "outputId": "42af3c6b-b4d8-4a89-82d5-48546889d229"
      },
      "outputs": [
        {
          "name": "stdout",
          "output_type": "stream",
          "text": [
            "Steps: 154\n"
          ]
        }
      ],
      "source": [
        "make_video(video_env, dagger_model)"
      ]
    },
    {
      "cell_type": "code",
      "execution_count": null,
      "id": "de96c5ac-e5af-423f-89ee-7fc2c74f723f",
      "metadata": {
        "id": "de96c5ac-e5af-423f-89ee-7fc2c74f723f",
        "outputId": "6a296ce1-591d-460c-faaf-d435a418a894"
      },
      "outputs": [
        {
          "data": {
            "text/html": [
              "<video controls  >\n",
              " <source src=\"data:video/mp4;base64,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\" type=\"video/mp4\">\n",
              " Your browser does not support the video tag.\n",
              " </video>"
            ],
            "text/plain": [
              "<IPython.core.display.Video object>"
            ]
          },
          "metadata": {},
          "output_type": "display_data"
        }
      ],
      "source": [
        "# Display the video in the notebook\n",
        "video_path = './videos/rl-video-episode-0.mp4'  # Modify this path if necessary\n",
        "display(Video(video_path, embed=True))"
      ]
    },
    {
      "cell_type": "markdown",
      "id": "abdcf0e5-b88e-4320-afca-74e9f9237944",
      "metadata": {
        "id": "abdcf0e5-b88e-4320-afca-74e9f9237944"
      },
      "source": [
        "## *📝 Student Experimentation*\n",
        "Modify the following:\n",
        "1. *Change the neural network architecture* (hidden layers, activation functions).\n",
        "2. *Change the number of expert demonstrations* (increase/decrease).\n",
        "3. *Modify the expert policy* to see its effect.\n",
        "4. Implement *early stopping* to avoid overfitting.\n",
        "\n",
        "*Expected Behavior:*\n",
        "- With fewer demonstrations, the model may overfit.\n",
        "- DAGGER should improve the model over iterations.\n",
        "- A better network architecture might lead to better imitation.\n"
      ]
    },
    {
      "cell_type": "markdown",
      "source": [
        "____________________________________________"
      ],
      "metadata": {
        "id": "1IAFW2t2dq4N"
      },
      "id": "1IAFW2t2dq4N"
    },
    {
      "cell_type": "markdown",
      "source": [
        "\n",
        "# 1. change the neural network architecture\n",
        "### What I did\n",
        "I created and trained two models:\n",
        "\n",
        "  1. Original ImitationNetwork\n",
        "    - Simple architecture with 2 hidden layers\n",
        "\n",
        "     - Uses ReLU activation functions\n",
        "\n",
        "  2. ModifiedImitationNetwork\n",
        "\n",
        "    - Deeper network with 3 hidden layers\n",
        "\n",
        "    - Uses a mix of Tanh, LeakyReLU, and ReLU\n",
        "\n",
        "Then, I trained both models on the same expert dataset for 1000 epochs.\n",
        "During training, I recorded the loss (how far the model's action was from the expert's) at each epoch.\n",
        "\n",
        "Finally, I plotted both loss curves to compare how well they learned.\n",
        "\n"
      ],
      "metadata": {
        "id": "s0D6F6DHcxls"
      },
      "id": "s0D6F6DHcxls"
    },
    {
      "cell_type": "code",
      "execution_count": null,
      "id": "1bb10664-96cc-462f-ab80-9849e6776688",
      "metadata": {
        "id": "1bb10664-96cc-462f-ab80-9849e6776688"
      },
      "outputs": [],
      "source": [
        "class ModifiedImitationNetwork(nn.Module):\n",
        "    def __init__(self, input_dim, output_dim):\n",
        "        super(ModifiedImitationNetwork, self).__init__()\n",
        "        self.network = nn.Sequential(\n",
        "            nn.Linear(input_dim, 256),\n",
        "            nn.Tanh(),\n",
        "            nn.Linear(256, 128),\n",
        "            nn.LeakyReLU(),\n",
        "            nn.Linear(128, 64),\n",
        "            nn.ReLU(),\n",
        "            nn.Linear(64, output_dim),\n",
        "            nn.Softmax(dim=-1)\n",
        "        )\n",
        "\n",
        "    def forward(self, x):\n",
        "        return self.network(x)\n"
      ]
    },
    {
      "cell_type": "code",
      "source": [
        "original_model = ImitationNetwork(input_dim, output_dim).to('cuda')\n",
        "modified_model = ModifiedImitationNetwork(input_dim, output_dim).to('cuda')"
      ],
      "metadata": {
        "id": "c9YTbSDMBVGV"
      },
      "id": "c9YTbSDMBVGV",
      "execution_count": null,
      "outputs": []
    },
    {
      "cell_type": "code",
      "source": [
        "def train_and_record_loss(model, X, y, epochs=1000, batch_size=64):\n",
        "    criterion = nn.CrossEntropyLoss()\n",
        "    optimizer = optim.Adam(model.parameters(), lr=1e-3)\n",
        "    losses = []\n",
        "\n",
        "    for epoch in range(epochs):\n",
        "        indices = np.random.permutation(len(X))\n",
        "        epoch_loss = 0\n",
        "        for i in range(0, len(X), batch_size):\n",
        "            batch_idx = indices[i:i+batch_size]\n",
        "            X_batch = X[batch_idx]\n",
        "            y_batch = y[batch_idx]\n",
        "\n",
        "            optimizer.zero_grad()\n",
        "            outputs = model(X_batch)\n",
        "            loss = criterion(outputs, y_batch)\n",
        "            loss.backward()\n",
        "            optimizer.step()\n",
        "\n",
        "            epoch_loss += loss.item()\n",
        "        losses.append(epoch_loss)\n",
        "    return losses"
      ],
      "metadata": {
        "id": "3NoIMiHEBa2E"
      },
      "id": "3NoIMiHEBa2E",
      "execution_count": null,
      "outputs": []
    },
    {
      "cell_type": "code",
      "source": [
        "losses_original = train_and_record_loss(original_model, X_train_tensor, y_train_tensor)\n",
        "losses_modified = train_and_record_loss(modified_model, X_train_tensor, y_train_tensor)\n"
      ],
      "metadata": {
        "id": "ezZR2QROBd83"
      },
      "id": "ezZR2QROBd83",
      "execution_count": null,
      "outputs": []
    },
    {
      "cell_type": "code",
      "source": [
        "import matplotlib.pyplot as plt\n",
        "\n",
        "plt.plot(losses_original, label=\"Original ImitationNetwork\")\n",
        "plt.plot(losses_modified, label=\"ModifiedImitationNetwork\")\n",
        "plt.xlabel(\"Epoch\")\n",
        "plt.ylabel(\"Training Loss\")\n",
        "plt.title(\"Loss Comparison: Original vs Modified Architecture\")\n",
        "plt.legend()\n",
        "plt.grid(True)\n",
        "plt.tight_layout()\n",
        "plt.show()\n"
      ],
      "metadata": {
        "colab": {
          "base_uri": "https://localhost:8080/",
          "height": 487
        },
        "id": "07F50FmyBguR",
        "outputId": "a369337e-d465-4414-e8d5-883f306e6cfb"
      },
      "id": "07F50FmyBguR",
      "execution_count": null,
      "outputs": [
        {
          "output_type": "display_data",
          "data": {
            "text/plain": [
              "<Figure size 640x480 with 1 Axes>"
            ],
            "image/png": "[encoded data removed]"
          },
          "metadata": {}
        }
      ]
    },
    {
      "cell_type": "markdown",
      "source": [
        "🔹 Result Analysis\n",
        "The graph shows the training loss of both models over 1000 epochs.\n",
        "\n",
        "- Both models started with high loss and reduced it over time, which means both were learning.\n",
        "\n",
        "- The original model (blue line) had slightly lower loss near the end.\n",
        "\n",
        "- The modified model (orange line) was a bit more stable in the middle, but had slightly higher loss overall.\n",
        "\n",
        "- The final performance of both models was similar, but the original model performed a little better in terms of training loss."
      ],
      "metadata": {
        "id": "YepsAHCoeBTA"
      },
      "id": "YepsAHCoeBTA"
    },
    {
      "cell_type": "code",
      "source": [
        "from stable_baselines3 import PPO\n",
        "expert_policy = PPO.load(\"/content/drive/MyDrive/Mir/ppo_lunarlander_v1 (1).zip\")"
      ],
      "metadata": {
        "colab": {
          "base_uri": "https://localhost:8080/"
        },
        "id": "srZgZij_uD5W",
        "outputId": "6e2ee3cc-70c4-4734-a448-664aaf62d0a0"
      },
      "id": "srZgZij_uD5W",
      "execution_count": null,
      "outputs": [
        {
          "output_type": "stream",
          "name": "stderr",
          "text": [
            "/usr/local/lib/python3.11/dist-packages/stable_baselines3/common/save_util.py:165: DeprecationWarning: numpy.core.numeric is deprecated and has been renamed to numpy._core.numeric. The numpy._core namespace contains private NumPy internals and its use is discouraged, as NumPy internals can change without warning in any release. In practice, most real-world usage of numpy.core is to access functionality in the public NumPy API. If that is the case, use the public NumPy API. If not, you are using NumPy internals. If you would still like to access an internal attribute, use numpy._core.numeric._frombuffer.\n",
            "  deserialized_object = cloudpickle.loads(base64_object)\n",
            "/usr/local/lib/python3.11/dist-packages/stable_baselines3/common/save_util.py:167: UserWarning: Could not deserialize object clip_range. Consider using `custom_objects` argument to replace this object.\n",
            "Exception: code() argument 13 must be str, not int\n",
            "  warnings.warn(\n",
            "/usr/local/lib/python3.11/dist-packages/stable_baselines3/common/save_util.py:167: UserWarning: Could not deserialize object lr_schedule. Consider using `custom_objects` argument to replace this object.\n",
            "Exception: code() argument 13 must be str, not int\n",
            "  warnings.warn(\n",
            "/usr/local/lib/python3.11/dist-packages/stable_baselines3/common/on_policy_algorithm.py:150: UserWarning: You are trying to run PPO on the GPU, but it is primarily intended to run on the CPU when not using a CNN policy (you are using ActorCriticPolicy which should be a MlpPolicy). See https://github.com/DLR-RM/stable-baselines3/issues/1245 for more info. You can pass `device='cpu'` or `export CUDA_VISIBLE_DEVICES=` to force using the CPU.Note: The model will train, but the GPU utilization will be poor and the training might take longer than on CPU.\n",
            "  warnings.warn(\n"
          ]
        }
      ]
    },
    {
      "cell_type": "code",
      "source": [
        "dagger_model = dagger(env, expert_policy, modified_model,\n",
        "                     num_iterations=5,\n",
        "                      num_episodes_per_iter=5,\n",
        "                      num_epochs=5000)"
      ],
      "metadata": {
        "colab": {
          "base_uri": "https://localhost:8080/"
        },
        "id": "E7xHOv_dwbOc",
        "outputId": "478231e2-70c5-4878-c9eb-670d8cf97377"
      },
      "id": "E7xHOv_dwbOc",
      "execution_count": null,
      "outputs": [
        {
          "output_type": "stream",
          "name": "stdout",
          "text": [
            "## Iteration: 0 ###########\n",
            "Step 1: Generate data from model\n"
          ]
        },
        {
          "output_type": "stream",
          "name": "stderr",
          "text": [
            "100%|██████████| 5/5 [00:51<00:00, 10.31s/it]\n"
          ]
        },
        {
          "output_type": "stream",
          "name": "stdout",
          "text": [
            "Avg. Return : 41.06332866667847\n",
            "Step 2: Label new data with expert policy\n",
            "Step 3: Aggregate new data with all previous data. Size: 0\n",
            "Step 4: Retrain model with new combined dataset\n"
          ]
        },
        {
          "output_type": "stream",
          "name": "stderr",
          "text": [
            "  3%|▎         | 134/5000 [00:00<00:26, 184.05it/s]"
          ]
        },
        {
          "output_type": "stream",
          "name": "stdout",
          "text": [
            "DAgger Epoch [100/5000], Loss: 0.8735\n"
          ]
        },
        {
          "output_type": "stream",
          "name": "stderr",
          "text": [
            "  5%|▍         | 229/5000 [00:01<00:25, 184.13it/s]"
          ]
        },
        {
          "output_type": "stream",
          "name": "stdout",
          "text": [
            "DAgger Epoch [200/5000], Loss: 0.8345\n"
          ]
        },
        {
          "output_type": "stream",
          "name": "stderr",
          "text": [
            "  6%|▋         | 324/5000 [00:01<00:25, 184.74it/s]"
          ]
        },
        {
          "output_type": "stream",
          "name": "stdout",
          "text": [
            "DAgger Epoch [300/5000], Loss: 0.8291\n"
          ]
        },
        {
          "output_type": "stream",
          "name": "stderr",
          "text": [
            "  8%|▊         | 419/5000 [00:02<00:25, 182.94it/s]"
          ]
        },
        {
          "output_type": "stream",
          "name": "stdout",
          "text": [
            "DAgger Epoch [400/5000], Loss: 0.8234\n"
          ]
        },
        {
          "output_type": "stream",
          "name": "stderr",
          "text": [
            " 11%|█         | 533/5000 [00:02<00:24, 182.60it/s]"
          ]
        },
        {
          "output_type": "stream",
          "name": "stdout",
          "text": [
            "DAgger Epoch [500/5000], Loss: 0.8218\n"
          ]
        },
        {
          "output_type": "stream",
          "name": "stderr",
          "text": [
            " 13%|█▎        | 629/5000 [00:03<00:23, 186.35it/s]"
          ]
        },
        {
          "output_type": "stream",
          "name": "stdout",
          "text": [
            "DAgger Epoch [600/5000], Loss: 0.8156\n"
          ]
        },
        {
          "output_type": "stream",
          "name": "stderr",
          "text": [
            " 14%|█▍        | 724/5000 [00:03<00:23, 183.79it/s]"
          ]
        },
        {
          "output_type": "stream",
          "name": "stdout",
          "text": [
            "DAgger Epoch [700/5000], Loss: 0.8144\n"
          ]
        },
        {
          "output_type": "stream",
          "name": "stderr",
          "text": [
            " 16%|█▋        | 819/5000 [00:04<00:23, 177.40it/s]"
          ]
        },
        {
          "output_type": "stream",
          "name": "stdout",
          "text": [
            "DAgger Epoch [800/5000], Loss: 0.8136\n"
          ]
        },
        {
          "output_type": "stream",
          "name": "stderr",
          "text": [
            " 18%|█▊        | 918/5000 [00:05<00:27, 150.27it/s]"
          ]
        },
        {
          "output_type": "stream",
          "name": "stdout",
          "text": [
            "DAgger Epoch [900/5000], Loss: 0.8129\n"
          ]
        },
        {
          "output_type": "stream",
          "name": "stderr",
          "text": [
            " 20%|██        | 1015/5000 [00:05<00:26, 150.20it/s]"
          ]
        },
        {
          "output_type": "stream",
          "name": "stdout",
          "text": [
            "DAgger Epoch [1000/5000], Loss: 0.8124\n"
          ]
        },
        {
          "output_type": "stream",
          "name": "stderr",
          "text": [
            " 22%|██▏       | 1111/5000 [00:06<00:25, 151.70it/s]"
          ]
        },
        {
          "output_type": "stream",
          "name": "stdout",
          "text": [
            "DAgger Epoch [1100/5000], Loss: 0.8113\n"
          ]
        },
        {
          "output_type": "stream",
          "name": "stderr",
          "text": [
            " 24%|██▍       | 1213/5000 [00:07<00:29, 129.89it/s]"
          ]
        },
        {
          "output_type": "stream",
          "name": "stdout",
          "text": [
            "DAgger Epoch [1200/5000], Loss: 0.8106\n"
          ]
        },
        {
          "output_type": "stream",
          "name": "stderr",
          "text": [
            " 26%|██▋       | 1319/5000 [00:07<00:21, 170.96it/s]"
          ]
        },
        {
          "output_type": "stream",
          "name": "stdout",
          "text": [
            "DAgger Epoch [1300/5000], Loss: 0.8099\n"
          ]
        },
        {
          "output_type": "stream",
          "name": "stderr",
          "text": [
            " 29%|██▊       | 1433/5000 [00:08<00:19, 183.06it/s]"
          ]
        },
        {
          "output_type": "stream",
          "name": "stdout",
          "text": [
            "DAgger Epoch [1400/5000], Loss: 0.8099\n"
          ]
        },
        {
          "output_type": "stream",
          "name": "stderr",
          "text": [
            " 31%|███       | 1529/5000 [00:09<00:18, 183.81it/s]"
          ]
        },
        {
          "output_type": "stream",
          "name": "stdout",
          "text": [
            "DAgger Epoch [1500/5000], Loss: 0.8098\n"
          ]
        },
        {
          "output_type": "stream",
          "name": "stderr",
          "text": [
            " 32%|███▏      | 1624/5000 [00:09<00:18, 185.98it/s]"
          ]
        },
        {
          "output_type": "stream",
          "name": "stdout",
          "text": [
            "DAgger Epoch [1600/5000], Loss: 0.8093\n"
          ]
        },
        {
          "output_type": "stream",
          "name": "stderr",
          "text": [
            " 34%|███▍      | 1720/5000 [00:10<00:17, 184.10it/s]"
          ]
        },
        {
          "output_type": "stream",
          "name": "stdout",
          "text": [
            "DAgger Epoch [1700/5000], Loss: 0.8088\n"
          ]
        },
        {
          "output_type": "stream",
          "name": "stderr",
          "text": [
            " 37%|███▋      | 1834/5000 [00:10<00:17, 185.57it/s]"
          ]
        },
        {
          "output_type": "stream",
          "name": "stdout",
          "text": [
            "DAgger Epoch [1800/5000], Loss: 0.8087\n"
          ]
        },
        {
          "output_type": "stream",
          "name": "stderr",
          "text": [
            " 39%|███▊      | 1929/5000 [00:11<00:16, 184.09it/s]"
          ]
        },
        {
          "output_type": "stream",
          "name": "stdout",
          "text": [
            "DAgger Epoch [1900/5000], Loss: 0.8087\n"
          ]
        },
        {
          "output_type": "stream",
          "name": "stderr",
          "text": [
            " 40%|████      | 2025/5000 [00:11<00:15, 187.80it/s]"
          ]
        },
        {
          "output_type": "stream",
          "name": "stdout",
          "text": [
            "DAgger Epoch [2000/5000], Loss: 0.8096\n"
          ]
        },
        {
          "output_type": "stream",
          "name": "stderr",
          "text": [
            " 42%|████▏     | 2120/5000 [00:12<00:16, 178.13it/s]"
          ]
        },
        {
          "output_type": "stream",
          "name": "stdout",
          "text": [
            "DAgger Epoch [2100/5000], Loss: 0.8090\n"
          ]
        },
        {
          "output_type": "stream",
          "name": "stderr",
          "text": [
            " 45%|████▍     | 2234/5000 [00:12<00:15, 181.81it/s]"
          ]
        },
        {
          "output_type": "stream",
          "name": "stdout",
          "text": [
            "DAgger Epoch [2200/5000], Loss: 0.8074\n"
          ]
        },
        {
          "output_type": "stream",
          "name": "stderr",
          "text": [
            " 47%|████▋     | 2329/5000 [00:13<00:14, 181.54it/s]"
          ]
        },
        {
          "output_type": "stream",
          "name": "stdout",
          "text": [
            "DAgger Epoch [2300/5000], Loss: 0.8072\n"
          ]
        },
        {
          "output_type": "stream",
          "name": "stderr",
          "text": [
            " 48%|████▊     | 2424/5000 [00:13<00:14, 182.47it/s]"
          ]
        },
        {
          "output_type": "stream",
          "name": "stdout",
          "text": [
            "DAgger Epoch [2400/5000], Loss: 0.8071\n"
          ]
        },
        {
          "output_type": "stream",
          "name": "stderr",
          "text": [
            " 50%|█████     | 2518/5000 [00:14<00:14, 176.16it/s]"
          ]
        },
        {
          "output_type": "stream",
          "name": "stdout",
          "text": [
            "DAgger Epoch [2500/5000], Loss: 0.8072\n"
          ]
        },
        {
          "output_type": "stream",
          "name": "stderr",
          "text": [
            " 53%|█████▎    | 2633/5000 [00:15<00:13, 181.65it/s]"
          ]
        },
        {
          "output_type": "stream",
          "name": "stdout",
          "text": [
            "DAgger Epoch [2600/5000], Loss: 0.8072\n"
          ]
        },
        {
          "output_type": "stream",
          "name": "stderr",
          "text": [
            " 55%|█████▍    | 2729/5000 [00:15<00:12, 183.21it/s]"
          ]
        },
        {
          "output_type": "stream",
          "name": "stdout",
          "text": [
            "DAgger Epoch [2700/5000], Loss: 0.8094\n"
          ]
        },
        {
          "output_type": "stream",
          "name": "stderr",
          "text": [
            " 56%|█████▋    | 2824/5000 [00:16<00:11, 181.73it/s]"
          ]
        },
        {
          "output_type": "stream",
          "name": "stdout",
          "text": [
            "DAgger Epoch [2800/5000], Loss: 0.8080\n"
          ]
        },
        {
          "output_type": "stream",
          "name": "stderr",
          "text": [
            " 58%|█████▊    | 2919/5000 [00:16<00:11, 181.66it/s]"
          ]
        },
        {
          "output_type": "stream",
          "name": "stdout",
          "text": [
            "DAgger Epoch [2900/5000], Loss: 0.8075\n"
          ]
        },
        {
          "output_type": "stream",
          "name": "stderr",
          "text": [
            " 61%|██████    | 3032/5000 [00:17<00:11, 177.38it/s]"
          ]
        },
        {
          "output_type": "stream",
          "name": "stdout",
          "text": [
            "DAgger Epoch [3000/5000], Loss: 0.8076\n"
          ]
        },
        {
          "output_type": "stream",
          "name": "stderr",
          "text": [
            " 62%|██████▏   | 3119/5000 [00:17<00:11, 156.88it/s]"
          ]
        },
        {
          "output_type": "stream",
          "name": "stdout",
          "text": [
            "DAgger Epoch [3100/5000], Loss: 0.8071\n"
          ]
        },
        {
          "output_type": "stream",
          "name": "stderr",
          "text": [
            " 64%|██████▍   | 3217/5000 [00:18<00:11, 156.97it/s]"
          ]
        },
        {
          "output_type": "stream",
          "name": "stdout",
          "text": [
            "DAgger Epoch [3200/5000], Loss: 0.8087\n"
          ]
        },
        {
          "output_type": "stream",
          "name": "stderr",
          "text": [
            " 67%|██████▋   | 3329/5000 [00:19<00:10, 154.19it/s]"
          ]
        },
        {
          "output_type": "stream",
          "name": "stdout",
          "text": [
            "DAgger Epoch [3300/5000], Loss: 0.8069\n"
          ]
        },
        {
          "output_type": "stream",
          "name": "stderr",
          "text": [
            " 68%|██████▊   | 3421/5000 [00:19<00:11, 142.22it/s]"
          ]
        },
        {
          "output_type": "stream",
          "name": "stdout",
          "text": [
            "DAgger Epoch [3400/5000], Loss: 0.8064\n"
          ]
        },
        {
          "output_type": "stream",
          "name": "stderr",
          "text": [
            " 71%|███████   | 3533/5000 [00:20<00:08, 163.32it/s]"
          ]
        },
        {
          "output_type": "stream",
          "name": "stdout",
          "text": [
            "DAgger Epoch [3500/5000], Loss: 0.8070\n"
          ]
        },
        {
          "output_type": "stream",
          "name": "stderr",
          "text": [
            " 73%|███████▎  | 3630/5000 [00:21<00:07, 180.24it/s]"
          ]
        },
        {
          "output_type": "stream",
          "name": "stdout",
          "text": [
            "DAgger Epoch [3600/5000], Loss: 0.8092\n"
          ]
        },
        {
          "output_type": "stream",
          "name": "stderr",
          "text": [
            " 74%|███████▍  | 3725/5000 [00:21<00:06, 184.22it/s]"
          ]
        },
        {
          "output_type": "stream",
          "name": "stdout",
          "text": [
            "DAgger Epoch [3700/5000], Loss: 0.8068\n"
          ]
        },
        {
          "output_type": "stream",
          "name": "stderr",
          "text": [
            " 76%|███████▋  | 3820/5000 [00:22<00:06, 183.04it/s]"
          ]
        },
        {
          "output_type": "stream",
          "name": "stdout",
          "text": [
            "DAgger Epoch [3800/5000], Loss: 0.8057\n"
          ]
        },
        {
          "output_type": "stream",
          "name": "stderr",
          "text": [
            " 79%|███████▊  | 3934/5000 [00:22<00:05, 183.90it/s]"
          ]
        },
        {
          "output_type": "stream",
          "name": "stdout",
          "text": [
            "DAgger Epoch [3900/5000], Loss: 0.8059\n"
          ]
        },
        {
          "output_type": "stream",
          "name": "stderr",
          "text": [
            " 81%|████████  | 4029/5000 [00:23<00:05, 176.98it/s]"
          ]
        },
        {
          "output_type": "stream",
          "name": "stdout",
          "text": [
            "DAgger Epoch [4000/5000], Loss: 0.8060\n"
          ]
        },
        {
          "output_type": "stream",
          "name": "stderr",
          "text": [
            " 82%|████████▏ | 4123/5000 [00:23<00:04, 183.55it/s]"
          ]
        },
        {
          "output_type": "stream",
          "name": "stdout",
          "text": [
            "DAgger Epoch [4100/5000], Loss: 0.8090\n"
          ]
        },
        {
          "output_type": "stream",
          "name": "stderr",
          "text": [
            " 85%|████████▍ | 4237/5000 [00:24<00:04, 178.35it/s]"
          ]
        },
        {
          "output_type": "stream",
          "name": "stdout",
          "text": [
            "DAgger Epoch [4200/5000], Loss: 0.8068\n"
          ]
        },
        {
          "output_type": "stream",
          "name": "stderr",
          "text": [
            " 87%|████████▋ | 4332/5000 [00:25<00:03, 183.01it/s]"
          ]
        },
        {
          "output_type": "stream",
          "name": "stdout",
          "text": [
            "DAgger Epoch [4300/5000], Loss: 0.8066\n"
          ]
        },
        {
          "output_type": "stream",
          "name": "stderr",
          "text": [
            " 89%|████████▊ | 4426/5000 [00:25<00:03, 179.07it/s]"
          ]
        },
        {
          "output_type": "stream",
          "name": "stdout",
          "text": [
            "DAgger Epoch [4400/5000], Loss: 0.8061\n"
          ]
        },
        {
          "output_type": "stream",
          "name": "stderr",
          "text": [
            " 90%|█████████ | 4521/5000 [00:26<00:02, 182.55it/s]"
          ]
        },
        {
          "output_type": "stream",
          "name": "stdout",
          "text": [
            "DAgger Epoch [4500/5000], Loss: 0.8058\n"
          ]
        },
        {
          "output_type": "stream",
          "name": "stderr",
          "text": [
            " 93%|█████████▎| 4634/5000 [00:26<00:02, 182.55it/s]"
          ]
        },
        {
          "output_type": "stream",
          "name": "stdout",
          "text": [
            "DAgger Epoch [4600/5000], Loss: 0.8065\n"
          ]
        },
        {
          "output_type": "stream",
          "name": "stderr",
          "text": [
            " 95%|█████████▍| 4731/5000 [00:27<00:01, 181.85it/s]"
          ]
        },
        {
          "output_type": "stream",
          "name": "stdout",
          "text": [
            "DAgger Epoch [4700/5000], Loss: 0.8070\n"
          ]
        },
        {
          "output_type": "stream",
          "name": "stderr",
          "text": [
            " 97%|█████████▋| 4827/5000 [00:27<00:00, 185.85it/s]"
          ]
        },
        {
          "output_type": "stream",
          "name": "stdout",
          "text": [
            "DAgger Epoch [4800/5000], Loss: 0.8045\n"
          ]
        },
        {
          "output_type": "stream",
          "name": "stderr",
          "text": [
            " 98%|█████████▊| 4923/5000 [00:28<00:00, 184.26it/s]"
          ]
        },
        {
          "output_type": "stream",
          "name": "stdout",
          "text": [
            "DAgger Epoch [4900/5000], Loss: 0.8043\n"
          ]
        },
        {
          "output_type": "stream",
          "name": "stderr",
          "text": [
            "100%|██████████| 5000/5000 [00:28<00:00, 174.35it/s]\n"
          ]
        },
        {
          "output_type": "stream",
          "name": "stdout",
          "text": [
            "DAgger Epoch [5000/5000], Loss: 0.8044\n",
            "## Iteration: 1 ###########\n",
            "Step 1: Generate data from model\n"
          ]
        },
        {
          "output_type": "stream",
          "name": "stderr",
          "text": [
            "100%|██████████| 5/5 [00:09<00:00,  1.92s/it]\n"
          ]
        },
        {
          "output_type": "stream",
          "name": "stdout",
          "text": [
            "Avg. Return : 7.015782518117442\n",
            "Step 2: Label new data with expert policy\n",
            "Step 3: Aggregate new data with all previous data. Size: 2555\n",
            "Step 4: Retrain model with new combined dataset\n"
          ]
        },
        {
          "output_type": "stream",
          "name": "stderr",
          "text": [
            "  3%|▎         | 133/5000 [00:00<00:26, 183.05it/s]"
          ]
        },
        {
          "output_type": "stream",
          "name": "stdout",
          "text": [
            "DAgger Epoch [100/5000], Loss: 0.8116\n"
          ]
        },
        {
          "output_type": "stream",
          "name": "stderr",
          "text": [
            "  5%|▍         | 228/5000 [00:01<00:26, 182.32it/s]"
          ]
        },
        {
          "output_type": "stream",
          "name": "stdout",
          "text": [
            "DAgger Epoch [200/5000], Loss: 0.8067\n"
          ]
        },
        {
          "output_type": "stream",
          "name": "stderr",
          "text": [
            "  6%|▋         | 323/5000 [00:01<00:25, 181.74it/s]"
          ]
        },
        {
          "output_type": "stream",
          "name": "stdout",
          "text": [
            "DAgger Epoch [300/5000], Loss: 0.8067\n"
          ]
        },
        {
          "output_type": "stream",
          "name": "stderr",
          "text": [
            "  8%|▊         | 418/5000 [00:02<00:24, 184.03it/s]"
          ]
        },
        {
          "output_type": "stream",
          "name": "stdout",
          "text": [
            "DAgger Epoch [400/5000], Loss: 0.8074\n"
          ]
        },
        {
          "output_type": "stream",
          "name": "stderr",
          "text": [
            " 11%|█         | 532/5000 [00:02<00:24, 179.11it/s]"
          ]
        },
        {
          "output_type": "stream",
          "name": "stdout",
          "text": [
            "DAgger Epoch [500/5000], Loss: 0.8061\n"
          ]
        },
        {
          "output_type": "stream",
          "name": "stderr",
          "text": [
            " 13%|█▎        | 627/5000 [00:03<00:24, 180.92it/s]"
          ]
        },
        {
          "output_type": "stream",
          "name": "stdout",
          "text": [
            "DAgger Epoch [600/5000], Loss: 0.8061\n"
          ]
        },
        {
          "output_type": "stream",
          "name": "stderr",
          "text": [
            " 14%|█▍        | 718/5000 [00:04<00:28, 150.18it/s]"
          ]
        },
        {
          "output_type": "stream",
          "name": "stdout",
          "text": [
            "DAgger Epoch [700/5000], Loss: 0.8064\n"
          ]
        },
        {
          "output_type": "stream",
          "name": "stderr",
          "text": [
            " 17%|█▋        | 828/5000 [00:04<00:27, 152.72it/s]"
          ]
        },
        {
          "output_type": "stream",
          "name": "stdout",
          "text": [
            "DAgger Epoch [800/5000], Loss: 0.8082\n"
          ]
        },
        {
          "output_type": "stream",
          "name": "stderr",
          "text": [
            " 18%|█▊        | 924/5000 [00:05<00:27, 148.72it/s]"
          ]
        },
        {
          "output_type": "stream",
          "name": "stdout",
          "text": [
            "DAgger Epoch [900/5000], Loss: 0.8053\n"
          ]
        },
        {
          "output_type": "stream",
          "name": "stderr",
          "text": [
            " 20%|██        | 1016/5000 [00:06<00:29, 135.76it/s]"
          ]
        },
        {
          "output_type": "stream",
          "name": "stdout",
          "text": [
            "DAgger Epoch [1000/5000], Loss: 0.8051\n"
          ]
        },
        {
          "output_type": "stream",
          "name": "stderr",
          "text": [
            " 22%|██▏       | 1121/5000 [00:06<00:26, 143.68it/s]"
          ]
        },
        {
          "output_type": "stream",
          "name": "stdout",
          "text": [
            "DAgger Epoch [1100/5000], Loss: 0.8051\n"
          ]
        },
        {
          "output_type": "stream",
          "name": "stderr",
          "text": [
            " 25%|██▍       | 1233/5000 [00:07<00:21, 176.43it/s]"
          ]
        },
        {
          "output_type": "stream",
          "name": "stdout",
          "text": [
            "DAgger Epoch [1200/5000], Loss: 0.8051\n"
          ]
        },
        {
          "output_type": "stream",
          "name": "stderr",
          "text": [
            " 26%|██▋       | 1324/5000 [00:07<00:20, 177.92it/s]"
          ]
        },
        {
          "output_type": "stream",
          "name": "stdout",
          "text": [
            "DAgger Epoch [1300/5000], Loss: 0.8061\n"
          ]
        },
        {
          "output_type": "stream",
          "name": "stderr",
          "text": [
            " 28%|██▊       | 1418/5000 [00:08<00:19, 182.68it/s]"
          ]
        },
        {
          "output_type": "stream",
          "name": "stdout",
          "text": [
            "DAgger Epoch [1400/5000], Loss: 0.8067\n"
          ]
        },
        {
          "output_type": "stream",
          "name": "stderr",
          "text": [
            " 31%|███       | 1531/5000 [00:09<00:19, 176.62it/s]"
          ]
        },
        {
          "output_type": "stream",
          "name": "stdout",
          "text": [
            "DAgger Epoch [1500/5000], Loss: 0.8035\n"
          ]
        },
        {
          "output_type": "stream",
          "name": "stderr",
          "text": [
            " 32%|███▏      | 1624/5000 [00:09<00:18, 178.02it/s]"
          ]
        },
        {
          "output_type": "stream",
          "name": "stdout",
          "text": [
            "DAgger Epoch [1600/5000], Loss: 0.8032\n"
          ]
        },
        {
          "output_type": "stream",
          "name": "stderr",
          "text": [
            " 34%|███▍      | 1718/5000 [00:10<00:18, 177.96it/s]"
          ]
        },
        {
          "output_type": "stream",
          "name": "stdout",
          "text": [
            "DAgger Epoch [1700/5000], Loss: 0.8028\n"
          ]
        },
        {
          "output_type": "stream",
          "name": "stderr",
          "text": [
            " 37%|███▋      | 1830/5000 [00:10<00:17, 180.28it/s]"
          ]
        },
        {
          "output_type": "stream",
          "name": "stdout",
          "text": [
            "DAgger Epoch [1800/5000], Loss: 0.8027\n"
          ]
        },
        {
          "output_type": "stream",
          "name": "stderr",
          "text": [
            " 38%|███▊      | 1924/5000 [00:11<00:17, 177.54it/s]"
          ]
        },
        {
          "output_type": "stream",
          "name": "stdout",
          "text": [
            "DAgger Epoch [1900/5000], Loss: 0.8021\n"
          ]
        },
        {
          "output_type": "stream",
          "name": "stderr",
          "text": [
            " 41%|████      | 2034/5000 [00:11<00:16, 177.98it/s]"
          ]
        },
        {
          "output_type": "stream",
          "name": "stdout",
          "text": [
            "DAgger Epoch [2000/5000], Loss: 0.8021\n"
          ]
        },
        {
          "output_type": "stream",
          "name": "stderr",
          "text": [
            " 43%|████▎     | 2128/5000 [00:12<00:16, 177.32it/s]"
          ]
        },
        {
          "output_type": "stream",
          "name": "stdout",
          "text": [
            "DAgger Epoch [2100/5000], Loss: 0.8022\n"
          ]
        },
        {
          "output_type": "stream",
          "name": "stderr",
          "text": [
            " 44%|████▍     | 2220/5000 [00:12<00:15, 178.97it/s]"
          ]
        },
        {
          "output_type": "stream",
          "name": "stdout",
          "text": [
            "DAgger Epoch [2200/5000], Loss: 0.8047\n"
          ]
        },
        {
          "output_type": "stream",
          "name": "stderr",
          "text": [
            " 47%|████▋     | 2332/5000 [00:13<00:14, 179.60it/s]"
          ]
        },
        {
          "output_type": "stream",
          "name": "stdout",
          "text": [
            "DAgger Epoch [2300/5000], Loss: 0.8042\n"
          ]
        },
        {
          "output_type": "stream",
          "name": "stderr",
          "text": [
            " 49%|████▊     | 2427/5000 [00:14<00:13, 185.13it/s]"
          ]
        },
        {
          "output_type": "stream",
          "name": "stdout",
          "text": [
            "DAgger Epoch [2400/5000], Loss: 0.8032\n"
          ]
        },
        {
          "output_type": "stream",
          "name": "stderr",
          "text": [
            " 50%|█████     | 2522/5000 [00:14<00:13, 180.48it/s]"
          ]
        },
        {
          "output_type": "stream",
          "name": "stdout",
          "text": [
            "DAgger Epoch [2500/5000], Loss: 0.8031\n"
          ]
        },
        {
          "output_type": "stream",
          "name": "stderr",
          "text": [
            " 53%|█████▎    | 2636/5000 [00:15<00:13, 179.94it/s]"
          ]
        },
        {
          "output_type": "stream",
          "name": "stdout",
          "text": [
            "DAgger Epoch [2600/5000], Loss: 0.8031\n"
          ]
        },
        {
          "output_type": "stream",
          "name": "stderr",
          "text": [
            " 55%|█████▍    | 2730/5000 [00:15<00:12, 182.32it/s]"
          ]
        },
        {
          "output_type": "stream",
          "name": "stdout",
          "text": [
            "DAgger Epoch [2700/5000], Loss: 0.8031\n"
          ]
        },
        {
          "output_type": "stream",
          "name": "stderr",
          "text": [
            " 57%|█████▋    | 2826/5000 [00:16<00:11, 182.67it/s]"
          ]
        },
        {
          "output_type": "stream",
          "name": "stdout",
          "text": [
            "DAgger Epoch [2800/5000], Loss: 0.8031\n"
          ]
        },
        {
          "output_type": "stream",
          "name": "stderr",
          "text": [
            " 58%|█████▊    | 2921/5000 [00:16<00:12, 161.52it/s]"
          ]
        },
        {
          "output_type": "stream",
          "name": "stdout",
          "text": [
            "DAgger Epoch [2900/5000], Loss: 0.8031\n"
          ]
        },
        {
          "output_type": "stream",
          "name": "stderr",
          "text": [
            " 60%|██████    | 3016/5000 [00:17<00:13, 145.96it/s]"
          ]
        },
        {
          "output_type": "stream",
          "name": "stdout",
          "text": [
            "DAgger Epoch [3000/5000], Loss: 0.8035\n"
          ]
        },
        {
          "output_type": "stream",
          "name": "stderr",
          "text": [
            " 63%|██████▎   | 3128/5000 [00:18<00:12, 151.79it/s]"
          ]
        },
        {
          "output_type": "stream",
          "name": "stdout",
          "text": [
            "DAgger Epoch [3100/5000], Loss: 0.8065\n"
          ]
        },
        {
          "output_type": "stream",
          "name": "stderr",
          "text": [
            " 64%|██████▍   | 3221/5000 [00:18<00:12, 137.39it/s]"
          ]
        },
        {
          "output_type": "stream",
          "name": "stdout",
          "text": [
            "DAgger Epoch [3200/5000], Loss: 0.8034\n"
          ]
        },
        {
          "output_type": "stream",
          "name": "stderr",
          "text": [
            " 66%|██████▋   | 3319/5000 [00:19<00:12, 131.84it/s]"
          ]
        },
        {
          "output_type": "stream",
          "name": "stdout",
          "text": [
            "DAgger Epoch [3300/5000], Loss: 0.8031\n"
          ]
        },
        {
          "output_type": "stream",
          "name": "stderr",
          "text": [
            " 69%|██████▊   | 3430/5000 [00:20<00:08, 174.73it/s]"
          ]
        },
        {
          "output_type": "stream",
          "name": "stdout",
          "text": [
            "DAgger Epoch [3400/5000], Loss: 0.8027\n"
          ]
        },
        {
          "output_type": "stream",
          "name": "stderr",
          "text": [
            " 70%|███████   | 3523/5000 [00:20<00:08, 178.82it/s]"
          ]
        },
        {
          "output_type": "stream",
          "name": "stdout",
          "text": [
            "DAgger Epoch [3500/5000], Loss: 0.8028\n"
          ]
        },
        {
          "output_type": "stream",
          "name": "stderr",
          "text": [
            " 73%|███████▎  | 3636/5000 [00:21<00:07, 182.03it/s]"
          ]
        },
        {
          "output_type": "stream",
          "name": "stdout",
          "text": [
            "DAgger Epoch [3600/5000], Loss: 0.8028\n"
          ]
        },
        {
          "output_type": "stream",
          "name": "stderr",
          "text": [
            " 75%|███████▍  | 3731/5000 [00:22<00:06, 182.62it/s]"
          ]
        },
        {
          "output_type": "stream",
          "name": "stdout",
          "text": [
            "DAgger Epoch [3700/5000], Loss: 0.8028\n"
          ]
        },
        {
          "output_type": "stream",
          "name": "stderr",
          "text": [
            " 77%|███████▋  | 3826/5000 [00:22<00:06, 178.22it/s]"
          ]
        },
        {
          "output_type": "stream",
          "name": "stdout",
          "text": [
            "DAgger Epoch [3800/5000], Loss: 0.8028\n"
          ]
        },
        {
          "output_type": "stream",
          "name": "stderr",
          "text": [
            " 78%|███████▊  | 3920/5000 [00:23<00:05, 181.64it/s]"
          ]
        },
        {
          "output_type": "stream",
          "name": "stdout",
          "text": [
            "DAgger Epoch [3900/5000], Loss: 0.8091\n"
          ]
        },
        {
          "output_type": "stream",
          "name": "stderr",
          "text": [
            " 81%|████████  | 4034/5000 [00:23<00:05, 177.54it/s]"
          ]
        },
        {
          "output_type": "stream",
          "name": "stdout",
          "text": [
            "DAgger Epoch [4000/5000], Loss: 0.8050\n"
          ]
        },
        {
          "output_type": "stream",
          "name": "stderr",
          "text": [
            " 83%|████████▎ | 4128/5000 [00:24<00:04, 184.36it/s]"
          ]
        },
        {
          "output_type": "stream",
          "name": "stdout",
          "text": [
            "DAgger Epoch [4100/5000], Loss: 0.8041\n"
          ]
        },
        {
          "output_type": "stream",
          "name": "stderr",
          "text": [
            " 84%|████████▍ | 4223/5000 [00:24<00:04, 178.80it/s]"
          ]
        },
        {
          "output_type": "stream",
          "name": "stdout",
          "text": [
            "DAgger Epoch [4200/5000], Loss: 0.8041\n"
          ]
        },
        {
          "output_type": "stream",
          "name": "stderr",
          "text": [
            " 87%|████████▋ | 4337/5000 [00:25<00:03, 186.42it/s]"
          ]
        },
        {
          "output_type": "stream",
          "name": "stdout",
          "text": [
            "DAgger Epoch [4300/5000], Loss: 0.8041\n"
          ]
        },
        {
          "output_type": "stream",
          "name": "stderr",
          "text": [
            " 89%|████████▊ | 4432/5000 [00:25<00:03, 180.28it/s]"
          ]
        },
        {
          "output_type": "stream",
          "name": "stdout",
          "text": [
            "DAgger Epoch [4400/5000], Loss: 0.8046\n"
          ]
        },
        {
          "output_type": "stream",
          "name": "stderr",
          "text": [
            " 91%|█████████ | 4527/5000 [00:26<00:02, 183.97it/s]"
          ]
        },
        {
          "output_type": "stream",
          "name": "stdout",
          "text": [
            "DAgger Epoch [4500/5000], Loss: 0.8063\n"
          ]
        },
        {
          "output_type": "stream",
          "name": "stderr",
          "text": [
            " 92%|█████████▏| 4621/5000 [00:26<00:02, 179.75it/s]"
          ]
        },
        {
          "output_type": "stream",
          "name": "stdout",
          "text": [
            "DAgger Epoch [4600/5000], Loss: 0.8052\n"
          ]
        },
        {
          "output_type": "stream",
          "name": "stderr",
          "text": [
            " 95%|█████████▍| 4735/5000 [00:27<00:01, 182.85it/s]"
          ]
        },
        {
          "output_type": "stream",
          "name": "stdout",
          "text": [
            "DAgger Epoch [4700/5000], Loss: 0.8045\n"
          ]
        },
        {
          "output_type": "stream",
          "name": "stderr",
          "text": [
            " 97%|█████████▋| 4830/5000 [00:28<00:00, 182.57it/s]"
          ]
        },
        {
          "output_type": "stream",
          "name": "stdout",
          "text": [
            "DAgger Epoch [4800/5000], Loss: 0.8047\n"
          ]
        },
        {
          "output_type": "stream",
          "name": "stderr",
          "text": [
            " 98%|█████████▊| 4925/5000 [00:28<00:00, 180.79it/s]"
          ]
        },
        {
          "output_type": "stream",
          "name": "stdout",
          "text": [
            "DAgger Epoch [4900/5000], Loss: 0.8047\n"
          ]
        },
        {
          "output_type": "stream",
          "name": "stderr",
          "text": [
            "100%|██████████| 5000/5000 [00:29<00:00, 172.35it/s]\n"
          ]
        },
        {
          "output_type": "stream",
          "name": "stdout",
          "text": [
            "DAgger Epoch [5000/5000], Loss: 0.8047\n",
            "## Iteration: 2 ###########\n",
            "Step 1: Generate data from model\n"
          ]
        },
        {
          "output_type": "stream",
          "name": "stderr",
          "text": [
            "100%|██████████| 5/5 [00:09<00:00,  1.91s/it]\n"
          ]
        },
        {
          "output_type": "stream",
          "name": "stdout",
          "text": [
            "Avg. Return : -60.205558790415104\n",
            "Step 2: Label new data with expert policy\n",
            "Step 3: Aggregate new data with all previous data. Size: 3024\n",
            "Step 4: Retrain model with new combined dataset\n"
          ]
        },
        {
          "output_type": "stream",
          "name": "stderr",
          "text": [
            "  2%|▏         | 117/5000 [00:00<00:36, 134.42it/s]"
          ]
        },
        {
          "output_type": "stream",
          "name": "stdout",
          "text": [
            "DAgger Epoch [100/5000], Loss: 0.8109\n"
          ]
        },
        {
          "output_type": "stream",
          "name": "stderr",
          "text": [
            "  4%|▍         | 216/5000 [00:01<00:35, 134.72it/s]"
          ]
        },
        {
          "output_type": "stream",
          "name": "stdout",
          "text": [
            "DAgger Epoch [200/5000], Loss: 0.8014\n"
          ]
        },
        {
          "output_type": "stream",
          "name": "stderr",
          "text": [
            "  6%|▋         | 316/5000 [00:02<00:34, 137.42it/s]"
          ]
        },
        {
          "output_type": "stream",
          "name": "stdout",
          "text": [
            "DAgger Epoch [300/5000], Loss: 0.8003\n"
          ]
        },
        {
          "output_type": "stream",
          "name": "stderr",
          "text": [
            "  8%|▊         | 413/5000 [00:03<00:40, 114.32it/s]"
          ]
        },
        {
          "output_type": "stream",
          "name": "stdout",
          "text": [
            "DAgger Epoch [400/5000], Loss: 0.8002\n"
          ]
        },
        {
          "output_type": "stream",
          "name": "stderr",
          "text": [
            " 10%|█         | 523/5000 [00:04<00:38, 114.98it/s]"
          ]
        },
        {
          "output_type": "stream",
          "name": "stdout",
          "text": [
            "DAgger Epoch [500/5000], Loss: 0.8047\n"
          ]
        },
        {
          "output_type": "stream",
          "name": "stderr",
          "text": [
            " 12%|█▏        | 618/5000 [00:04<00:40, 107.52it/s]"
          ]
        },
        {
          "output_type": "stream",
          "name": "stdout",
          "text": [
            "DAgger Epoch [600/5000], Loss: 0.8021\n"
          ]
        },
        {
          "output_type": "stream",
          "name": "stderr",
          "text": [
            " 14%|█▍        | 722/5000 [00:05<00:36, 117.17it/s]"
          ]
        },
        {
          "output_type": "stream",
          "name": "stdout",
          "text": [
            "DAgger Epoch [700/5000], Loss: 0.8014\n"
          ]
        },
        {
          "output_type": "stream",
          "name": "stderr",
          "text": [
            " 16%|█▋        | 818/5000 [00:06<00:31, 134.29it/s]"
          ]
        },
        {
          "output_type": "stream",
          "name": "stdout",
          "text": [
            "DAgger Epoch [800/5000], Loss: 0.7991\n"
          ]
        },
        {
          "output_type": "stream",
          "name": "stderr",
          "text": [
            " 18%|█▊        | 919/5000 [00:07<00:29, 137.76it/s]"
          ]
        },
        {
          "output_type": "stream",
          "name": "stdout",
          "text": [
            "DAgger Epoch [900/5000], Loss: 0.7987\n"
          ]
        },
        {
          "output_type": "stream",
          "name": "stderr",
          "text": [
            " 20%|██        | 1021/5000 [00:08<00:28, 140.08it/s]"
          ]
        },
        {
          "output_type": "stream",
          "name": "stdout",
          "text": [
            "DAgger Epoch [1000/5000], Loss: 0.7991\n"
          ]
        },
        {
          "output_type": "stream",
          "name": "stderr",
          "text": [
            " 22%|██▏       | 1122/5000 [00:08<00:28, 137.55it/s]"
          ]
        },
        {
          "output_type": "stream",
          "name": "stdout",
          "text": [
            "DAgger Epoch [1100/5000], Loss: 0.7991\n"
          ]
        },
        {
          "output_type": "stream",
          "name": "stderr",
          "text": [
            " 24%|██▍       | 1221/5000 [00:09<00:27, 135.26it/s]"
          ]
        },
        {
          "output_type": "stream",
          "name": "stdout",
          "text": [
            "DAgger Epoch [1200/5000], Loss: 0.7991\n"
          ]
        },
        {
          "output_type": "stream",
          "name": "stderr",
          "text": [
            " 26%|██▋       | 1322/5000 [00:10<00:26, 136.69it/s]"
          ]
        },
        {
          "output_type": "stream",
          "name": "stdout",
          "text": [
            "DAgger Epoch [1300/5000], Loss: 0.8035\n"
          ]
        },
        {
          "output_type": "stream",
          "name": "stderr",
          "text": [
            " 28%|██▊       | 1420/5000 [00:11<00:26, 136.79it/s]"
          ]
        },
        {
          "output_type": "stream",
          "name": "stdout",
          "text": [
            "DAgger Epoch [1400/5000], Loss: 0.8019\n"
          ]
        },
        {
          "output_type": "stream",
          "name": "stderr",
          "text": [
            " 30%|███       | 1518/5000 [00:11<00:25, 135.03it/s]"
          ]
        },
        {
          "output_type": "stream",
          "name": "stdout",
          "text": [
            "DAgger Epoch [1500/5000], Loss: 0.7990\n"
          ]
        },
        {
          "output_type": "stream",
          "name": "stderr",
          "text": [
            " 32%|███▏      | 1618/5000 [00:12<00:25, 134.53it/s]"
          ]
        },
        {
          "output_type": "stream",
          "name": "stdout",
          "text": [
            "DAgger Epoch [1600/5000], Loss: 0.7986\n"
          ]
        },
        {
          "output_type": "stream",
          "name": "stderr",
          "text": [
            " 34%|███▍      | 1719/5000 [00:13<00:23, 139.01it/s]"
          ]
        },
        {
          "output_type": "stream",
          "name": "stdout",
          "text": [
            "DAgger Epoch [1700/5000], Loss: 0.8010\n"
          ]
        },
        {
          "output_type": "stream",
          "name": "stderr",
          "text": [
            " 36%|███▋      | 1817/5000 [00:13<00:23, 137.36it/s]"
          ]
        },
        {
          "output_type": "stream",
          "name": "stdout",
          "text": [
            "DAgger Epoch [1800/5000], Loss: 0.8008\n"
          ]
        },
        {
          "output_type": "stream",
          "name": "stderr",
          "text": [
            " 38%|███▊      | 1919/5000 [00:14<00:22, 137.15it/s]"
          ]
        },
        {
          "output_type": "stream",
          "name": "stdout",
          "text": [
            "DAgger Epoch [1900/5000], Loss: 0.7997\n"
          ]
        },
        {
          "output_type": "stream",
          "name": "stderr",
          "text": [
            " 40%|████      | 2019/5000 [00:15<00:21, 135.56it/s]"
          ]
        },
        {
          "output_type": "stream",
          "name": "stdout",
          "text": [
            "DAgger Epoch [2000/5000], Loss: 0.7996\n"
          ]
        },
        {
          "output_type": "stream",
          "name": "stderr",
          "text": [
            " 42%|████▏     | 2114/5000 [00:16<00:24, 117.20it/s]"
          ]
        },
        {
          "output_type": "stream",
          "name": "stdout",
          "text": [
            "DAgger Epoch [2100/5000], Loss: 0.7994\n"
          ]
        },
        {
          "output_type": "stream",
          "name": "stderr",
          "text": [
            " 44%|████▍     | 2211/5000 [00:17<00:24, 113.25it/s]"
          ]
        },
        {
          "output_type": "stream",
          "name": "stdout",
          "text": [
            "DAgger Epoch [2200/5000], Loss: 0.7995\n"
          ]
        },
        {
          "output_type": "stream",
          "name": "stderr",
          "text": [
            " 46%|████▋     | 2317/5000 [00:18<00:25, 104.14it/s]"
          ]
        },
        {
          "output_type": "stream",
          "name": "stdout",
          "text": [
            "DAgger Epoch [2300/5000], Loss: 0.8059\n"
          ]
        },
        {
          "output_type": "stream",
          "name": "stderr",
          "text": [
            " 48%|████▊     | 2414/5000 [00:18<00:21, 121.94it/s]"
          ]
        },
        {
          "output_type": "stream",
          "name": "stdout",
          "text": [
            "DAgger Epoch [2400/5000], Loss: 0.7994\n"
          ]
        },
        {
          "output_type": "stream",
          "name": "stderr",
          "text": [
            " 51%|█████     | 2526/5000 [00:19<00:18, 132.84it/s]"
          ]
        },
        {
          "output_type": "stream",
          "name": "stdout",
          "text": [
            "DAgger Epoch [2500/5000], Loss: 0.7973\n"
          ]
        },
        {
          "output_type": "stream",
          "name": "stderr",
          "text": [
            " 53%|█████▎    | 2628/5000 [00:20<00:16, 139.83it/s]"
          ]
        },
        {
          "output_type": "stream",
          "name": "stdout",
          "text": [
            "DAgger Epoch [2600/5000], Loss: 0.7974\n"
          ]
        },
        {
          "output_type": "stream",
          "name": "stderr",
          "text": [
            " 54%|█████▍    | 2714/5000 [00:21<00:16, 135.88it/s]"
          ]
        },
        {
          "output_type": "stream",
          "name": "stdout",
          "text": [
            "DAgger Epoch [2700/5000], Loss: 0.7973\n"
          ]
        },
        {
          "output_type": "stream",
          "name": "stderr",
          "text": [
            " 56%|█████▋    | 2815/5000 [00:21<00:16, 136.27it/s]"
          ]
        },
        {
          "output_type": "stream",
          "name": "stdout",
          "text": [
            "DAgger Epoch [2800/5000], Loss: 0.7974\n"
          ]
        },
        {
          "output_type": "stream",
          "name": "stderr",
          "text": [
            " 58%|█████▊    | 2913/5000 [00:22<00:15, 135.51it/s]"
          ]
        },
        {
          "output_type": "stream",
          "name": "stdout",
          "text": [
            "DAgger Epoch [2900/5000], Loss: 0.8025\n"
          ]
        },
        {
          "output_type": "stream",
          "name": "stderr",
          "text": [
            " 61%|██████    | 3026/5000 [00:23<00:14, 136.99it/s]"
          ]
        },
        {
          "output_type": "stream",
          "name": "stdout",
          "text": [
            "DAgger Epoch [3000/5000], Loss: 0.8003\n"
          ]
        },
        {
          "output_type": "stream",
          "name": "stderr",
          "text": [
            " 62%|██████▏   | 3124/5000 [00:24<00:13, 136.79it/s]"
          ]
        },
        {
          "output_type": "stream",
          "name": "stdout",
          "text": [
            "DAgger Epoch [3100/5000], Loss: 0.7981\n"
          ]
        },
        {
          "output_type": "stream",
          "name": "stderr",
          "text": [
            " 64%|██████▍   | 3222/5000 [00:24<00:13, 133.89it/s]"
          ]
        },
        {
          "output_type": "stream",
          "name": "stdout",
          "text": [
            "DAgger Epoch [3200/5000], Loss: 0.7978\n"
          ]
        },
        {
          "output_type": "stream",
          "name": "stderr",
          "text": [
            " 66%|██████▋   | 3321/5000 [00:25<00:12, 136.87it/s]"
          ]
        },
        {
          "output_type": "stream",
          "name": "stdout",
          "text": [
            "DAgger Epoch [3300/5000], Loss: 0.7978\n"
          ]
        },
        {
          "output_type": "stream",
          "name": "stderr",
          "text": [
            " 68%|██████▊   | 3421/5000 [00:26<00:11, 137.12it/s]"
          ]
        },
        {
          "output_type": "stream",
          "name": "stdout",
          "text": [
            "DAgger Epoch [3400/5000], Loss: 0.7979\n"
          ]
        },
        {
          "output_type": "stream",
          "name": "stderr",
          "text": [
            " 70%|███████   | 3519/5000 [00:27<00:11, 126.59it/s]"
          ]
        },
        {
          "output_type": "stream",
          "name": "stdout",
          "text": [
            "DAgger Epoch [3500/5000], Loss: 0.7981\n"
          ]
        },
        {
          "output_type": "stream",
          "name": "stderr",
          "text": [
            " 72%|███████▏  | 3616/5000 [00:27<00:10, 131.09it/s]"
          ]
        },
        {
          "output_type": "stream",
          "name": "stdout",
          "text": [
            "DAgger Epoch [3600/5000], Loss: 0.8053\n"
          ]
        },
        {
          "output_type": "stream",
          "name": "stderr",
          "text": [
            " 74%|███████▍  | 3714/5000 [00:28<00:09, 135.48it/s]"
          ]
        },
        {
          "output_type": "stream",
          "name": "stdout",
          "text": [
            "DAgger Epoch [3700/5000], Loss: 0.7986\n"
          ]
        },
        {
          "output_type": "stream",
          "name": "stderr",
          "text": [
            " 76%|███████▋  | 3815/5000 [00:29<00:10, 114.02it/s]"
          ]
        },
        {
          "output_type": "stream",
          "name": "stdout",
          "text": [
            "DAgger Epoch [3800/5000], Loss: 0.7975\n"
          ]
        },
        {
          "output_type": "stream",
          "name": "stderr",
          "text": [
            " 78%|███████▊  | 3924/5000 [00:30<00:09, 115.26it/s]"
          ]
        },
        {
          "output_type": "stream",
          "name": "stdout",
          "text": [
            "DAgger Epoch [3900/5000], Loss: 0.7975\n"
          ]
        },
        {
          "output_type": "stream",
          "name": "stderr",
          "text": [
            " 80%|████████  | 4015/5000 [00:31<00:09, 98.56it/s] "
          ]
        },
        {
          "output_type": "stream",
          "name": "stdout",
          "text": [
            "DAgger Epoch [4000/5000], Loss: 0.7978\n"
          ]
        },
        {
          "output_type": "stream",
          "name": "stderr",
          "text": [
            " 82%|████████▏ | 4115/5000 [00:32<00:06, 129.46it/s]"
          ]
        },
        {
          "output_type": "stream",
          "name": "stdout",
          "text": [
            "DAgger Epoch [4100/5000], Loss: 0.7974\n"
          ]
        },
        {
          "output_type": "stream",
          "name": "stderr",
          "text": [
            " 85%|████████▍ | 4226/5000 [00:32<00:05, 132.88it/s]"
          ]
        },
        {
          "output_type": "stream",
          "name": "stdout",
          "text": [
            "DAgger Epoch [4200/5000], Loss: 0.7975\n"
          ]
        },
        {
          "output_type": "stream",
          "name": "stderr",
          "text": [
            " 87%|████████▋ | 4326/5000 [00:33<00:04, 135.07it/s]"
          ]
        },
        {
          "output_type": "stream",
          "name": "stdout",
          "text": [
            "DAgger Epoch [4300/5000], Loss: 0.7990\n"
          ]
        },
        {
          "output_type": "stream",
          "name": "stderr",
          "text": [
            " 88%|████████▊ | 4425/5000 [00:34<00:04, 135.98it/s]"
          ]
        },
        {
          "output_type": "stream",
          "name": "stdout",
          "text": [
            "DAgger Epoch [4400/5000], Loss: 0.8028\n"
          ]
        },
        {
          "output_type": "stream",
          "name": "stderr",
          "text": [
            " 90%|█████████ | 4524/5000 [00:35<00:03, 136.80it/s]"
          ]
        },
        {
          "output_type": "stream",
          "name": "stdout",
          "text": [
            "DAgger Epoch [4500/5000], Loss: 0.7964\n"
          ]
        },
        {
          "output_type": "stream",
          "name": "stderr",
          "text": [
            " 92%|█████████▏| 4623/5000 [00:35<00:02, 135.28it/s]"
          ]
        },
        {
          "output_type": "stream",
          "name": "stdout",
          "text": [
            "DAgger Epoch [4600/5000], Loss: 0.7965\n"
          ]
        },
        {
          "output_type": "stream",
          "name": "stderr",
          "text": [
            " 94%|█████████▍| 4721/5000 [00:36<00:02, 135.12it/s]"
          ]
        },
        {
          "output_type": "stream",
          "name": "stdout",
          "text": [
            "DAgger Epoch [4700/5000], Loss: 0.7962\n"
          ]
        },
        {
          "output_type": "stream",
          "name": "stderr",
          "text": [
            " 96%|█████████▋| 4820/5000 [00:37<00:01, 137.20it/s]"
          ]
        },
        {
          "output_type": "stream",
          "name": "stdout",
          "text": [
            "DAgger Epoch [4800/5000], Loss: 0.7990\n"
          ]
        },
        {
          "output_type": "stream",
          "name": "stderr",
          "text": [
            " 98%|█████████▊| 4918/5000 [00:38<00:00, 134.44it/s]"
          ]
        },
        {
          "output_type": "stream",
          "name": "stdout",
          "text": [
            "DAgger Epoch [4900/5000], Loss: 0.8000\n"
          ]
        },
        {
          "output_type": "stream",
          "name": "stderr",
          "text": [
            "100%|██████████| 5000/5000 [00:38<00:00, 129.27it/s]\n"
          ]
        },
        {
          "output_type": "stream",
          "name": "stdout",
          "text": [
            "DAgger Epoch [5000/5000], Loss: 0.7991\n",
            "## Iteration: 3 ###########\n",
            "Step 1: Generate data from model\n"
          ]
        },
        {
          "output_type": "stream",
          "name": "stderr",
          "text": [
            "100%|██████████| 5/5 [00:16<00:00,  3.28s/it]\n"
          ]
        },
        {
          "output_type": "stream",
          "name": "stdout",
          "text": [
            "Avg. Return : 57.8941585883404\n",
            "Step 2: Label new data with expert policy\n",
            "Step 3: Aggregate new data with all previous data. Size: 3490\n",
            "Step 4: Retrain model with new combined dataset\n"
          ]
        },
        {
          "output_type": "stream",
          "name": "stderr",
          "text": [
            "  2%|▏         | 113/5000 [00:01<00:43, 111.65it/s]"
          ]
        },
        {
          "output_type": "stream",
          "name": "stdout",
          "text": [
            "DAgger Epoch [100/5000], Loss: 0.8242\n"
          ]
        },
        {
          "output_type": "stream",
          "name": "stderr",
          "text": [
            "  4%|▍         | 217/5000 [00:02<00:43, 110.00it/s]"
          ]
        },
        {
          "output_type": "stream",
          "name": "stdout",
          "text": [
            "DAgger Epoch [200/5000], Loss: 0.8058\n"
          ]
        },
        {
          "output_type": "stream",
          "name": "stderr",
          "text": [
            "  6%|▋         | 313/5000 [00:02<00:42, 110.97it/s]"
          ]
        },
        {
          "output_type": "stream",
          "name": "stdout",
          "text": [
            "DAgger Epoch [300/5000], Loss: 0.8029\n"
          ]
        },
        {
          "output_type": "stream",
          "name": "stderr",
          "text": [
            "  8%|▊         | 421/5000 [00:03<00:41, 110.88it/s]"
          ]
        },
        {
          "output_type": "stream",
          "name": "stdout",
          "text": [
            "DAgger Epoch [400/5000], Loss: 0.8059\n"
          ]
        },
        {
          "output_type": "stream",
          "name": "stderr",
          "text": [
            " 10%|█         | 516/5000 [00:04<00:41, 108.29it/s]"
          ]
        },
        {
          "output_type": "stream",
          "name": "stdout",
          "text": [
            "DAgger Epoch [500/5000], Loss: 0.8011\n"
          ]
        },
        {
          "output_type": "stream",
          "name": "stderr",
          "text": [
            " 12%|█▏        | 619/5000 [00:05<00:40, 107.20it/s]"
          ]
        },
        {
          "output_type": "stream",
          "name": "stdout",
          "text": [
            "DAgger Epoch [600/5000], Loss: 0.8087\n"
          ]
        },
        {
          "output_type": "stream",
          "name": "stderr",
          "text": [
            " 14%|█▍        | 713/5000 [00:06<00:39, 108.64it/s]"
          ]
        },
        {
          "output_type": "stream",
          "name": "stdout",
          "text": [
            "DAgger Epoch [700/5000], Loss: 0.8047\n"
          ]
        },
        {
          "output_type": "stream",
          "name": "stderr",
          "text": [
            " 16%|█▋        | 817/5000 [00:07<00:38, 109.20it/s]"
          ]
        },
        {
          "output_type": "stream",
          "name": "stdout",
          "text": [
            "DAgger Epoch [800/5000], Loss: 0.8064\n"
          ]
        },
        {
          "output_type": "stream",
          "name": "stderr",
          "text": [
            " 18%|█▊        | 910/5000 [00:08<00:37, 110.40it/s]"
          ]
        },
        {
          "output_type": "stream",
          "name": "stdout",
          "text": [
            "DAgger Epoch [900/5000], Loss: 0.8046\n"
          ]
        },
        {
          "output_type": "stream",
          "name": "stderr",
          "text": [
            " 20%|██        | 1012/5000 [00:09<00:37, 105.57it/s]"
          ]
        },
        {
          "output_type": "stream",
          "name": "stdout",
          "text": [
            "DAgger Epoch [1000/5000], Loss: 0.8026\n"
          ]
        },
        {
          "output_type": "stream",
          "name": "stderr",
          "text": [
            " 22%|██▏       | 1115/5000 [00:10<00:40, 96.10it/s] "
          ]
        },
        {
          "output_type": "stream",
          "name": "stdout",
          "text": [
            "DAgger Epoch [1100/5000], Loss: 0.8023\n"
          ]
        },
        {
          "output_type": "stream",
          "name": "stderr",
          "text": [
            " 24%|██▍       | 1213/5000 [00:11<00:41, 90.52it/s]"
          ]
        },
        {
          "output_type": "stream",
          "name": "stdout",
          "text": [
            "DAgger Epoch [1200/5000], Loss: 0.8024\n"
          ]
        },
        {
          "output_type": "stream",
          "name": "stderr",
          "text": [
            " 26%|██▌       | 1308/5000 [00:12<00:44, 82.89it/s]"
          ]
        },
        {
          "output_type": "stream",
          "name": "stdout",
          "text": [
            "DAgger Epoch [1300/5000], Loss: 0.8086\n"
          ]
        },
        {
          "output_type": "stream",
          "name": "stderr",
          "text": [
            " 28%|██▊       | 1422/5000 [00:13<00:33, 105.93it/s]"
          ]
        },
        {
          "output_type": "stream",
          "name": "stdout",
          "text": [
            "DAgger Epoch [1400/5000], Loss: 0.8072\n"
          ]
        },
        {
          "output_type": "stream",
          "name": "stderr",
          "text": [
            " 30%|███       | 1516/5000 [00:14<00:31, 108.96it/s]"
          ]
        },
        {
          "output_type": "stream",
          "name": "stdout",
          "text": [
            "DAgger Epoch [1500/5000], Loss: 0.8013\n"
          ]
        },
        {
          "output_type": "stream",
          "name": "stderr",
          "text": [
            " 32%|███▏      | 1618/5000 [00:15<00:31, 108.68it/s]"
          ]
        },
        {
          "output_type": "stream",
          "name": "stdout",
          "text": [
            "DAgger Epoch [1600/5000], Loss: 0.8035\n"
          ]
        },
        {
          "output_type": "stream",
          "name": "stderr",
          "text": [
            " 34%|███▍      | 1718/5000 [00:16<00:30, 107.13it/s]"
          ]
        },
        {
          "output_type": "stream",
          "name": "stdout",
          "text": [
            "DAgger Epoch [1700/5000], Loss: 0.8041\n"
          ]
        },
        {
          "output_type": "stream",
          "name": "stderr",
          "text": [
            " 36%|███▋      | 1819/5000 [00:17<00:29, 108.89it/s]"
          ]
        },
        {
          "output_type": "stream",
          "name": "stdout",
          "text": [
            "DAgger Epoch [1800/5000], Loss: 0.8012\n"
          ]
        },
        {
          "output_type": "stream",
          "name": "stderr",
          "text": [
            " 38%|███▊      | 1912/5000 [00:18<00:27, 111.26it/s]"
          ]
        },
        {
          "output_type": "stream",
          "name": "stdout",
          "text": [
            "DAgger Epoch [1900/5000], Loss: 0.8062\n"
          ]
        },
        {
          "output_type": "stream",
          "name": "stderr",
          "text": [
            " 40%|████      | 2017/5000 [00:19<00:28, 106.03it/s]"
          ]
        },
        {
          "output_type": "stream",
          "name": "stdout",
          "text": [
            "DAgger Epoch [2000/5000], Loss: 0.8013\n"
          ]
        },
        {
          "output_type": "stream",
          "name": "stderr",
          "text": [
            " 42%|████▏     | 2120/5000 [00:20<00:26, 109.71it/s]"
          ]
        },
        {
          "output_type": "stream",
          "name": "stdout",
          "text": [
            "DAgger Epoch [2100/5000], Loss: 0.8004\n"
          ]
        },
        {
          "output_type": "stream",
          "name": "stderr",
          "text": [
            " 44%|████▍     | 2216/5000 [00:21<00:25, 110.30it/s]"
          ]
        },
        {
          "output_type": "stream",
          "name": "stdout",
          "text": [
            "DAgger Epoch [2200/5000], Loss: 0.8010\n"
          ]
        },
        {
          "output_type": "stream",
          "name": "stderr",
          "text": [
            " 46%|████▋     | 2319/5000 [00:21<00:24, 108.29it/s]"
          ]
        },
        {
          "output_type": "stream",
          "name": "stdout",
          "text": [
            "DAgger Epoch [2300/5000], Loss: 0.8091\n"
          ]
        },
        {
          "output_type": "stream",
          "name": "stderr",
          "text": [
            " 48%|████▊     | 2422/5000 [00:22<00:23, 110.78it/s]"
          ]
        },
        {
          "output_type": "stream",
          "name": "stdout",
          "text": [
            "DAgger Epoch [2400/5000], Loss: 0.8053\n"
          ]
        },
        {
          "output_type": "stream",
          "name": "stderr",
          "text": [
            " 50%|█████     | 2515/5000 [00:23<00:26, 92.40it/s]"
          ]
        },
        {
          "output_type": "stream",
          "name": "stdout",
          "text": [
            "DAgger Epoch [2500/5000], Loss: 0.8034\n"
          ]
        },
        {
          "output_type": "stream",
          "name": "stderr",
          "text": [
            " 52%|█████▏    | 2614/5000 [00:25<00:27, 88.13it/s]"
          ]
        },
        {
          "output_type": "stream",
          "name": "stdout",
          "text": [
            "DAgger Epoch [2600/5000], Loss: 0.8034\n"
          ]
        },
        {
          "output_type": "stream",
          "name": "stderr",
          "text": [
            " 54%|█████▍    | 2721/5000 [00:26<00:22, 100.25it/s]"
          ]
        },
        {
          "output_type": "stream",
          "name": "stdout",
          "text": [
            "DAgger Epoch [2700/5000], Loss: 0.8086\n"
          ]
        },
        {
          "output_type": "stream",
          "name": "stderr",
          "text": [
            " 56%|█████▋    | 2813/5000 [00:27<00:19, 109.56it/s]"
          ]
        },
        {
          "output_type": "stream",
          "name": "stdout",
          "text": [
            "DAgger Epoch [2800/5000], Loss: 0.8049\n"
          ]
        },
        {
          "output_type": "stream",
          "name": "stderr",
          "text": [
            " 58%|█████▊    | 2917/5000 [00:28<00:18, 110.58it/s]"
          ]
        },
        {
          "output_type": "stream",
          "name": "stdout",
          "text": [
            "DAgger Epoch [2900/5000], Loss: 0.8003\n"
          ]
        },
        {
          "output_type": "stream",
          "name": "stderr",
          "text": [
            " 60%|██████    | 3012/5000 [00:28<00:17, 112.00it/s]"
          ]
        },
        {
          "output_type": "stream",
          "name": "stdout",
          "text": [
            "DAgger Epoch [3000/5000], Loss: 0.8046\n"
          ]
        },
        {
          "output_type": "stream",
          "name": "stderr",
          "text": [
            " 62%|██████▏   | 3115/5000 [00:29<00:17, 107.69it/s]"
          ]
        },
        {
          "output_type": "stream",
          "name": "stdout",
          "text": [
            "DAgger Epoch [3100/5000], Loss: 0.8015\n"
          ]
        },
        {
          "output_type": "stream",
          "name": "stderr",
          "text": [
            " 64%|██████▍   | 3217/5000 [00:30<00:16, 108.84it/s]"
          ]
        },
        {
          "output_type": "stream",
          "name": "stdout",
          "text": [
            "DAgger Epoch [3200/5000], Loss: 0.8006\n"
          ]
        },
        {
          "output_type": "stream",
          "name": "stderr",
          "text": [
            " 66%|██████▋   | 3321/5000 [00:31<00:15, 107.35it/s]"
          ]
        },
        {
          "output_type": "stream",
          "name": "stdout",
          "text": [
            "DAgger Epoch [3300/5000], Loss: 0.8106\n"
          ]
        },
        {
          "output_type": "stream",
          "name": "stderr",
          "text": [
            " 68%|██████▊   | 3415/5000 [00:32<00:14, 109.18it/s]"
          ]
        },
        {
          "output_type": "stream",
          "name": "stdout",
          "text": [
            "DAgger Epoch [3400/5000], Loss: 0.8022\n"
          ]
        },
        {
          "output_type": "stream",
          "name": "stderr",
          "text": [
            " 70%|███████   | 3522/5000 [00:33<00:13, 109.60it/s]"
          ]
        },
        {
          "output_type": "stream",
          "name": "stdout",
          "text": [
            "DAgger Epoch [3500/5000], Loss: 0.8012\n"
          ]
        },
        {
          "output_type": "stream",
          "name": "stderr",
          "text": [
            " 72%|███████▏  | 3616/5000 [00:34<00:12, 107.43it/s]"
          ]
        },
        {
          "output_type": "stream",
          "name": "stdout",
          "text": [
            "DAgger Epoch [3600/5000], Loss: 0.8012\n"
          ]
        },
        {
          "output_type": "stream",
          "name": "stderr",
          "text": [
            " 74%|███████▍  | 3719/5000 [00:35<00:11, 107.70it/s]"
          ]
        },
        {
          "output_type": "stream",
          "name": "stdout",
          "text": [
            "DAgger Epoch [3700/5000], Loss: 0.8017\n"
          ]
        },
        {
          "output_type": "stream",
          "name": "stderr",
          "text": [
            " 76%|███████▋  | 3815/5000 [00:36<00:13, 86.03it/s]"
          ]
        },
        {
          "output_type": "stream",
          "name": "stdout",
          "text": [
            "DAgger Epoch [3800/5000], Loss: 0.8019\n"
          ]
        },
        {
          "output_type": "stream",
          "name": "stderr",
          "text": [
            " 78%|███████▊  | 3912/5000 [00:37<00:12, 85.52it/s]"
          ]
        },
        {
          "output_type": "stream",
          "name": "stdout",
          "text": [
            "DAgger Epoch [3900/5000], Loss: 0.8054\n"
          ]
        },
        {
          "output_type": "stream",
          "name": "stderr",
          "text": [
            " 80%|████████  | 4010/5000 [00:38<00:13, 75.93it/s]"
          ]
        },
        {
          "output_type": "stream",
          "name": "stdout",
          "text": [
            "DAgger Epoch [4000/5000], Loss: 0.8078\n"
          ]
        },
        {
          "output_type": "stream",
          "name": "stderr",
          "text": [
            " 82%|████████▏ | 4118/5000 [00:39<00:08, 101.71it/s]"
          ]
        },
        {
          "output_type": "stream",
          "name": "stdout",
          "text": [
            "DAgger Epoch [4100/5000], Loss: 0.8025\n"
          ]
        },
        {
          "output_type": "stream",
          "name": "stderr",
          "text": [
            " 84%|████████▍ | 4219/5000 [00:40<00:07, 105.85it/s]"
          ]
        },
        {
          "output_type": "stream",
          "name": "stdout",
          "text": [
            "DAgger Epoch [4200/5000], Loss: 0.8033\n"
          ]
        },
        {
          "output_type": "stream",
          "name": "stderr",
          "text": [
            " 86%|████████▌ | 4310/5000 [00:41<00:06, 106.58it/s]"
          ]
        },
        {
          "output_type": "stream",
          "name": "stdout",
          "text": [
            "DAgger Epoch [4300/5000], Loss: 0.7999\n"
          ]
        },
        {
          "output_type": "stream",
          "name": "stderr",
          "text": [
            " 88%|████████▊ | 4414/5000 [00:42<00:05, 108.24it/s]"
          ]
        },
        {
          "output_type": "stream",
          "name": "stdout",
          "text": [
            "DAgger Epoch [4400/5000], Loss: 0.8000\n"
          ]
        },
        {
          "output_type": "stream",
          "name": "stderr",
          "text": [
            " 90%|█████████ | 4514/5000 [00:43<00:04, 106.89it/s]"
          ]
        },
        {
          "output_type": "stream",
          "name": "stdout",
          "text": [
            "DAgger Epoch [4500/5000], Loss: 0.8002\n"
          ]
        },
        {
          "output_type": "stream",
          "name": "stderr",
          "text": [
            " 92%|█████████▏| 4614/5000 [00:44<00:03, 107.18it/s]"
          ]
        },
        {
          "output_type": "stream",
          "name": "stdout",
          "text": [
            "DAgger Epoch [4600/5000], Loss: 0.8055\n"
          ]
        },
        {
          "output_type": "stream",
          "name": "stderr",
          "text": [
            " 94%|█████████▍| 4715/5000 [00:45<00:02, 107.42it/s]"
          ]
        },
        {
          "output_type": "stream",
          "name": "stdout",
          "text": [
            "DAgger Epoch [4700/5000], Loss: 0.8037\n"
          ]
        },
        {
          "output_type": "stream",
          "name": "stderr",
          "text": [
            " 96%|█████████▋| 4816/5000 [00:46<00:01, 105.36it/s]"
          ]
        },
        {
          "output_type": "stream",
          "name": "stdout",
          "text": [
            "DAgger Epoch [4800/5000], Loss: 0.8023\n"
          ]
        },
        {
          "output_type": "stream",
          "name": "stderr",
          "text": [
            " 98%|█████████▊| 4919/5000 [00:47<00:00, 109.80it/s]"
          ]
        },
        {
          "output_type": "stream",
          "name": "stdout",
          "text": [
            "DAgger Epoch [4900/5000], Loss: 0.8022\n"
          ]
        },
        {
          "output_type": "stream",
          "name": "stderr",
          "text": [
            "100%|██████████| 5000/5000 [00:48<00:00, 103.93it/s]\n"
          ]
        },
        {
          "output_type": "stream",
          "name": "stdout",
          "text": [
            "DAgger Epoch [5000/5000], Loss: 0.8024\n",
            "## Iteration: 4 ###########\n",
            "Step 1: Generate data from model\n"
          ]
        },
        {
          "output_type": "stream",
          "name": "stderr",
          "text": [
            "100%|██████████| 5/5 [00:24<00:00,  4.93s/it]\n"
          ]
        },
        {
          "output_type": "stream",
          "name": "stdout",
          "text": [
            "Avg. Return : 249.6398283395274\n",
            "Step 2: Label new data with expert policy\n",
            "Step 3: Aggregate new data with all previous data. Size: 4296\n",
            "Step 4: Retrain model with new combined dataset\n"
          ]
        },
        {
          "output_type": "stream",
          "name": "stderr",
          "text": [
            "  2%|▏         | 112/5000 [00:01<01:15, 64.65it/s]"
          ]
        },
        {
          "output_type": "stream",
          "name": "stdout",
          "text": [
            "DAgger Epoch [100/5000], Loss: 0.8168\n"
          ]
        },
        {
          "output_type": "stream",
          "name": "stderr",
          "text": [
            "  4%|▍         | 209/5000 [00:02<00:53, 88.80it/s]"
          ]
        },
        {
          "output_type": "stream",
          "name": "stdout",
          "text": [
            "DAgger Epoch [200/5000], Loss: 0.8121\n"
          ]
        },
        {
          "output_type": "stream",
          "name": "stderr",
          "text": [
            "  6%|▋         | 316/5000 [00:03<00:51, 90.69it/s]"
          ]
        },
        {
          "output_type": "stream",
          "name": "stdout",
          "text": [
            "DAgger Epoch [300/5000], Loss: 0.8107\n"
          ]
        },
        {
          "output_type": "stream",
          "name": "stderr",
          "text": [
            "  8%|▊         | 413/5000 [00:05<00:50, 90.50it/s]"
          ]
        },
        {
          "output_type": "stream",
          "name": "stdout",
          "text": [
            "DAgger Epoch [400/5000], Loss: 0.8085\n"
          ]
        },
        {
          "output_type": "stream",
          "name": "stderr",
          "text": [
            " 10%|█         | 513/5000 [00:06<00:48, 92.46it/s]"
          ]
        },
        {
          "output_type": "stream",
          "name": "stdout",
          "text": [
            "DAgger Epoch [500/5000], Loss: 0.8079\n"
          ]
        },
        {
          "output_type": "stream",
          "name": "stderr",
          "text": [
            " 12%|█▏        | 613/5000 [00:07<00:47, 92.35it/s]"
          ]
        },
        {
          "output_type": "stream",
          "name": "stdout",
          "text": [
            "DAgger Epoch [600/5000], Loss: 0.8098\n"
          ]
        },
        {
          "output_type": "stream",
          "name": "stderr",
          "text": [
            " 14%|█▍        | 713/5000 [00:08<00:47, 91.04it/s]"
          ]
        },
        {
          "output_type": "stream",
          "name": "stdout",
          "text": [
            "DAgger Epoch [700/5000], Loss: 0.8101\n"
          ]
        },
        {
          "output_type": "stream",
          "name": "stderr",
          "text": [
            " 16%|█▋        | 813/5000 [00:09<00:46, 90.13it/s]"
          ]
        },
        {
          "output_type": "stream",
          "name": "stdout",
          "text": [
            "DAgger Epoch [800/5000], Loss: 0.8083\n"
          ]
        },
        {
          "output_type": "stream",
          "name": "stderr",
          "text": [
            " 18%|█▊        | 913/5000 [00:10<00:44, 92.76it/s]"
          ]
        },
        {
          "output_type": "stream",
          "name": "stdout",
          "text": [
            "DAgger Epoch [900/5000], Loss: 0.8099\n"
          ]
        },
        {
          "output_type": "stream",
          "name": "stderr",
          "text": [
            " 20%|██        | 1013/5000 [00:11<00:43, 90.82it/s]"
          ]
        },
        {
          "output_type": "stream",
          "name": "stdout",
          "text": [
            "DAgger Epoch [1000/5000], Loss: 0.8080\n"
          ]
        },
        {
          "output_type": "stream",
          "name": "stderr",
          "text": [
            " 22%|██▏       | 1108/5000 [00:12<00:52, 74.56it/s]"
          ]
        },
        {
          "output_type": "stream",
          "name": "stdout",
          "text": [
            "DAgger Epoch [1100/5000], Loss: 0.8084\n"
          ]
        },
        {
          "output_type": "stream",
          "name": "stderr",
          "text": [
            " 24%|██▍       | 1212/5000 [00:14<00:55, 68.56it/s]"
          ]
        },
        {
          "output_type": "stream",
          "name": "stdout",
          "text": [
            "DAgger Epoch [1200/5000], Loss: 0.8063\n"
          ]
        },
        {
          "output_type": "stream",
          "name": "stderr",
          "text": [
            " 26%|██▋       | 1316/5000 [00:15<00:41, 88.97it/s]"
          ]
        },
        {
          "output_type": "stream",
          "name": "stdout",
          "text": [
            "DAgger Epoch [1300/5000], Loss: 0.8061\n"
          ]
        },
        {
          "output_type": "stream",
          "name": "stderr",
          "text": [
            " 28%|██▊       | 1412/5000 [00:16<00:40, 88.00it/s]"
          ]
        },
        {
          "output_type": "stream",
          "name": "stdout",
          "text": [
            "DAgger Epoch [1400/5000], Loss: 0.8118\n"
          ]
        },
        {
          "output_type": "stream",
          "name": "stderr",
          "text": [
            " 30%|███       | 1514/5000 [00:17<00:40, 87.07it/s]"
          ]
        },
        {
          "output_type": "stream",
          "name": "stdout",
          "text": [
            "DAgger Epoch [1500/5000], Loss: 0.8109\n"
          ]
        },
        {
          "output_type": "stream",
          "name": "stderr",
          "text": [
            " 32%|███▏      | 1610/5000 [00:18<00:38, 88.90it/s]"
          ]
        },
        {
          "output_type": "stream",
          "name": "stdout",
          "text": [
            "DAgger Epoch [1600/5000], Loss: 0.8080\n"
          ]
        },
        {
          "output_type": "stream",
          "name": "stderr",
          "text": [
            " 34%|███▍      | 1717/5000 [00:20<00:36, 90.35it/s]"
          ]
        },
        {
          "output_type": "stream",
          "name": "stdout",
          "text": [
            "DAgger Epoch [1700/5000], Loss: 0.8059\n"
          ]
        },
        {
          "output_type": "stream",
          "name": "stderr",
          "text": [
            " 36%|███▋      | 1813/5000 [00:21<00:35, 89.35it/s]"
          ]
        },
        {
          "output_type": "stream",
          "name": "stdout",
          "text": [
            "DAgger Epoch [1800/5000], Loss: 0.8059\n"
          ]
        },
        {
          "output_type": "stream",
          "name": "stderr",
          "text": [
            " 38%|███▊      | 1910/5000 [00:22<00:35, 88.18it/s]"
          ]
        },
        {
          "output_type": "stream",
          "name": "stdout",
          "text": [
            "DAgger Epoch [1900/5000], Loss: 0.8059\n"
          ]
        },
        {
          "output_type": "stream",
          "name": "stderr",
          "text": [
            " 40%|████      | 2017/5000 [00:23<00:33, 90.35it/s]"
          ]
        },
        {
          "output_type": "stream",
          "name": "stdout",
          "text": [
            "DAgger Epoch [2000/5000], Loss: 0.8139\n"
          ]
        },
        {
          "output_type": "stream",
          "name": "stderr",
          "text": [
            " 42%|████▏     | 2117/5000 [00:24<00:31, 91.82it/s]"
          ]
        },
        {
          "output_type": "stream",
          "name": "stdout",
          "text": [
            "DAgger Epoch [2100/5000], Loss: 0.8081\n"
          ]
        },
        {
          "output_type": "stream",
          "name": "stderr",
          "text": [
            " 44%|████▍     | 2213/5000 [00:25<00:36, 75.68it/s]"
          ]
        },
        {
          "output_type": "stream",
          "name": "stdout",
          "text": [
            "DAgger Epoch [2200/5000], Loss: 0.8065\n"
          ]
        },
        {
          "output_type": "stream",
          "name": "stderr",
          "text": [
            " 46%|████▌     | 2308/5000 [00:27<00:40, 67.19it/s]"
          ]
        },
        {
          "output_type": "stream",
          "name": "stdout",
          "text": [
            "DAgger Epoch [2300/5000], Loss: 0.8063\n"
          ]
        },
        {
          "output_type": "stream",
          "name": "stderr",
          "text": [
            " 48%|████▊     | 2417/5000 [00:28<00:29, 86.26it/s]"
          ]
        },
        {
          "output_type": "stream",
          "name": "stdout",
          "text": [
            "DAgger Epoch [2400/5000], Loss: 0.8066\n"
          ]
        },
        {
          "output_type": "stream",
          "name": "stderr",
          "text": [
            " 50%|█████     | 2517/5000 [00:29<00:27, 90.50it/s]"
          ]
        },
        {
          "output_type": "stream",
          "name": "stdout",
          "text": [
            "DAgger Epoch [2500/5000], Loss: 0.8123\n"
          ]
        },
        {
          "output_type": "stream",
          "name": "stderr",
          "text": [
            " 52%|█████▏    | 2613/5000 [00:30<00:26, 90.07it/s]"
          ]
        },
        {
          "output_type": "stream",
          "name": "stdout",
          "text": [
            "DAgger Epoch [2600/5000], Loss: 0.8069\n"
          ]
        },
        {
          "output_type": "stream",
          "name": "stderr",
          "text": [
            " 54%|█████▍    | 2711/5000 [00:31<00:25, 90.69it/s]"
          ]
        },
        {
          "output_type": "stream",
          "name": "stdout",
          "text": [
            "DAgger Epoch [2700/5000], Loss: 0.8047\n"
          ]
        },
        {
          "output_type": "stream",
          "name": "stderr",
          "text": [
            " 56%|█████▌    | 2809/5000 [00:32<00:23, 92.37it/s]"
          ]
        },
        {
          "output_type": "stream",
          "name": "stdout",
          "text": [
            "DAgger Epoch [2800/5000], Loss: 0.8045\n"
          ]
        },
        {
          "output_type": "stream",
          "name": "stderr",
          "text": [
            " 58%|█████▊    | 2919/5000 [00:34<00:22, 92.98it/s]"
          ]
        },
        {
          "output_type": "stream",
          "name": "stdout",
          "text": [
            "DAgger Epoch [2900/5000], Loss: 0.8094\n"
          ]
        },
        {
          "output_type": "stream",
          "name": "stderr",
          "text": [
            " 60%|██████    | 3009/5000 [00:35<00:21, 91.14it/s]"
          ]
        },
        {
          "output_type": "stream",
          "name": "stdout",
          "text": [
            "DAgger Epoch [3000/5000], Loss: 0.8093\n"
          ]
        },
        {
          "output_type": "stream",
          "name": "stderr",
          "text": [
            " 62%|██████▏   | 3118/5000 [00:36<00:20, 90.29it/s]"
          ]
        },
        {
          "output_type": "stream",
          "name": "stdout",
          "text": [
            "DAgger Epoch [3100/5000], Loss: 0.8056\n"
          ]
        },
        {
          "output_type": "stream",
          "name": "stderr",
          "text": [
            " 64%|██████▍   | 3217/5000 [00:37<00:20, 88.16it/s]"
          ]
        },
        {
          "output_type": "stream",
          "name": "stdout",
          "text": [
            "DAgger Epoch [3200/5000], Loss: 0.8048\n"
          ]
        },
        {
          "output_type": "stream",
          "name": "stderr",
          "text": [
            " 66%|██████▋   | 3315/5000 [00:38<00:22, 73.58it/s]"
          ]
        },
        {
          "output_type": "stream",
          "name": "stdout",
          "text": [
            "DAgger Epoch [3300/5000], Loss: 0.8088\n"
          ]
        },
        {
          "output_type": "stream",
          "name": "stderr",
          "text": [
            " 68%|██████▊   | 3411/5000 [00:40<00:22, 72.08it/s]"
          ]
        },
        {
          "output_type": "stream",
          "name": "stdout",
          "text": [
            "DAgger Epoch [3400/5000], Loss: 0.8089\n"
          ]
        },
        {
          "output_type": "stream",
          "name": "stderr",
          "text": [
            " 70%|███████   | 3509/5000 [00:41<00:17, 85.90it/s]"
          ]
        },
        {
          "output_type": "stream",
          "name": "stdout",
          "text": [
            "DAgger Epoch [3500/5000], Loss: 0.8074\n"
          ]
        },
        {
          "output_type": "stream",
          "name": "stderr",
          "text": [
            " 72%|███████▏  | 3616/5000 [00:42<00:14, 92.41it/s]"
          ]
        },
        {
          "output_type": "stream",
          "name": "stdout",
          "text": [
            "DAgger Epoch [3600/5000], Loss: 0.8075\n"
          ]
        },
        {
          "output_type": "stream",
          "name": "stderr",
          "text": [
            " 74%|███████▍  | 3716/5000 [00:43<00:13, 91.94it/s]"
          ]
        },
        {
          "output_type": "stream",
          "name": "stdout",
          "text": [
            "DAgger Epoch [3700/5000], Loss: 0.8053\n"
          ]
        },
        {
          "output_type": "stream",
          "name": "stderr",
          "text": [
            " 76%|███████▋  | 3816/5000 [00:44<00:13, 89.42it/s]"
          ]
        },
        {
          "output_type": "stream",
          "name": "stdout",
          "text": [
            "DAgger Epoch [3800/5000], Loss: 0.8045\n"
          ]
        },
        {
          "output_type": "stream",
          "name": "stderr",
          "text": [
            " 78%|███████▊  | 3915/5000 [00:45<00:12, 88.64it/s]"
          ]
        },
        {
          "output_type": "stream",
          "name": "stdout",
          "text": [
            "DAgger Epoch [3900/5000], Loss: 0.8084\n"
          ]
        },
        {
          "output_type": "stream",
          "name": "stderr",
          "text": [
            " 80%|████████  | 4013/5000 [00:46<00:11, 88.10it/s]"
          ]
        },
        {
          "output_type": "stream",
          "name": "stdout",
          "text": [
            "DAgger Epoch [4000/5000], Loss: 0.8085\n"
          ]
        },
        {
          "output_type": "stream",
          "name": "stderr",
          "text": [
            " 82%|████████▏ | 4109/5000 [00:48<00:10, 87.90it/s]"
          ]
        },
        {
          "output_type": "stream",
          "name": "stdout",
          "text": [
            "DAgger Epoch [4100/5000], Loss: 0.8053\n"
          ]
        },
        {
          "output_type": "stream",
          "name": "stderr",
          "text": [
            " 84%|████████▍ | 4217/5000 [00:49<00:08, 90.54it/s]"
          ]
        },
        {
          "output_type": "stream",
          "name": "stdout",
          "text": [
            "DAgger Epoch [4200/5000], Loss: 0.8074\n"
          ]
        },
        {
          "output_type": "stream",
          "name": "stderr",
          "text": [
            " 86%|████████▋ | 4316/5000 [00:50<00:07, 91.16it/s]"
          ]
        },
        {
          "output_type": "stream",
          "name": "stdout",
          "text": [
            "DAgger Epoch [4300/5000], Loss: 0.8051\n"
          ]
        },
        {
          "output_type": "stream",
          "name": "stderr",
          "text": [
            " 88%|████████▊ | 4408/5000 [00:51<00:07, 75.20it/s]"
          ]
        },
        {
          "output_type": "stream",
          "name": "stdout",
          "text": [
            "DAgger Epoch [4400/5000], Loss: 0.8053\n"
          ]
        },
        {
          "output_type": "stream",
          "name": "stderr",
          "text": [
            " 90%|█████████ | 4513/5000 [00:52<00:06, 72.63it/s]"
          ]
        },
        {
          "output_type": "stream",
          "name": "stdout",
          "text": [
            "DAgger Epoch [4500/5000], Loss: 0.8096\n"
          ]
        },
        {
          "output_type": "stream",
          "name": "stderr",
          "text": [
            " 92%|█████████▏| 4617/5000 [00:54<00:04, 85.68it/s]"
          ]
        },
        {
          "output_type": "stream",
          "name": "stdout",
          "text": [
            "DAgger Epoch [4600/5000], Loss: 0.8067\n"
          ]
        },
        {
          "output_type": "stream",
          "name": "stderr",
          "text": [
            " 94%|█████████▍| 4716/5000 [00:55<00:03, 90.40it/s]"
          ]
        },
        {
          "output_type": "stream",
          "name": "stdout",
          "text": [
            "DAgger Epoch [4700/5000], Loss: 0.8056\n"
          ]
        },
        {
          "output_type": "stream",
          "name": "stderr",
          "text": [
            " 96%|█████████▌| 4808/5000 [00:56<00:02, 85.83it/s]"
          ]
        },
        {
          "output_type": "stream",
          "name": "stdout",
          "text": [
            "DAgger Epoch [4800/5000], Loss: 0.8076\n"
          ]
        },
        {
          "output_type": "stream",
          "name": "stderr",
          "text": [
            " 98%|█████████▊| 4917/5000 [00:57<00:00, 88.94it/s]"
          ]
        },
        {
          "output_type": "stream",
          "name": "stdout",
          "text": [
            "DAgger Epoch [4900/5000], Loss: 0.8076\n"
          ]
        },
        {
          "output_type": "stream",
          "name": "stderr",
          "text": [
            "100%|██████████| 5000/5000 [00:58<00:00, 85.38it/s]"
          ]
        },
        {
          "output_type": "stream",
          "name": "stdout",
          "text": [
            "DAgger Epoch [5000/5000], Loss: 0.8079\n"
          ]
        },
        {
          "output_type": "stream",
          "name": "stderr",
          "text": [
            "\n"
          ]
        }
      ]
    },
    {
      "cell_type": "code",
      "source": [
        "rewards_dagger = evaluate(env, dagger_model.to('cpu'), num_episodes=10)\n",
        "print(f\"Average reward over {len(rewards_dagger)} DAgger episodes: {np.mean(rewards_dagger)}\")"
      ],
      "metadata": {
        "colab": {
          "base_uri": "https://localhost:8080/"
        },
        "id": "Lf8rQBpTwopk",
        "outputId": "ab79a8d2-d562-4729-9ff7-5831f3463f2a"
      },
      "id": "Lf8rQBpTwopk",
      "execution_count": null,
      "outputs": [
        {
          "output_type": "stream",
          "name": "stderr",
          "text": [
            " 10%|█         | 1/10 [00:03<00:33,  3.72s/it]"
          ]
        },
        {
          "output_type": "stream",
          "name": "stdout",
          "text": [
            "Total reward: 271.14617572493114\n"
          ]
        },
        {
          "output_type": "stream",
          "name": "stderr",
          "text": [
            "\r 20%|██        | 2/10 [00:07<00:31,  3.99s/it]"
          ]
        },
        {
          "output_type": "stream",
          "name": "stdout",
          "text": [
            "Total reward: 299.6045541252747\n"
          ]
        },
        {
          "output_type": "stream",
          "name": "stderr",
          "text": [
            "\r 30%|███       | 3/10 [00:28<01:19, 11.37s/it]"
          ]
        },
        {
          "output_type": "stream",
          "name": "stdout",
          "text": [
            "Total reward: 140.94745875158634\n"
          ]
        },
        {
          "output_type": "stream",
          "name": "stderr",
          "text": [
            "\r 40%|████      | 4/10 [00:31<00:48,  8.13s/it]"
          ]
        },
        {
          "output_type": "stream",
          "name": "stdout",
          "text": [
            "Total reward: 277.98145040667197\n"
          ]
        },
        {
          "output_type": "stream",
          "name": "stderr",
          "text": [
            "\r 50%|█████     | 5/10 [00:42<00:46,  9.24s/it]"
          ]
        },
        {
          "output_type": "stream",
          "name": "stdout",
          "text": [
            "Total reward: 284.8003719508205\n"
          ]
        },
        {
          "output_type": "stream",
          "name": "stderr",
          "text": [
            "\r 60%|██████    | 6/10 [00:46<00:29,  7.46s/it]"
          ]
        },
        {
          "output_type": "stream",
          "name": "stdout",
          "text": [
            "Total reward: 293.48486182603193\n"
          ]
        },
        {
          "output_type": "stream",
          "name": "stderr",
          "text": [
            "\r 70%|███████   | 7/10 [00:50<00:18,  6.26s/it]"
          ]
        },
        {
          "output_type": "stream",
          "name": "stdout",
          "text": [
            "Total reward: 314.27617946184677\n"
          ]
        },
        {
          "output_type": "stream",
          "name": "stderr",
          "text": [
            "\r 80%|████████  | 8/10 [00:54<00:11,  5.67s/it]"
          ]
        },
        {
          "output_type": "stream",
          "name": "stdout",
          "text": [
            "Total reward: 287.36772003438426\n"
          ]
        },
        {
          "output_type": "stream",
          "name": "stderr",
          "text": [
            "\r 90%|█████████ | 9/10 [00:57<00:04,  4.83s/it]"
          ]
        },
        {
          "output_type": "stream",
          "name": "stdout",
          "text": [
            "Total reward: 263.8839305287256\n"
          ]
        },
        {
          "output_type": "stream",
          "name": "stderr",
          "text": [
            "100%|██████████| 10/10 [01:01<00:00,  6.18s/it]"
          ]
        },
        {
          "output_type": "stream",
          "name": "stdout",
          "text": [
            "Total reward: 313.1827473175665\n",
            "Average reward over 10 DAgger episodes: 274.667545012784\n"
          ]
        },
        {
          "output_type": "stream",
          "name": "stderr",
          "text": [
            "\n"
          ]
        }
      ]
    },
    {
      "cell_type": "code",
      "source": [
        "make_video(video_env, dagger_model)"
      ],
      "metadata": {
        "colab": {
          "base_uri": "https://localhost:8080/"
        },
        "id": "l7j6hy0hwxqs",
        "outputId": "2b51e2fd-735e-47fb-fda7-ebf23643c240"
      },
      "id": "l7j6hy0hwxqs",
      "execution_count": null,
      "outputs": [
        {
          "output_type": "stream",
          "name": "stdout",
          "text": [
            "Steps: 146\n"
          ]
        }
      ]
    },
    {
      "cell_type": "code",
      "source": [
        "# Display the video in the notebook\n",
        "video_path = './videos/rl-video-episode-0.mp4'  # Modify this path if necessary\n",
        "display(Video(video_path, embed=True))"
      ],
      "metadata": {
        "colab": {
          "base_uri": "https://localhost:8080/",
          "height": 420
        },
        "id": "rszF4oAZwzvD",
        "outputId": "d87cf41c-04dd-45a6-fb71-0bfeb2c1dbd4"
      },
      "id": "rszF4oAZwzvD",
      "execution_count": null,
      "outputs": [
        {
          "output_type": "display_data",
          "data": {
            "text/plain": [
              "<IPython.core.display.Video object>"
            ],
            "text/html": [
              "<video controls  >\n",
              " <source src=\"data:video/mp4;base64,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\" type=\"video/mp4\">\n",
              " Your browser does not support the video tag.\n",
              " </video>"
            ]
          },
          "metadata": {}
        }
      ]
    },
    {
      "cell_type": "markdown",
      "source": [
        "As you can see in the video, the modified model also find the final point. However, there is no remarkable achievement from second model."
      ],
      "metadata": {
        "id": "wIu8unhCeX2A"
      },
      "id": "wIu8unhCeX2A"
    },
    {
      "cell_type": "markdown",
      "source": [
        "----------------------------------------------"
      ],
      "metadata": {
        "id": "wb_wmfYZpYGE"
      },
      "id": "wb_wmfYZpYGE"
    },
    {
      "cell_type": "markdown",
      "source": [
        "# 2. Change the number of expert demonstration"
      ],
      "metadata": {
        "id": "jO-5FmbwwpX5"
      },
      "id": "jO-5FmbwwpX5"
    },
    {
      "cell_type": "markdown",
      "source": [
        "### What I did\n",
        "\n",
        "I chganged the number of expert data\n",
        "\n",
        "The original function collects data from 10 expert episodes by default (about 500 steps).\n",
        "\n",
        "For the experiment, I created four different datasets by slicing the full expert data:\n",
        "\n",
        "- 5 demos (~250 state-action pairs): less than the default\n",
        "\n",
        "- 10 demos (~500 pairs): same as the default\n",
        "\n",
        "- 25 demos (~1250 pairs): more than the default\n",
        "\n",
        "- 50 demos (~2500 pairs): much more than the default\n",
        "\n",
        "For each dataset:\n",
        "\n",
        "I trained an imitation model for 1000 epochs and recorded the training loss. After that, I evaluated the model for 5 episodes to compute the average reward.\n",
        "\n",
        "Finally, I plotted two graphs:\n",
        "\n",
        "training loss curves over epochs and average reward per demo size"
      ],
      "metadata": {
        "id": "PLExsiO5gsG-"
      },
      "id": "PLExsiO5gsG-"
    },
    {
      "cell_type": "code",
      "source": [
        "demo_sizes = [5, 10, 25, 50]\n",
        "results = {}\n",
        "batch_size = 64\n",
        "num_epochs = 1000\n",
        "\n",
        "for n in demo_sizes:\n",
        "    print(f\"\\n Training with {n} expert episodes\")\n",
        "    limited_data = expert_data[:n * 50]\n",
        "    # generate new data\n",
        "    X = np.array([s for s, a in limited_data])\n",
        "    y = np.array([a for s, a in limited_data])\n",
        "    X_train_tensor = torch.FloatTensor(X).to('cuda')\n",
        "    y_train_tensor = torch.LongTensor(y).to('cuda')\n",
        "    # initailize the model\n",
        "    model = ImitationNetwork(input_dim, output_dim).to('cuda')\n",
        "    optimizer = optim.Adam(model.parameters(), lr=1e-3)\n",
        "    criterion = nn.CrossEntropyLoss()\n",
        "    losses = []\n",
        "    for epoch in range(num_epochs):\n",
        "        indices = np.random.permutation(len(X_train_tensor))\n",
        "        epoch_loss = 0\n",
        "        for i in range(0, len(X_train_tensor), batch_size):\n",
        "            idx = indices[i:i+batch_size]\n",
        "            xb = X_train_tensor[idx]\n",
        "            yb = y_train_tensor[idx]\n",
        "\n",
        "            optimizer.zero_grad()\n",
        "            output = model(xb)\n",
        "            loss = criterion(output, yb)\n",
        "            loss.backward()\n",
        "            optimizer.step()\n",
        "            epoch_loss += loss.item()\n",
        "        losses.append(epoch_loss)\n",
        "\n",
        "    # evalutate\n",
        "    model = model.to('cpu')\n",
        "    rewards = evaluate(env, model, num_episodes=5)\n",
        "    avg_reward = np.mean(rewards)\n",
        "    results[n] = {\n",
        "        'losses': losses,\n",
        "        'avg_reward': avg_reward\n",
        "    }\n",
        "\n",
        "    print(f\" Average reward with {n} demos: {avg_reward:.2f}\")\n"
      ],
      "metadata": {
        "colab": {
          "base_uri": "https://localhost:8080/"
        },
        "id": "3ZQrhxN6D7W2",
        "outputId": "2a3f7458-eb71-431b-e715-a1a428f72e14"
      },
      "id": "3ZQrhxN6D7W2",
      "execution_count": null,
      "outputs": [
        {
          "output_type": "stream",
          "name": "stdout",
          "text": [
            "\n",
            " Training with 5 expert episodes\n"
          ]
        },
        {
          "output_type": "stream",
          "name": "stderr",
          "text": [
            " 20%|██        | 1/5 [00:03<00:12,  3.08s/it]"
          ]
        },
        {
          "output_type": "stream",
          "name": "stdout",
          "text": [
            "Total reward: -106.44540184476695\n"
          ]
        },
        {
          "output_type": "stream",
          "name": "stderr",
          "text": [
            "\r 40%|████      | 2/5 [00:05<00:08,  2.72s/it]"
          ]
        },
        {
          "output_type": "stream",
          "name": "stdout",
          "text": [
            "Total reward: -226.8493568860522\n"
          ]
        },
        {
          "output_type": "stream",
          "name": "stderr",
          "text": [
            "\r 60%|██████    | 3/5 [00:07<00:04,  2.19s/it]"
          ]
        },
        {
          "output_type": "stream",
          "name": "stdout",
          "text": [
            "Total reward: -68.74343102306096\n"
          ]
        },
        {
          "output_type": "stream",
          "name": "stderr",
          "text": [
            "\r 80%|████████  | 4/5 [00:08<00:02,  2.05s/it]"
          ]
        },
        {
          "output_type": "stream",
          "name": "stdout",
          "text": [
            "Total reward: -658.8068004556985\n"
          ]
        },
        {
          "output_type": "stream",
          "name": "stderr",
          "text": [
            "100%|██████████| 5/5 [00:10<00:00,  2.14s/it]"
          ]
        },
        {
          "output_type": "stream",
          "name": "stdout",
          "text": [
            "Total reward: -532.9660006824909\n",
            " Average reward with 5 demos: -318.76\n",
            "\n",
            " Training with 10 expert episodes\n"
          ]
        },
        {
          "output_type": "stream",
          "name": "stderr",
          "text": [
            "\n",
            " 20%|██        | 1/5 [00:03<00:14,  3.68s/it]"
          ]
        },
        {
          "output_type": "stream",
          "name": "stdout",
          "text": [
            "Total reward: 274.3858224742539\n"
          ]
        },
        {
          "output_type": "stream",
          "name": "stderr",
          "text": [
            "\r 40%|████      | 2/5 [00:05<00:07,  2.62s/it]"
          ]
        },
        {
          "output_type": "stream",
          "name": "stdout",
          "text": [
            "Total reward: 29.58169823270211\n"
          ]
        },
        {
          "output_type": "stream",
          "name": "stderr",
          "text": [
            "\r 60%|██████    | 3/5 [00:07<00:04,  2.19s/it]"
          ]
        },
        {
          "output_type": "stream",
          "name": "stdout",
          "text": [
            "Total reward: 14.74676201695003\n"
          ]
        },
        {
          "output_type": "stream",
          "name": "stderr",
          "text": [
            "\r 80%|████████  | 4/5 [00:09<00:02,  2.39s/it]"
          ]
        },
        {
          "output_type": "stream",
          "name": "stdout",
          "text": [
            "Total reward: 41.470148497944194\n"
          ]
        },
        {
          "output_type": "stream",
          "name": "stderr",
          "text": [
            "100%|██████████| 5/5 [00:13<00:00,  2.62s/it]"
          ]
        },
        {
          "output_type": "stream",
          "name": "stdout",
          "text": [
            "Total reward: 29.954219193659753\n",
            " Average reward with 10 demos: 78.03\n",
            "\n",
            " Training with 25 expert episodes\n"
          ]
        },
        {
          "output_type": "stream",
          "name": "stderr",
          "text": [
            "\n",
            " 20%|██        | 1/5 [00:01<00:07,  1.90s/it]"
          ]
        },
        {
          "output_type": "stream",
          "name": "stdout",
          "text": [
            "Total reward: -582.8638555924449\n"
          ]
        },
        {
          "output_type": "stream",
          "name": "stderr",
          "text": [
            "\r 40%|████      | 2/5 [00:03<00:05,  1.78s/it]"
          ]
        },
        {
          "output_type": "stream",
          "name": "stdout",
          "text": [
            "Total reward: 1.8164926714668184\n"
          ]
        },
        {
          "output_type": "stream",
          "name": "stderr",
          "text": [
            "\r 60%|██████    | 3/5 [00:05<00:03,  1.82s/it]"
          ]
        },
        {
          "output_type": "stream",
          "name": "stdout",
          "text": [
            "Total reward: -524.8949636292166\n"
          ]
        },
        {
          "output_type": "stream",
          "name": "stderr",
          "text": [
            "\r 80%|████████  | 4/5 [00:07<00:01,  1.83s/it]"
          ]
        },
        {
          "output_type": "stream",
          "name": "stdout",
          "text": [
            "Total reward: -658.6664402484635\n"
          ]
        },
        {
          "output_type": "stream",
          "name": "stderr",
          "text": [
            "100%|██████████| 5/5 [00:09<00:00,  1.92s/it]"
          ]
        },
        {
          "output_type": "stream",
          "name": "stdout",
          "text": [
            "Total reward: -26.751833471747673\n",
            " Average reward with 25 demos: -358.27\n",
            "\n",
            " Training with 50 expert episodes\n"
          ]
        },
        {
          "output_type": "stream",
          "name": "stderr",
          "text": [
            "\n",
            " 20%|██        | 1/5 [00:01<00:06,  1.68s/it]"
          ]
        },
        {
          "output_type": "stream",
          "name": "stdout",
          "text": [
            "Total reward: -294.8439460229637\n"
          ]
        },
        {
          "output_type": "stream",
          "name": "stderr",
          "text": [
            "\r 40%|████      | 2/5 [00:03<00:04,  1.65s/it]"
          ]
        },
        {
          "output_type": "stream",
          "name": "stdout",
          "text": [
            "Total reward: -380.08404349241084\n"
          ]
        },
        {
          "output_type": "stream",
          "name": "stderr",
          "text": [
            "\r 60%|██████    | 3/5 [00:06<00:04,  2.29s/it]"
          ]
        },
        {
          "output_type": "stream",
          "name": "stdout",
          "text": [
            "Total reward: -216.70416030262052\n"
          ]
        },
        {
          "output_type": "stream",
          "name": "stderr",
          "text": [
            "\r 80%|████████  | 4/5 [00:08<00:02,  2.09s/it]"
          ]
        },
        {
          "output_type": "stream",
          "name": "stdout",
          "text": [
            "Total reward: -322.4751834356349\n"
          ]
        },
        {
          "output_type": "stream",
          "name": "stderr",
          "text": [
            "100%|██████████| 5/5 [00:10<00:00,  2.20s/it]"
          ]
        },
        {
          "output_type": "stream",
          "name": "stdout",
          "text": [
            "Total reward: 255.0110694691901\n",
            " Average reward with 50 demos: -191.82\n"
          ]
        },
        {
          "output_type": "stream",
          "name": "stderr",
          "text": [
            "\n"
          ]
        }
      ]
    },
    {
      "cell_type": "code",
      "source": [
        "\n",
        "# plot the loss graph\n",
        "for n in demo_sizes:\n",
        "    plt.plot(results[n]['losses'], label=f\"{n} demos\")\n",
        "plt.xlabel(\"Epoch\")\n",
        "plt.ylabel(\"Training Loss\")\n",
        "plt.title(\"Training Loss vs Expert Demonstration Size\")\n",
        "plt.legend()\n",
        "plt.grid(True)\n",
        "plt.show()\n",
        "print(\"\\n\")\n",
        "# plot the rewards\n",
        "plt.bar([str(n) for n in demo_sizes], [results[n]['avg_reward'] for n in demo_sizes])\n",
        "plt.xlabel(\"Number of Expert Episodes\")\n",
        "plt.ylabel(\"Average Reward\")\n",
        "plt.title(\"Reward vs Expert Demonstration Size\")\n",
        "plt.grid(True)\n",
        "plt.show()\n"
      ],
      "metadata": {
        "colab": {
          "base_uri": "https://localhost:8080/",
          "height": 964
        },
        "id": "UeVIrfasFOKu",
        "outputId": "2cf3f3c5-4869-475d-98c6-9cb0d50adb9c"
      },
      "id": "UeVIrfasFOKu",
      "execution_count": null,
      "outputs": [
        {
          "output_type": "display_data",
          "data": {
            "text/plain": [
              "<Figure size 640x480 with 1 Axes>"
            ],
            "image/png": "[encoded data removed]"
          },
          "metadata": {}
        },
        {
          "output_type": "stream",
          "name": "stdout",
          "text": [
            "\n",
            "\n"
          ]
        },
        {
          "output_type": "display_data",
          "data": {
            "text/plain": [
              "<Figure size 640x480 with 1 Axes>"
            ],
            "image/png": "[encoded data removed]"
          },
          "metadata": {}
        }
      ]
    },
    {
      "cell_type": "markdown",
      "source": [
        "### Results\n",
        "1.  Training Loss based on demo Size\n",
        "  - Models trained on smaller datasets (5 demos) had much lower training loss.\n",
        "\n",
        "  - I think this is because they can easily memorize the small dataset (overfitting).\n",
        "\n",
        "  - Models trained on larger datasets (25 or 50 demos) had higher loss, because they had to generalize more and couldn't memorize everything.\n",
        "\n",
        "2. Average Reward based on Demo Size\n",
        "  - Surprisingly, the model trained with 10 demos (default amount) performed the best.\n",
        "\n",
        "  - 5 demos led to overfitting → low reward.\n",
        "\n",
        "  - 25 and 50 demos gave even worse results.\n",
        "  Possibly due to underfitting (model too simple for large data) Or the model needed more epochs or better architecture for complex data"
      ],
      "metadata": {
        "id": "-_lZSnL6hRmz"
      },
      "id": "-_lZSnL6hRmz"
    },
    {
      "cell_type": "markdown",
      "source": [
        "---------------------------------------"
      ],
      "metadata": {
        "id": "09eivZufpV6F"
      },
      "id": "09eivZufpV6F"
    },
    {
      "cell_type": "markdown",
      "source": [
        "# 3. Modify the expert policy to see its effect."
      ],
      "metadata": {
        "id": "bRXKrjKWh3Ts"
      },
      "id": "bRXKrjKWh3Ts"
    },
    {
      "cell_type": "markdown",
      "source": [
        "###  What I did\n",
        "\n",
        "- I created a noisy expert using an epsilon-greedy strategy: With probability epsilon, take a random action. Otherwise, follow the expert policy\n",
        "\n",
        "- I tested four levels of noise, [0.0, 0.1, 0.3, 0.5]\n",
        "\n",
        "- For each epsilon, I collected expert demonstrations (25 episodes) and trained a behavior cloning model for 500 epochs\n",
        "\n",
        "- I evaluated the model's performance using average reward over 5 episodes\n",
        "\n",
        "- Finally, I plotted the average reward vs. epsilon level"
      ],
      "metadata": {
        "id": "GiAJ0utXo-vz"
      },
      "id": "GiAJ0utXo-vz"
    },
    {
      "cell_type": "code",
      "source": [
        "def noisy_expert_action(state, expert_policy, epsilon=0.2):\n",
        "    if np.random.rand() < epsilon:\n",
        "        return env.action_space.sample()  #it takes random action\n",
        "    else:\n",
        "        action, _ = expert_policy.predict(state)\n",
        "        return action\n"
      ],
      "metadata": {
        "id": "ZxJtaMhXFa9u"
      },
      "id": "ZxJtaMhXFa9u",
      "execution_count": null,
      "outputs": []
    },
    {
      "cell_type": "code",
      "source": [
        "def generate_noisy_expert_data(env, expert_policy, num_episodes=10, epsilon=0.2):\n",
        "    data = []\n",
        "    for _ in range(num_episodes):\n",
        "        state, _ = env.reset()\n",
        "        done = False\n",
        "        while not done:\n",
        "            action = noisy_expert_action(state, expert_policy, epsilon)\n",
        "            data.append((state, action))\n",
        "            state, _, done, _, _ = env.step(action)\n",
        "    return data\n"
      ],
      "metadata": {
        "id": "T4KbgwrJF5UH"
      },
      "id": "T4KbgwrJF5UH",
      "execution_count": null,
      "outputs": []
    },
    {
      "cell_type": "code",
      "source": [
        "epsilons = [0.0, 0.1, 0.3, 0.5]\n",
        "rewards = []\n",
        "\n",
        "for eps in epsilons:\n",
        "    print(f\"\\n Training with noisy expert (epsilon={eps})\")\n",
        "\n",
        "    # collect data\n",
        "    data = generate_noisy_expert_data(env, expert_policy, num_episodes=25, epsilon=eps)\n",
        "\n",
        "    X = np.array([s for s, a in data])\n",
        "    y = np.array([a for s, a in data])\n",
        "    X_tensor = torch.FloatTensor(X).to('cuda')\n",
        "    y_tensor = torch.LongTensor(y).to('cuda')\n",
        "\n",
        "    # define the model and train the model woth epoch 500\n",
        "    model = ImitationNetwork(input_dim, output_dim).to('cuda')\n",
        "    optimizer = optim.Adam(model.parameters(), lr=1e-3)\n",
        "    criterion = nn.CrossEntropyLoss()\n",
        "\n",
        "    for epoch in range(500):\n",
        "        indices = np.random.permutation(len(X))\n",
        "        for i in range(0, len(X), 64):\n",
        "            idx = indices[i:i+64]\n",
        "            xb = X_tensor[idx]\n",
        "            yb = y_tensor[idx]\n",
        "\n",
        "            optimizer.zero_grad()\n",
        "            out = model(xb)\n",
        "            loss = criterion(out, yb)\n",
        "            loss.backward()\n",
        "            optimizer.step()\n",
        "\n",
        "    # model evaluation\n",
        "    reward = np.mean(evaluate(env, model.to('cpu'), num_episodes=5))\n",
        "    rewards.append(reward)\n",
        "    print(f\"Avg reward with epsilon={eps}: {reward:.2f}\")\n"
      ],
      "metadata": {
        "colab": {
          "base_uri": "https://localhost:8080/"
        },
        "id": "t4-UXt14GFdd",
        "outputId": "8fdf2c41-7f29-428f-dd01-73be88e21f3a"
      },
      "id": "t4-UXt14GFdd",
      "execution_count": null,
      "outputs": [
        {
          "output_type": "stream",
          "name": "stdout",
          "text": [
            "\n",
            " Training with noisy expert (epsilon=0.0)\n"
          ]
        },
        {
          "output_type": "stream",
          "name": "stderr",
          "text": [
            " 20%|██        | 1/5 [00:02<00:10,  2.70s/it]"
          ]
        },
        {
          "output_type": "stream",
          "name": "stdout",
          "text": [
            "Total reward: 261.4495512929766\n"
          ]
        },
        {
          "output_type": "stream",
          "name": "stderr",
          "text": [
            "\r 40%|████      | 2/5 [00:06<00:09,  3.19s/it]"
          ]
        },
        {
          "output_type": "stream",
          "name": "stdout",
          "text": [
            "Total reward: 288.4598575861264\n"
          ]
        },
        {
          "output_type": "stream",
          "name": "stderr",
          "text": [
            "\r 60%|██████    | 3/5 [00:09<00:06,  3.31s/it]"
          ]
        },
        {
          "output_type": "stream",
          "name": "stdout",
          "text": [
            "Total reward: 307.4609666049177\n"
          ]
        },
        {
          "output_type": "stream",
          "name": "stderr",
          "text": [
            "\r 80%|████████  | 4/5 [00:13<00:03,  3.34s/it]"
          ]
        },
        {
          "output_type": "stream",
          "name": "stdout",
          "text": [
            "Total reward: 265.70376660688873\n"
          ]
        },
        {
          "output_type": "stream",
          "name": "stderr",
          "text": [
            "100%|██████████| 5/5 [00:16<00:00,  3.34s/it]"
          ]
        },
        {
          "output_type": "stream",
          "name": "stdout",
          "text": [
            "Total reward: 300.93807637345265\n",
            "Avg reward with epsilon=0.0: 284.80\n",
            "\n",
            " Training with noisy expert (epsilon=0.1)\n"
          ]
        },
        {
          "output_type": "stream",
          "name": "stderr",
          "text": [
            "\n",
            " 20%|██        | 1/5 [00:04<00:17,  4.37s/it]"
          ]
        },
        {
          "output_type": "stream",
          "name": "stdout",
          "text": [
            "Total reward: 285.47312758505507\n"
          ]
        },
        {
          "output_type": "stream",
          "name": "stderr",
          "text": [
            "\r 40%|████      | 2/5 [00:07<00:11,  3.86s/it]"
          ]
        },
        {
          "output_type": "stream",
          "name": "stdout",
          "text": [
            "Total reward: 288.37246384142185\n"
          ]
        },
        {
          "output_type": "stream",
          "name": "stderr",
          "text": [
            "\r 60%|██████    | 3/5 [00:11<00:07,  3.65s/it]"
          ]
        },
        {
          "output_type": "stream",
          "name": "stdout",
          "text": [
            "Total reward: 255.90946742396338\n"
          ]
        },
        {
          "output_type": "stream",
          "name": "stderr",
          "text": [
            "\r 80%|████████  | 4/5 [00:14<00:03,  3.65s/it]"
          ]
        },
        {
          "output_type": "stream",
          "name": "stdout",
          "text": [
            "Total reward: 268.83702835891097\n"
          ]
        },
        {
          "output_type": "stream",
          "name": "stderr",
          "text": [
            "100%|██████████| 5/5 [00:19<00:00,  3.83s/it]"
          ]
        },
        {
          "output_type": "stream",
          "name": "stdout",
          "text": [
            "Total reward: 284.0338509276425\n",
            "Avg reward with epsilon=0.1: 276.53\n",
            "\n",
            " Training with noisy expert (epsilon=0.3)\n"
          ]
        },
        {
          "output_type": "stream",
          "name": "stderr",
          "text": [
            "\n",
            " 20%|██        | 1/5 [00:04<00:16,  4.19s/it]"
          ]
        },
        {
          "output_type": "stream",
          "name": "stdout",
          "text": [
            "Total reward: 248.62683390552766\n"
          ]
        },
        {
          "output_type": "stream",
          "name": "stderr",
          "text": [
            "\r 40%|████      | 2/5 [00:06<00:09,  3.24s/it]"
          ]
        },
        {
          "output_type": "stream",
          "name": "stdout",
          "text": [
            "Total reward: 69.58463867465818\n"
          ]
        },
        {
          "output_type": "stream",
          "name": "stderr",
          "text": [
            "\r 60%|██████    | 3/5 [00:09<00:06,  3.09s/it]"
          ]
        },
        {
          "output_type": "stream",
          "name": "stdout",
          "text": [
            "Total reward: 284.32738554316836\n"
          ]
        },
        {
          "output_type": "stream",
          "name": "stderr",
          "text": [
            "\r 80%|████████  | 4/5 [00:15<00:04,  4.19s/it]"
          ]
        },
        {
          "output_type": "stream",
          "name": "stdout",
          "text": [
            "Total reward: 263.33858727792324\n"
          ]
        },
        {
          "output_type": "stream",
          "name": "stderr",
          "text": [
            "100%|██████████| 5/5 [00:35<00:00,  7.14s/it]"
          ]
        },
        {
          "output_type": "stream",
          "name": "stdout",
          "text": [
            "Total reward: 17.117070061316856\n",
            "Avg reward with epsilon=0.3: 176.60\n",
            "\n",
            " Training with noisy expert (epsilon=0.5)\n"
          ]
        },
        {
          "output_type": "stream",
          "name": "stderr",
          "text": [
            "\n",
            " 20%|██        | 1/5 [00:20<01:20, 20.15s/it]"
          ]
        },
        {
          "output_type": "stream",
          "name": "stdout",
          "text": [
            "Total reward: -17.014051523256455\n"
          ]
        },
        {
          "output_type": "stream",
          "name": "stderr",
          "text": [
            "\r 40%|████      | 2/5 [00:40<01:00, 20.16s/it]"
          ]
        },
        {
          "output_type": "stream",
          "name": "stdout",
          "text": [
            "Total reward: -1.719941089763162\n"
          ]
        },
        {
          "output_type": "stream",
          "name": "stderr",
          "text": [
            "\r 60%|██████    | 3/5 [01:00<00:40, 20.16s/it]"
          ]
        },
        {
          "output_type": "stream",
          "name": "stdout",
          "text": [
            "Total reward: -36.07862390562839\n"
          ]
        },
        {
          "output_type": "stream",
          "name": "stderr",
          "text": [
            "\r 80%|████████  | 4/5 [01:20<00:20, 20.15s/it]"
          ]
        },
        {
          "output_type": "stream",
          "name": "stdout",
          "text": [
            "Total reward: -45.92195834499344\n"
          ]
        },
        {
          "output_type": "stream",
          "name": "stderr",
          "text": [
            "100%|██████████| 5/5 [01:40<00:00, 20.15s/it]"
          ]
        },
        {
          "output_type": "stream",
          "name": "stdout",
          "text": [
            "Total reward: -18.537508428371535\n",
            "Avg reward with epsilon=0.5: -23.85\n"
          ]
        },
        {
          "output_type": "stream",
          "name": "stderr",
          "text": [
            "\n"
          ]
        }
      ]
    },
    {
      "cell_type": "code",
      "source": [
        "plt.plot(epsilons, rewards, marker='o')\n",
        "plt.xlabel(\"Epsilon (expert noise level)\")\n",
        "plt.ylabel(\"Average Reward\")\n",
        "plt.title(\"Effect of Noisy Expert on Imitation Learning\")\n",
        "plt.grid(True)\n",
        "plt.show()\n"
      ],
      "metadata": {
        "colab": {
          "base_uri": "https://localhost:8080/",
          "height": 472
        },
        "id": "zEQW2jaTGG1l",
        "outputId": "aff30f9e-f9dd-4112-e044-e43af30ed7c1"
      },
      "id": "zEQW2jaTGG1l",
      "execution_count": null,
      "outputs": [
        {
          "output_type": "display_data",
          "data": {
            "text/plain": [
              "<Figure size 640x480 with 1 Axes>"
            ],
            "image/png": "[encoded data removed]"
          },
          "metadata": {}
        }
      ]
    },
    {
      "cell_type": "markdown",
      "source": [
        "### Results\n",
        "As you can see in the graph,\n",
        "\n",
        "- When epsilon = 0.0 (no noise), the model learned well and achieved a high reward.\n",
        "\n",
        "- Even with epsilon = 0.1, performance stayed almost the same — the model was still able to learn.\n",
        "\n",
        "- At epsilon = 0.3, performance dropped clearly, meaning that the expert was less reliable.\n",
        "\n",
        "- At epsilon = 0.5, performance collapsed. The reason is that the expert acted randomly half the time, and the model failed to imitate.\n",
        "\n"
      ],
      "metadata": {
        "id": "DvqkYW8Epc1F"
      },
      "id": "DvqkYW8Epc1F"
    },
    {
      "cell_type": "code",
      "source": [],
      "metadata": {
        "id": "wYhhlt3bX-5U"
      },
      "id": "wYhhlt3bX-5U",
      "execution_count": null,
      "outputs": []
    }
  ],
  "metadata": {
    "kernelspec": {
      "display_name": "Python 3",
      "name": "python3"
    },
    "language_info": {
      "codemirror_mode": {
        "name": "ipython",
        "version": 3
      },
      "file_extension": ".py",
      "mimetype": "text/x-python",
      "name": "python",
      "nbconvert_exporter": "python",
      "pygments_lexer": "ipython3",
      "version": "3.10.14"
    },
    "colab": {
      "provenance": [],
      "gpuType": "T4"
    },
    "accelerator": "GPU"
  },
  "nbformat": 4,
  "nbformat_minor": 5
}